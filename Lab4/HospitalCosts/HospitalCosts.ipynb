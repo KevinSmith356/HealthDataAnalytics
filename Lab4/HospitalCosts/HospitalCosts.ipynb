import pandas as pd
HospitalCosts=pd.read_csv('HospitalCosts.csv')
HospitalCosts.head()