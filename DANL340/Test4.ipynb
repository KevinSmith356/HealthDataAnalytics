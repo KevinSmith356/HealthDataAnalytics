{
 "cells": [
  {
   "cell_type": "code",
   "execution_count": 20,
   "metadata": {},
   "outputs": [],
   "source": [
    "import pandas as pd\n",
    "import numpy as np\n",
    "from sklearn.linear_model import LinearRegression\n",
    "from sklearn.model_selection import train_test_split\n",
    "from sklearn.metrics import mean_squared_error, r2_score\n",
    "from sklearn.preprocessing import LabelEncoder\n",
    "le = LabelEncoder()\n",
    "import matplotlib.pyplot as plt"
   ]
  },
  {
   "cell_type": "code",
   "execution_count": 21,
   "metadata": {},
   "outputs": [
    {
     "data": {
      "text/html": [
       "<div>\n",
       "<style scoped>\n",
       "    .dataframe tbody tr th:only-of-type {\n",
       "        vertical-align: middle;\n",
       "    }\n",
       "\n",
       "    .dataframe tbody tr th {\n",
       "        vertical-align: top;\n",
       "    }\n",
       "\n",
       "    .dataframe thead th {\n",
       "        text-align: right;\n",
       "    }\n",
       "</style>\n",
       "<table border=\"1\" class=\"dataframe\">\n",
       "  <thead>\n",
       "    <tr style=\"text-align: right;\">\n",
       "      <th></th>\n",
       "      <th>year</th>\n",
       "      <th>census_tract</th>\n",
       "      <th>crime_count</th>\n",
       "      <th>city</th>\n",
       "      <th>state</th>\n",
       "      <th>geography</th>\n",
       "      <th>geographicareaname</th>\n",
       "      <th>population</th>\n",
       "      <th>hrc_count</th>\n",
       "    </tr>\n",
       "  </thead>\n",
       "  <tbody>\n",
       "    <tr>\n",
       "      <th>0</th>\n",
       "      <td>2022</td>\n",
       "      <td>101</td>\n",
       "      <td>19</td>\n",
       "      <td>Washington</td>\n",
       "      <td>DC</td>\n",
       "      <td>1400000US11001000101</td>\n",
       "      <td>Census Tract 1.01, District of Columbia, Distr...</td>\n",
       "      <td>1281</td>\n",
       "      <td>0</td>\n",
       "    </tr>\n",
       "    <tr>\n",
       "      <th>1</th>\n",
       "      <td>2022</td>\n",
       "      <td>102</td>\n",
       "      <td>228</td>\n",
       "      <td>Washington</td>\n",
       "      <td>DC</td>\n",
       "      <td>1400000US11001000102</td>\n",
       "      <td>Census Tract 1.02, District of Columbia, Distr...</td>\n",
       "      <td>3227</td>\n",
       "      <td>0</td>\n",
       "    </tr>\n",
       "    <tr>\n",
       "      <th>2</th>\n",
       "      <td>2022</td>\n",
       "      <td>201</td>\n",
       "      <td>13</td>\n",
       "      <td>Washington</td>\n",
       "      <td>DC</td>\n",
       "      <td>1400000US11001000201</td>\n",
       "      <td>Census Tract 2.01, District of Columbia, Distr...</td>\n",
       "      <td>3938</td>\n",
       "      <td>0</td>\n",
       "    </tr>\n",
       "    <tr>\n",
       "      <th>3</th>\n",
       "      <td>2022</td>\n",
       "      <td>202</td>\n",
       "      <td>202</td>\n",
       "      <td>Washington</td>\n",
       "      <td>DC</td>\n",
       "      <td>1400000US11001000202</td>\n",
       "      <td>Census Tract 2.02, District of Columbia, Distr...</td>\n",
       "      <td>4425</td>\n",
       "      <td>0</td>\n",
       "    </tr>\n",
       "    <tr>\n",
       "      <th>4</th>\n",
       "      <td>2022</td>\n",
       "      <td>300</td>\n",
       "      <td>73</td>\n",
       "      <td>Washington</td>\n",
       "      <td>DC</td>\n",
       "      <td>1400000US11001000300</td>\n",
       "      <td>Census Tract 3, District of Columbia, District...</td>\n",
       "      <td>5966</td>\n",
       "      <td>0</td>\n",
       "    </tr>\n",
       "  </tbody>\n",
       "</table>\n",
       "</div>"
      ],
      "text/plain": [
       "   year  census_tract  crime_count        city state             geography  \\\n",
       "0  2022           101           19  Washington    DC  1400000US11001000101   \n",
       "1  2022           102          228  Washington    DC  1400000US11001000102   \n",
       "2  2022           201           13  Washington    DC  1400000US11001000201   \n",
       "3  2022           202          202  Washington    DC  1400000US11001000202   \n",
       "4  2022           300           73  Washington    DC  1400000US11001000300   \n",
       "\n",
       "                                  geographicareaname  population  hrc_count  \n",
       "0  Census Tract 1.01, District of Columbia, Distr...        1281          0  \n",
       "1  Census Tract 1.02, District of Columbia, Distr...        3227          0  \n",
       "2  Census Tract 2.01, District of Columbia, Distr...        3938          0  \n",
       "3  Census Tract 2.02, District of Columbia, Distr...        4425          0  \n",
       "4  Census Tract 3, District of Columbia, District...        5966          0  "
      ]
     },
     "execution_count": 21,
     "metadata": {},
     "output_type": "execute_result"
    }
   ],
   "source": [
    "# Print out the first 5 rows\n",
    "dc_hrc_crime = pd.read_excel(\"../DANL340/Origin/dc_hrc_crime.xlsx\")\n",
    "dc_hrc_crime.head()"
   ]
  },
  {
   "cell_type": "code",
   "execution_count": 22,
   "metadata": {},
   "outputs": [],
   "source": [
    "# Dividing dataset into categories and numerical columns\n",
    "dc_hrc_crime_cat=dc_hrc_crime.select_dtypes(object)\n",
    "dc_hrc_crime_num=dc_hrc_crime.select_dtypes(np.number)"
   ]
  },
  {
   "cell_type": "code",
   "execution_count": 23,
   "metadata": {},
   "outputs": [],
   "source": [
    "# Convert categories into numerical values\n",
    "dc_hrc_crime_cat = dc_hrc_crime_cat.apply(le.fit_transform)\n",
    "# Combining the categories and numerical into one dataset\n",
    "dc_hrc_crime_final=pd.concat([dc_hrc_crime_cat,dc_hrc_crime_num], axis=1)"
   ]
  },
  {
   "cell_type": "code",
   "execution_count": 27,
   "metadata": {},
   "outputs": [
    {
     "data": {
      "image/png": "[encoded data removed]",
      "text/plain": [
       "<Figure size 640x480 with 1 Axes>"
      ]
     },
     "metadata": {},
     "output_type": "display_data"
    }
   ],
   "source": [
    "# Target/independent variable\n",
    "x = dc_hrc_crime_final[['crime_count']].values\n",
    "# Target variable/dependent variable\n",
    "y = dc_hrc_crime_final['hrc_count'].values\n",
    "\n",
    "# Split data into training and testing sets\n",
    "x_train, x_test, y_train, y_test = train_test_split(x, y, test_size=0.2, random_state=42)\n",
    "\n",
    "regression_model = LinearRegression()\n",
    "\n",
    "# Train the regression model on training data\n",
    "regression_model.fit(x_train, y_train)\n",
    "\n",
    "# Plot the data points and linear regression line\n",
    "plt.scatter(x_test, y_test, color='blue')\n",
    "plt.plot(x_test, regression_model.predict(x_test), color='red')\n",
    "plt.title('Regression of HRC and Crime')\n",
    "plt.xlabel('Crime Count')\n",
    "plt.ylabel('HRC_Count')\n",
    "plt.show()"
   ]
  }
 ],
 "metadata": {
  "kernelspec": {
   "display_name": "Python 3",
   "language": "python",
   "name": "python3"
  },
  "language_info": {
   "codemirror_mode": {
    "name": "ipython",
    "version": 3
   },
   "file_extension": ".py",
   "mimetype": "text/x-python",
   "name": "python",
   "nbconvert_exporter": "python",
   "pygments_lexer": "ipython3",
   "version": "3.11.3"
  },
  "orig_nbformat": 4,
  "vscode": {
   "interpreter": {
    "hash": "d670acca4543613bc71420ba3b408e5826bdc54b760740e8ce26eaf03bb45f97"
   }
  }
 },
 "nbformat": 4,
 "nbformat_minor": 2
}
