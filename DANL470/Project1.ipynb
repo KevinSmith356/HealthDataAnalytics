{
 "cells": [
  {
   "cell_type": "code",
   "execution_count": 276,
   "metadata": {},
   "outputs": [],
   "source": [
    "# Import\n",
    "import pandas as pd\n",
    "import numpy as np\n",
    "from sklearn.linear_model import LinearRegression\n",
    "from sklearn.model_selection import train_test_split\n",
    "from sklearn.metrics import mean_squared_error, r2_score\n",
    "from sklearn.preprocessing import LabelEncoder\n",
    "le = LabelEncoder()\n",
    "import matplotlib.pyplot as plt\n",
    "from pandas import Index"
   ]
  },
  {
   "cell_type": "code",
   "execution_count": 250,
   "metadata": {},
   "outputs": [
    {
     "name": "stdout",
     "output_type": "stream",
     "text": [
      "Requirement already satisfied: openpyxl in c:\\users\\silen\\appdata\\local\\packages\\pythonsoftwarefoundation.python.3.11_qbz5n2kfra8p0\\localcache\\local-packages\\python311\\site-packages (3.1.2)\n",
      "Requirement already satisfied: et-xmlfile in c:\\users\\silen\\appdata\\local\\packages\\pythonsoftwarefoundation.python.3.11_qbz5n2kfra8p0\\localcache\\local-packages\\python311\\site-packages (from openpyxl) (1.1.0)\n",
      "Note: you may need to restart the kernel to use updated packages.\n"
     ]
    },
    {
     "name": "stderr",
     "output_type": "stream",
     "text": [
      "\n",
      "[notice] A new release of pip is available: 23.1 -> 23.1.1\n",
      "[notice] To update, run: C:\\Users\\silen\\AppData\\Local\\Microsoft\\WindowsApps\\PythonSoftwareFoundation.Python.3.11_qbz5n2kfra8p0\\python.exe -m pip install --upgrade pip\n"
     ]
    }
   ],
   "source": [
    "# Pip install to read xlsx files\n",
    "%pip install openpyxl"
   ]
  },
  {
   "cell_type": "code",
   "execution_count": 251,
   "metadata": {},
   "outputs": [],
   "source": [
    "# Load the datasets with correct encoding\n",
    "hospital=pd.read_excel(\"../DANL470/Origin/Clean_Hospitals and Doctors offices.xlsx\")\n",
    "insured=pd.read_excel(\"../DANL470/Origin/Clean_Insured rates.xlsx\")\n",
    "mortality=pd.read_excel(\"../DANL470/Origin/Clean_Maternal Mortality Rates.xlsx\")\n",
    "race_and_age=pd.read_excel(\"../DANL470/Origin/Clean_RaceANDAge.xlsx\")"
   ]
  },
  {
   "cell_type": "code",
   "execution_count": 252,
   "metadata": {},
   "outputs": [
    {
     "data": {
      "text/html": [
       "<div>\n",
       "<style scoped>\n",
       "    .dataframe tbody tr th:only-of-type {\n",
       "        vertical-align: middle;\n",
       "    }\n",
       "\n",
       "    .dataframe tbody tr th {\n",
       "        vertical-align: top;\n",
       "    }\n",
       "\n",
       "    .dataframe thead th {\n",
       "        text-align: right;\n",
       "    }\n",
       "</style>\n",
       "<table border=\"1\" class=\"dataframe\">\n",
       "  <thead>\n",
       "    <tr style=\"text-align: right;\">\n",
       "      <th></th>\n",
       "      <th>Geographic_Area_Name</th>\n",
       "      <th>Meaning_of_NAICS_code</th>\n",
       "      <th>Year</th>\n",
       "      <th>Number_of_establishments</th>\n",
       "      <th>Annual_payroll_($1,000)</th>\n",
       "      <th>Number_of_employees</th>\n",
       "    </tr>\n",
       "  </thead>\n",
       "  <tbody>\n",
       "    <tr>\n",
       "      <th>0</th>\n",
       "      <td>United States</td>\n",
       "      <td>Ambulatory health care services</td>\n",
       "      <td>2020</td>\n",
       "      <td>642970</td>\n",
       "      <td>495769754</td>\n",
       "      <td>7994079</td>\n",
       "    </tr>\n",
       "    <tr>\n",
       "      <th>1</th>\n",
       "      <td>United States</td>\n",
       "      <td>Hospitals</td>\n",
       "      <td>2020</td>\n",
       "      <td>7121</td>\n",
       "      <td>416877873</td>\n",
       "      <td>6184265</td>\n",
       "    </tr>\n",
       "    <tr>\n",
       "      <th>2</th>\n",
       "      <td>United States</td>\n",
       "      <td>Nursing and residential care facilities</td>\n",
       "      <td>2020</td>\n",
       "      <td>93113</td>\n",
       "      <td>116084943</td>\n",
       "      <td>3544511</td>\n",
       "    </tr>\n",
       "    <tr>\n",
       "      <th>3</th>\n",
       "      <td>United States</td>\n",
       "      <td>Social assistance</td>\n",
       "      <td>2020</td>\n",
       "      <td>184970</td>\n",
       "      <td>87763293</td>\n",
       "      <td>3493714</td>\n",
       "    </tr>\n",
       "    <tr>\n",
       "      <th>4</th>\n",
       "      <td>District of Columbia</td>\n",
       "      <td>Ambulatory health care services</td>\n",
       "      <td>2020</td>\n",
       "      <td>1258</td>\n",
       "      <td>1497992</td>\n",
       "      <td>22355</td>\n",
       "    </tr>\n",
       "  </tbody>\n",
       "</table>\n",
       "</div>"
      ],
      "text/plain": [
       "   Geographic_Area_Name                    Meaning_of_NAICS_code  Year  \\\n",
       "0         United States          Ambulatory health care services  2020   \n",
       "1         United States                                Hospitals  2020   \n",
       "2         United States  Nursing and residential care facilities  2020   \n",
       "3         United States                        Social assistance  2020   \n",
       "4  District of Columbia          Ambulatory health care services  2020   \n",
       "\n",
       "   Number_of_establishments  Annual_payroll_($1,000)  Number_of_employees  \n",
       "0                    642970                495769754              7994079  \n",
       "1                      7121                416877873              6184265  \n",
       "2                     93113                116084943              3544511  \n",
       "3                    184970                 87763293              3493714  \n",
       "4                      1258                  1497992                22355  "
      ]
     },
     "execution_count": 252,
     "metadata": {},
     "output_type": "execute_result"
    }
   ],
   "source": [
    "# Print the first 5 rows of hospital\n",
    "hospital.head()"
   ]
  },
  {
   "cell_type": "code",
   "execution_count": 253,
   "metadata": {},
   "outputs": [
    {
     "data": {
      "text/html": [
       "<div>\n",
       "<style scoped>\n",
       "    .dataframe tbody tr th:only-of-type {\n",
       "        vertical-align: middle;\n",
       "    }\n",
       "\n",
       "    .dataframe tbody tr th {\n",
       "        vertical-align: top;\n",
       "    }\n",
       "\n",
       "    .dataframe thead th {\n",
       "        text-align: right;\n",
       "    }\n",
       "</style>\n",
       "<table border=\"1\" class=\"dataframe\">\n",
       "  <thead>\n",
       "    <tr style=\"text-align: right;\">\n",
       "      <th></th>\n",
       "      <th>Label (Grouping)</th>\n",
       "      <th>United_States_Total_Estimate</th>\n",
       "      <th>United_States_Insured_Estimate</th>\n",
       "      <th>United_States_Uninsured_Estimate</th>\n",
       "      <th>District_of_Columbia_Total_Estimate</th>\n",
       "      <th>District_of_Columbia_Insured_Estimate</th>\n",
       "      <th>District_of_Columbia_Uninsured_Estimate</th>\n",
       "      <th>Maryland_Total_Estimate</th>\n",
       "      <th>Maryland_Insured_Estimate</th>\n",
       "      <th>Maryland_Uninsured_Estimate</th>\n",
       "      <th>Virginia_Total_Estimate</th>\n",
       "      <th>Virginia_Insured_Estimate</th>\n",
       "      <th>Virginia_Uninsured_Estimate</th>\n",
       "    </tr>\n",
       "  </thead>\n",
       "  <tbody>\n",
       "    <tr>\n",
       "      <th>0</th>\n",
       "      <td>AGE</td>\n",
       "      <td>NaN</td>\n",
       "      <td>NaN</td>\n",
       "      <td>NaN</td>\n",
       "      <td>NaN</td>\n",
       "      <td>NaN</td>\n",
       "      <td>NaN</td>\n",
       "      <td>NaN</td>\n",
       "      <td>NaN</td>\n",
       "      <td>NaN</td>\n",
       "      <td>NaN</td>\n",
       "      <td>NaN</td>\n",
       "      <td>NaN</td>\n",
       "    </tr>\n",
       "    <tr>\n",
       "      <th>1</th>\n",
       "      <td>6 to 18 years</td>\n",
       "      <td>55251332.0</td>\n",
       "      <td>52100615.0</td>\n",
       "      <td>3150717.0</td>\n",
       "      <td>84634.0</td>\n",
       "      <td>82081.0</td>\n",
       "      <td>2553.0</td>\n",
       "      <td>1013078.0</td>\n",
       "      <td>969011.0</td>\n",
       "      <td>44067.0</td>\n",
       "      <td>1418355.0</td>\n",
       "      <td>1354465.0</td>\n",
       "      <td>63890.0</td>\n",
       "    </tr>\n",
       "    <tr>\n",
       "      <th>2</th>\n",
       "      <td>19 to 25 years</td>\n",
       "      <td>29194212.0</td>\n",
       "      <td>25059158.0</td>\n",
       "      <td>4135054.0</td>\n",
       "      <td>67932.0</td>\n",
       "      <td>63815.0</td>\n",
       "      <td>4117.0</td>\n",
       "      <td>505683.0</td>\n",
       "      <td>457880.0</td>\n",
       "      <td>47803.0</td>\n",
       "      <td>746778.0</td>\n",
       "      <td>665822.0</td>\n",
       "      <td>80956.0</td>\n",
       "    </tr>\n",
       "    <tr>\n",
       "      <th>3</th>\n",
       "      <td>26 to 34 years</td>\n",
       "      <td>39736024.0</td>\n",
       "      <td>33724063.0</td>\n",
       "      <td>6011961.0</td>\n",
       "      <td>132584.0</td>\n",
       "      <td>126839.0</td>\n",
       "      <td>5745.0</td>\n",
       "      <td>719009.0</td>\n",
       "      <td>642548.0</td>\n",
       "      <td>76461.0</td>\n",
       "      <td>987375.0</td>\n",
       "      <td>866803.0</td>\n",
       "      <td>120572.0</td>\n",
       "    </tr>\n",
       "    <tr>\n",
       "      <th>4</th>\n",
       "      <td>35 to 44 years</td>\n",
       "      <td>42801119.0</td>\n",
       "      <td>37236650.0</td>\n",
       "      <td>5564469.0</td>\n",
       "      <td>107653.0</td>\n",
       "      <td>104301.0</td>\n",
       "      <td>3352.0</td>\n",
       "      <td>807815.0</td>\n",
       "      <td>731818.0</td>\n",
       "      <td>75997.0</td>\n",
       "      <td>1124666.0</td>\n",
       "      <td>1006843.0</td>\n",
       "      <td>117823.0</td>\n",
       "    </tr>\n",
       "  </tbody>\n",
       "</table>\n",
       "</div>"
      ],
      "text/plain": [
       "         Label (Grouping)  United_States_Total_Estimate  \\\n",
       "0                     AGE                           NaN   \n",
       "1           6 to 18 years                    55251332.0   \n",
       "2          19 to 25 years                    29194212.0   \n",
       "3          26 to 34 years                    39736024.0   \n",
       "4          35 to 44 years                    42801119.0   \n",
       "\n",
       "   United_States_Insured_Estimate  United_States_Uninsured_Estimate  \\\n",
       "0                             NaN                               NaN   \n",
       "1                      52100615.0                         3150717.0   \n",
       "2                      25059158.0                         4135054.0   \n",
       "3                      33724063.0                         6011961.0   \n",
       "4                      37236650.0                         5564469.0   \n",
       "\n",
       "   District_of_Columbia_Total_Estimate  District_of_Columbia_Insured_Estimate  \\\n",
       "0                                  NaN                                    NaN   \n",
       "1                              84634.0                                82081.0   \n",
       "2                              67932.0                                63815.0   \n",
       "3                             132584.0                               126839.0   \n",
       "4                             107653.0                               104301.0   \n",
       "\n",
       "   District_of_Columbia_Uninsured_Estimate  Maryland_Total_Estimate  \\\n",
       "0                                      NaN                      NaN   \n",
       "1                                   2553.0                1013078.0   \n",
       "2                                   4117.0                 505683.0   \n",
       "3                                   5745.0                 719009.0   \n",
       "4                                   3352.0                 807815.0   \n",
       "\n",
       "   Maryland_Insured_Estimate  Maryland_Uninsured_Estimate  \\\n",
       "0                        NaN                          NaN   \n",
       "1                   969011.0                      44067.0   \n",
       "2                   457880.0                      47803.0   \n",
       "3                   642548.0                      76461.0   \n",
       "4                   731818.0                      75997.0   \n",
       "\n",
       "   Virginia_Total_Estimate  Virginia_Insured_Estimate  \\\n",
       "0                      NaN                        NaN   \n",
       "1                1418355.0                  1354465.0   \n",
       "2                 746778.0                   665822.0   \n",
       "3                 987375.0                   866803.0   \n",
       "4                1124666.0                  1006843.0   \n",
       "\n",
       "   Virginia_Uninsured_Estimate  \n",
       "0                          NaN  \n",
       "1                      63890.0  \n",
       "2                      80956.0  \n",
       "3                     120572.0  \n",
       "4                     117823.0  "
      ]
     },
     "execution_count": 253,
     "metadata": {},
     "output_type": "execute_result"
    }
   ],
   "source": [
    "# Print the first 5 rows of inssured\n",
    "insured.head()"
   ]
  },
  {
   "cell_type": "code",
   "execution_count": 254,
   "metadata": {},
   "outputs": [
    {
     "data": {
      "text/html": [
       "<div>\n",
       "<style scoped>\n",
       "    .dataframe tbody tr th:only-of-type {\n",
       "        vertical-align: middle;\n",
       "    }\n",
       "\n",
       "    .dataframe tbody tr th {\n",
       "        vertical-align: top;\n",
       "    }\n",
       "\n",
       "    .dataframe thead th {\n",
       "        text-align: right;\n",
       "    }\n",
       "</style>\n",
       "<table border=\"1\" class=\"dataframe\">\n",
       "  <thead>\n",
       "    <tr style=\"text-align: right;\">\n",
       "      <th></th>\n",
       "      <th>Deaths</th>\n",
       "      <th>Mortality_Rates</th>\n",
       "    </tr>\n",
       "  </thead>\n",
       "  <tbody>\n",
       "    <tr>\n",
       "      <th>0</th>\n",
       "      <td>3478</td>\n",
       "      <td>23.5</td>\n",
       "    </tr>\n",
       "    <tr>\n",
       "      <th>1</th>\n",
       "      <td>11</td>\n",
       "      <td>NaN</td>\n",
       "    </tr>\n",
       "    <tr>\n",
       "      <th>2</th>\n",
       "      <td>59</td>\n",
       "      <td>21.2</td>\n",
       "    </tr>\n",
       "    <tr>\n",
       "      <th>3</th>\n",
       "      <td>113</td>\n",
       "      <td>29.1</td>\n",
       "    </tr>\n",
       "  </tbody>\n",
       "</table>\n",
       "</div>"
      ],
      "text/plain": [
       "   Deaths  Mortality_Rates\n",
       "0    3478             23.5\n",
       "1      11              NaN\n",
       "2      59             21.2\n",
       "3     113             29.1"
      ]
     },
     "execution_count": 254,
     "metadata": {},
     "output_type": "execute_result"
    }
   ],
   "source": [
    "# Print the first 5 rows of mortality\n",
    "mortality.head()"
   ]
  },
  {
   "cell_type": "code",
   "execution_count": 255,
   "metadata": {},
   "outputs": [
    {
     "data": {
      "text/html": [
       "<div>\n",
       "<style scoped>\n",
       "    .dataframe tbody tr th:only-of-type {\n",
       "        vertical-align: middle;\n",
       "    }\n",
       "\n",
       "    .dataframe tbody tr th {\n",
       "        vertical-align: top;\n",
       "    }\n",
       "\n",
       "    .dataframe thead th {\n",
       "        text-align: right;\n",
       "    }\n",
       "</style>\n",
       "<table border=\"1\" class=\"dataframe\">\n",
       "  <thead>\n",
       "    <tr style=\"text-align: right;\">\n",
       "      <th></th>\n",
       "      <th>Unnamed: 0</th>\n",
       "      <th>United_States</th>\n",
       "      <th>District_of_Columbia</th>\n",
       "      <th>Maryland</th>\n",
       "      <th>Virginia</th>\n",
       "    </tr>\n",
       "  </thead>\n",
       "  <tbody>\n",
       "    <tr>\n",
       "      <th>0</th>\n",
       "      <td>Label</td>\n",
       "      <td>Estimate</td>\n",
       "      <td>Estimate</td>\n",
       "      <td>Estimate</td>\n",
       "      <td>Estimate</td>\n",
       "    </tr>\n",
       "    <tr>\n",
       "      <th>1</th>\n",
       "      <td>SEX AND AGE</td>\n",
       "      <td>NaN</td>\n",
       "      <td>NaN</td>\n",
       "      <td>NaN</td>\n",
       "      <td>NaN</td>\n",
       "    </tr>\n",
       "    <tr>\n",
       "      <th>2</th>\n",
       "      <td>Total population</td>\n",
       "      <td>331893745</td>\n",
       "      <td>670050</td>\n",
       "      <td>6165129</td>\n",
       "      <td>8642274</td>\n",
       "    </tr>\n",
       "    <tr>\n",
       "      <th>3</th>\n",
       "      <td>Female</td>\n",
       "      <td>167543042</td>\n",
       "      <td>351025</td>\n",
       "      <td>3162038</td>\n",
       "      <td>4368343</td>\n",
       "    </tr>\n",
       "    <tr>\n",
       "      <th>4</th>\n",
       "      <td>15 to 19 years</td>\n",
       "      <td>21824088</td>\n",
       "      <td>35516</td>\n",
       "      <td>390410</td>\n",
       "      <td>570825</td>\n",
       "    </tr>\n",
       "  </tbody>\n",
       "</table>\n",
       "</div>"
      ],
      "text/plain": [
       "         Unnamed: 0 United_States District_of_Columbia  Maryland  Virginia\n",
       "0             Label      Estimate             Estimate  Estimate  Estimate\n",
       "1       SEX AND AGE           NaN                  NaN       NaN       NaN\n",
       "2  Total population     331893745               670050   6165129   8642274\n",
       "3            Female     167543042               351025   3162038   4368343\n",
       "4    15 to 19 years      21824088                35516    390410    570825"
      ]
     },
     "execution_count": 255,
     "metadata": {},
     "output_type": "execute_result"
    }
   ],
   "source": [
    "# Print the first 5 rows of race and age\n",
    "race_and_age.head()"
   ]
  },
  {
   "cell_type": "code",
   "execution_count": 256,
   "metadata": {},
   "outputs": [],
   "source": [
    "# Dividing into categories and numberical\n",
    "hospital_cat = hospital.select_dtypes(object)\n",
    "hospital_num = hospital.select_dtypes(np.number)\n",
    "\n",
    "insured_cat = insured.select_dtypes(object)\n",
    "insured_num = insured.select_dtypes(np.number)\n",
    "\n",
    "mortality_cat = mortality.select_dtypes(object)\n",
    "mortality_num = mortality.select_dtypes(np.number)\n",
    "\n",
    "race_and_age_cat = race_and_age.select_dtypes(object)\n",
    "race_and_age_num = race_and_age.select_dtypes(np.number)"
   ]
  },
  {
   "cell_type": "code",
   "execution_count": 257,
   "metadata": {},
   "outputs": [
    {
     "data": {
      "text/plain": [
       "Geographic_Area_Name     0\n",
       "Meaning_of_NAICS_code    0\n",
       "dtype: int64"
      ]
     },
     "execution_count": 257,
     "metadata": {},
     "output_type": "execute_result"
    }
   ],
   "source": [
    "# Check for null values\n",
    "hospital_cat.isnull().sum()"
   ]
  },
  {
   "cell_type": "code",
   "execution_count": 258,
   "metadata": {},
   "outputs": [
    {
     "data": {
      "text/plain": [
       "Label (Grouping)    0\n",
       "dtype: int64"
      ]
     },
     "execution_count": 258,
     "metadata": {},
     "output_type": "execute_result"
    }
   ],
   "source": [
    "# Check for null values\n",
    "insured_cat.isnull().sum()"
   ]
  },
  {
   "cell_type": "code",
   "execution_count": 259,
   "metadata": {},
   "outputs": [
    {
     "data": {
      "text/plain": [
       "Series([], dtype: float64)"
      ]
     },
     "execution_count": 259,
     "metadata": {},
     "output_type": "execute_result"
    }
   ],
   "source": [
    "# Check for null values\n",
    "mortality_cat.isnull().sum()"
   ]
  },
  {
   "cell_type": "code",
   "execution_count": 260,
   "metadata": {},
   "outputs": [
    {
     "data": {
      "text/plain": [
       "Unnamed: 0              0\n",
       "United_States           1\n",
       "District_of_Columbia    1\n",
       "Maryland                1\n",
       "Virginia                1\n",
       "dtype: int64"
      ]
     },
     "execution_count": 260,
     "metadata": {},
     "output_type": "execute_result"
    }
   ],
   "source": [
    "# Check for null values\n",
    "race_and_age_cat.isnull().sum()"
   ]
  },
  {
   "cell_type": "code",
   "execution_count": 261,
   "metadata": {},
   "outputs": [],
   "source": [
    "# Replace null value with max count\n",
    "race_and_age_cat.United_States.fillna(race_and_age_cat.United_States.value_counts().idxmax(), inplace=True)\n",
    "race_and_age_cat.District_of_Columbia.fillna(race_and_age_cat.District_of_Columbia.value_counts().idxmax(), inplace=True)\n",
    "race_and_age_cat.Maryland.fillna(race_and_age_cat.Maryland.value_counts().idxmax(), inplace=True)\n",
    "race_and_age_cat.Virginia.fillna(race_and_age_cat.Virginia.value_counts().idxmax(), inplace=True)"
   ]
  },
  {
   "cell_type": "code",
   "execution_count": 262,
   "metadata": {},
   "outputs": [
    {
     "name": "stdout",
     "output_type": "stream",
     "text": [
      "Geographic_Area_Name     object\n",
      "Meaning_of_NAICS_code    object\n",
      "dtype: object\n",
      "Label (Grouping)    object\n",
      "dtype: object\n",
      "Series([], dtype: object)\n",
      "Unnamed: 0              object\n",
      "United_States           object\n",
      "District_of_Columbia    object\n",
      "Maryland                object\n",
      "Virginia                object\n",
      "dtype: object\n"
     ]
    }
   ],
   "source": [
    "# Print output\n",
    "print(hospital_cat.dtypes)\n",
    "print(insured_cat.dtypes)\n",
    "print(mortality_cat.dtypes)\n",
    "print(race_and_age_cat.dtypes)"
   ]
  },
  {
   "cell_type": "code",
   "execution_count": 263,
   "metadata": {},
   "outputs": [],
   "source": [
    "hospital_cat = hospital_cat.astype(str)\n",
    "insured_cat = insured_cat.astype(str)\n",
    "mortality_cat = mortality_cat.astype(str)\n",
    "race_and_age_cat = race_and_age_cat.astype(str)"
   ]
  },
  {
   "cell_type": "code",
   "execution_count": 264,
   "metadata": {},
   "outputs": [],
   "source": [
    "# Replace categories with numerical values\n",
    "hospital_cat = hospital_cat.apply(le.fit_transform)\n",
    "insured_cat = insured_cat.apply(le.fit_transform)\n",
    "mortality_cat = mortality_cat.apply(le.fit_transform)\n",
    "race_and_age_cat = race_and_age_cat.apply(le.fit_transform)"
   ]
  },
  {
   "cell_type": "code",
   "execution_count": 265,
   "metadata": {},
   "outputs": [
    {
     "data": {
      "text/plain": [
       "Year                        0\n",
       "Number_of_establishments    0\n",
       "Annual_payroll_($1,000)     0\n",
       "Number_of_employees         0\n",
       "dtype: int64"
      ]
     },
     "execution_count": 265,
     "metadata": {},
     "output_type": "execute_result"
    }
   ],
   "source": [
    "# Check null values\n",
    "hospital_num.isna().sum()"
   ]
  },
  {
   "cell_type": "code",
   "execution_count": 266,
   "metadata": {},
   "outputs": [
    {
     "data": {
      "text/plain": [
       "United_States_Total_Estimate               3\n",
       "United_States_Insured_Estimate             3\n",
       "United_States_Uninsured_Estimate           3\n",
       "District_of_Columbia_Total_Estimate        3\n",
       "District_of_Columbia_Insured_Estimate      3\n",
       "District_of_Columbia_Uninsured_Estimate    3\n",
       "Maryland_Total_Estimate                    3\n",
       "Maryland_Insured_Estimate                  3\n",
       "Maryland_Uninsured_Estimate                3\n",
       "Virginia_Total_Estimate                    3\n",
       "Virginia_Insured_Estimate                  3\n",
       "Virginia_Uninsured_Estimate                3\n",
       "dtype: int64"
      ]
     },
     "execution_count": 266,
     "metadata": {},
     "output_type": "execute_result"
    }
   ],
   "source": [
    "# Check null values\n",
    "insured_num.isna().sum()"
   ]
  },
  {
   "cell_type": "code",
   "execution_count": 267,
   "metadata": {},
   "outputs": [
    {
     "data": {
      "text/plain": [
       "United_States_Total_Estimate               0\n",
       "United_States_Insured_Estimate             0\n",
       "United_States_Uninsured_Estimate           0\n",
       "District_of_Columbia_Total_Estimate        0\n",
       "District_of_Columbia_Insured_Estimate      0\n",
       "District_of_Columbia_Uninsured_Estimate    0\n",
       "Maryland_Total_Estimate                    0\n",
       "Maryland_Insured_Estimate                  0\n",
       "Maryland_Uninsured_Estimate                0\n",
       "Virginia_Total_Estimate                    0\n",
       "Virginia_Insured_Estimate                  0\n",
       "Virginia_Uninsured_Estimate                0\n",
       "dtype: int64"
      ]
     },
     "execution_count": 267,
     "metadata": {},
     "output_type": "execute_result"
    }
   ],
   "source": [
    "# Replace null values\n",
    "insured_num.United_States_Total_Estimate.fillna(insured_num.United_States_Total_Estimate.mean(), inplace=True)\n",
    "insured_num.United_States_Insured_Estimate.fillna(insured_num.United_States_Insured_Estimate.mean(), inplace=True)\n",
    "insured_num.United_States_Uninsured_Estimate .fillna(insured_num.United_States_Uninsured_Estimate .mean(), inplace=True)\n",
    "\n",
    "insured_num.District_of_Columbia_Total_Estimate.fillna(insured_num.District_of_Columbia_Total_Estimate.mean(), inplace=True)\n",
    "insured_num.District_of_Columbia_Insured_Estimate.fillna(insured_num.District_of_Columbia_Insured_Estimate.mean(), inplace=True)\n",
    "insured_num.District_of_Columbia_Uninsured_Estimate.fillna(insured_num.District_of_Columbia_Uninsured_Estimate.mean(), inplace=True)\n",
    "\n",
    "insured_num.Maryland_Total_Estimate.fillna(insured_num.Maryland_Total_Estimate.mean(), inplace=True)\n",
    "insured_num.Maryland_Insured_Estimate.fillna(insured_num.Maryland_Insured_Estimate.mean(), inplace=True)\n",
    "insured_num.Maryland_Uninsured_Estimate.fillna(insured_num.Maryland_Uninsured_Estimate.mean(), inplace=True)\n",
    "\n",
    "insured_num.Virginia_Total_Estimate.fillna(insured_num.Virginia_Total_Estimate.mean(), inplace=True)\n",
    "insured_num.Virginia_Insured_Estimate.fillna(insured_num.Virginia_Insured_Estimate.mean(), inplace=True)\n",
    "insured_num.Virginia_Uninsured_Estimate .fillna(insured_num.Virginia_Uninsured_Estimate.mean(), inplace=True)\n",
    "\n",
    "insured_num.isna().sum()"
   ]
  },
  {
   "cell_type": "code",
   "execution_count": 268,
   "metadata": {},
   "outputs": [
    {
     "data": {
      "text/plain": [
       "Deaths             0\n",
       "Mortality_Rates    1\n",
       "dtype: int64"
      ]
     },
     "execution_count": 268,
     "metadata": {},
     "output_type": "execute_result"
    }
   ],
   "source": [
    "mortality_num.isna().sum()"
   ]
  },
  {
   "cell_type": "code",
   "execution_count": 269,
   "metadata": {},
   "outputs": [
    {
     "data": {
      "text/plain": [
       "Deaths             0\n",
       "Mortality_Rates    0\n",
       "dtype: int64"
      ]
     },
     "execution_count": 269,
     "metadata": {},
     "output_type": "execute_result"
    }
   ],
   "source": [
    "mortality_num.Mortality_Rates.fillna(mortality_num.Mortality_Rates.mean(), inplace=True)\n",
    "mortality_num.isna().sum()"
   ]
  },
  {
   "cell_type": "code",
   "execution_count": 270,
   "metadata": {},
   "outputs": [
    {
     "data": {
      "text/plain": [
       "Series([], dtype: float64)"
      ]
     },
     "execution_count": 270,
     "metadata": {},
     "output_type": "execute_result"
    }
   ],
   "source": [
    "race_and_age_num.isna().sum()"
   ]
  },
  {
   "cell_type": "code",
   "execution_count": 271,
   "metadata": {},
   "outputs": [],
   "source": [
    "# Combine categories and numerical values\n",
    "hospital_final = pd.concat([hospital_cat, hospital_num], axis=1)\n",
    "insured_final = pd.concat([insured_cat, insured_num], axis=1)\n",
    "mortality_final = pd.concat([mortality_cat, mortality_num], axis=1)\n",
    "race_and_age_final = pd.concat([race_and_age_cat, race_and_age_num], axis=1)"
   ]
  },
  {
   "cell_type": "code",
   "execution_count": 277,
   "metadata": {},
   "outputs": [
    {
     "ename": "KeyError",
     "evalue": "\"None of [Index(['Female'], dtype='object')] are in the [columns]\"",
     "output_type": "error",
     "traceback": [
      "\u001b[1;31m---------------------------------------------------------------------------\u001b[0m",
      "\u001b[1;31mKeyError\u001b[0m                                  Traceback (most recent call last)",
      "Cell \u001b[1;32mIn[277], line 2\u001b[0m\n\u001b[0;32m      1\u001b[0m \u001b[39m# Target/independent variable\u001b[39;00m\n\u001b[1;32m----> 2\u001b[0m x \u001b[39m=\u001b[39m insured_final[[\u001b[39m'\u001b[39;49m\u001b[39mFemale\u001b[39;49m\u001b[39m'\u001b[39;49m]]\u001b[39m.\u001b[39mvalues\n\u001b[0;32m      3\u001b[0m \u001b[39m# Target variable/dependent variable\u001b[39;00m\n\u001b[0;32m      4\u001b[0m y \u001b[39m=\u001b[39m mortality_final[\u001b[39m'\u001b[39m\u001b[39mMortality_Rates\u001b[39m\u001b[39m'\u001b[39m]\u001b[39m.\u001b[39mvalues\n",
      "File \u001b[1;32m~\\AppData\\Local\\Packages\\PythonSoftwareFoundation.Python.3.11_qbz5n2kfra8p0\\LocalCache\\local-packages\\Python311\\site-packages\\pandas\\core\\frame.py:3813\u001b[0m, in \u001b[0;36mDataFrame.__getitem__\u001b[1;34m(self, key)\u001b[0m\n\u001b[0;32m   3811\u001b[0m     \u001b[39mif\u001b[39;00m is_iterator(key):\n\u001b[0;32m   3812\u001b[0m         key \u001b[39m=\u001b[39m \u001b[39mlist\u001b[39m(key)\n\u001b[1;32m-> 3813\u001b[0m     indexer \u001b[39m=\u001b[39m \u001b[39mself\u001b[39;49m\u001b[39m.\u001b[39;49mcolumns\u001b[39m.\u001b[39;49m_get_indexer_strict(key, \u001b[39m\"\u001b[39;49m\u001b[39mcolumns\u001b[39;49m\u001b[39m\"\u001b[39;49m)[\u001b[39m1\u001b[39m]\n\u001b[0;32m   3815\u001b[0m \u001b[39m# take() does not accept boolean indexers\u001b[39;00m\n\u001b[0;32m   3816\u001b[0m \u001b[39mif\u001b[39;00m \u001b[39mgetattr\u001b[39m(indexer, \u001b[39m\"\u001b[39m\u001b[39mdtype\u001b[39m\u001b[39m\"\u001b[39m, \u001b[39mNone\u001b[39;00m) \u001b[39m==\u001b[39m \u001b[39mbool\u001b[39m:\n",
      "File \u001b[1;32m~\\AppData\\Local\\Packages\\PythonSoftwareFoundation.Python.3.11_qbz5n2kfra8p0\\LocalCache\\local-packages\\Python311\\site-packages\\pandas\\core\\indexes\\base.py:6070\u001b[0m, in \u001b[0;36mIndex._get_indexer_strict\u001b[1;34m(self, key, axis_name)\u001b[0m\n\u001b[0;32m   6067\u001b[0m \u001b[39melse\u001b[39;00m:\n\u001b[0;32m   6068\u001b[0m     keyarr, indexer, new_indexer \u001b[39m=\u001b[39m \u001b[39mself\u001b[39m\u001b[39m.\u001b[39m_reindex_non_unique(keyarr)\n\u001b[1;32m-> 6070\u001b[0m \u001b[39mself\u001b[39;49m\u001b[39m.\u001b[39;49m_raise_if_missing(keyarr, indexer, axis_name)\n\u001b[0;32m   6072\u001b[0m keyarr \u001b[39m=\u001b[39m \u001b[39mself\u001b[39m\u001b[39m.\u001b[39mtake(indexer)\n\u001b[0;32m   6073\u001b[0m \u001b[39mif\u001b[39;00m \u001b[39misinstance\u001b[39m(key, Index):\n\u001b[0;32m   6074\u001b[0m     \u001b[39m# GH 42790 - Preserve name from an Index\u001b[39;00m\n",
      "File \u001b[1;32m~\\AppData\\Local\\Packages\\PythonSoftwareFoundation.Python.3.11_qbz5n2kfra8p0\\LocalCache\\local-packages\\Python311\\site-packages\\pandas\\core\\indexes\\base.py:6130\u001b[0m, in \u001b[0;36mIndex._raise_if_missing\u001b[1;34m(self, key, indexer, axis_name)\u001b[0m\n\u001b[0;32m   6128\u001b[0m     \u001b[39mif\u001b[39;00m use_interval_msg:\n\u001b[0;32m   6129\u001b[0m         key \u001b[39m=\u001b[39m \u001b[39mlist\u001b[39m(key)\n\u001b[1;32m-> 6130\u001b[0m     \u001b[39mraise\u001b[39;00m \u001b[39mKeyError\u001b[39;00m(\u001b[39mf\u001b[39m\u001b[39m\"\u001b[39m\u001b[39mNone of [\u001b[39m\u001b[39m{\u001b[39;00mkey\u001b[39m}\u001b[39;00m\u001b[39m] are in the [\u001b[39m\u001b[39m{\u001b[39;00maxis_name\u001b[39m}\u001b[39;00m\u001b[39m]\u001b[39m\u001b[39m\"\u001b[39m)\n\u001b[0;32m   6132\u001b[0m not_found \u001b[39m=\u001b[39m \u001b[39mlist\u001b[39m(ensure_index(key)[missing_mask\u001b[39m.\u001b[39mnonzero()[\u001b[39m0\u001b[39m]]\u001b[39m.\u001b[39munique())\n\u001b[0;32m   6133\u001b[0m \u001b[39mraise\u001b[39;00m \u001b[39mKeyError\u001b[39;00m(\u001b[39mf\u001b[39m\u001b[39m\"\u001b[39m\u001b[39m{\u001b[39;00mnot_found\u001b[39m}\u001b[39;00m\u001b[39m not in index\u001b[39m\u001b[39m\"\u001b[39m)\n",
      "\u001b[1;31mKeyError\u001b[0m: \"None of [Index(['Female'], dtype='object')] are in the [columns]\""
     ]
    }
   ],
   "source": [
    "# Target/independent variable\n",
    "x = insured_final[['Female']].values\n",
    "# Target variable/dependent variable\n",
    "y = mortality_final['Mortality_Rates'].values\n",
    "\n",
    "# Split data into training and testing sets\n",
    "x_train, x_test, y_train, y_test = train_test_split(x, y, test_size=0.2, random_state=42)\n",
    "\n",
    "regression_model = LinearRegression()\n",
    "\n",
    "# Train the regression model on training data\n",
    "regression_model.fit(x_train, y_train)\n",
    "\n",
    "# Plot the data points and linear regression line\n",
    "plt.scatter(x_test, y_test, color='blue')\n",
    "plt.plot(x_test, regression_model.predict(x_test), color='red')\n",
    "plt.title('Regression of Females and Mortality Rate')\n",
    "plt.xlabel('Mortality')\n",
    "plt.ylabel('Female')\n",
    "plt.show()"
   ]
  },
  {
   "cell_type": "code",
   "execution_count": 278,
   "metadata": {},
   "outputs": [
    {
     "data": {
      "text/html": [
       "<div>\n",
       "<style scoped>\n",
       "    .dataframe tbody tr th:only-of-type {\n",
       "        vertical-align: middle;\n",
       "    }\n",
       "\n",
       "    .dataframe tbody tr th {\n",
       "        vertical-align: top;\n",
       "    }\n",
       "\n",
       "    .dataframe thead th {\n",
       "        text-align: right;\n",
       "    }\n",
       "</style>\n",
       "<table border=\"1\" class=\"dataframe\">\n",
       "  <thead>\n",
       "    <tr style=\"text-align: right;\">\n",
       "      <th></th>\n",
       "      <th>Geographic_Area_Name</th>\n",
       "      <th>Meaning_of_NAICS_code</th>\n",
       "      <th>Year</th>\n",
       "      <th>Number_of_establishments</th>\n",
       "      <th>Annual_payroll_($1,000)</th>\n",
       "      <th>Number_of_employees</th>\n",
       "      <th>Label (Grouping)</th>\n",
       "      <th>United_States_Total_Estimate</th>\n",
       "      <th>United_States_Insured_Estimate</th>\n",
       "      <th>United_States_Uninsured_Estimate</th>\n",
       "      <th>...</th>\n",
       "      <th>Virginia_Insured_Estimate</th>\n",
       "      <th>Virginia_Uninsured_Estimate</th>\n",
       "      <th>0</th>\n",
       "      <th>Deaths</th>\n",
       "      <th>Mortality_Rates</th>\n",
       "      <th>Unnamed: 0</th>\n",
       "      <th>United_States</th>\n",
       "      <th>District_of_Columbia</th>\n",
       "      <th>Maryland</th>\n",
       "      <th>Virginia</th>\n",
       "    </tr>\n",
       "  </thead>\n",
       "  <tbody>\n",
       "    <tr>\n",
       "      <th>0</th>\n",
       "      <td>2</td>\n",
       "      <td>0</td>\n",
       "      <td>2020</td>\n",
       "      <td>642970</td>\n",
       "      <td>495769754</td>\n",
       "      <td>7994079</td>\n",
       "      <td>0.0</td>\n",
       "      <td>5.890928e+07</td>\n",
       "      <td>5.324828e+07</td>\n",
       "      <td>5.661003e+06</td>\n",
       "      <td>...</td>\n",
       "      <td>1.480390e+06</td>\n",
       "      <td>116101.428571</td>\n",
       "      <td>NaN</td>\n",
       "      <td>3478.0</td>\n",
       "      <td>23.5</td>\n",
       "      <td>7.0</td>\n",
       "      <td>8.0</td>\n",
       "      <td>8.0</td>\n",
       "      <td>8.0</td>\n",
       "      <td>8.0</td>\n",
       "    </tr>\n",
       "    <tr>\n",
       "      <th>1</th>\n",
       "      <td>2</td>\n",
       "      <td>1</td>\n",
       "      <td>2020</td>\n",
       "      <td>7121</td>\n",
       "      <td>416877873</td>\n",
       "      <td>6184265</td>\n",
       "      <td>7.0</td>\n",
       "      <td>5.525133e+07</td>\n",
       "      <td>5.210062e+07</td>\n",
       "      <td>3.150717e+06</td>\n",
       "      <td>...</td>\n",
       "      <td>1.354465e+06</td>\n",
       "      <td>63890.000000</td>\n",
       "      <td>NaN</td>\n",
       "      <td>11.0</td>\n",
       "      <td>24.6</td>\n",
       "      <td>8.0</td>\n",
       "      <td>3.0</td>\n",
       "      <td>6.0</td>\n",
       "      <td>4.0</td>\n",
       "      <td>7.0</td>\n",
       "    </tr>\n",
       "    <tr>\n",
       "      <th>2</th>\n",
       "      <td>2</td>\n",
       "      <td>2</td>\n",
       "      <td>2020</td>\n",
       "      <td>93113</td>\n",
       "      <td>116084943</td>\n",
       "      <td>3544511</td>\n",
       "      <td>3.0</td>\n",
       "      <td>2.919421e+07</td>\n",
       "      <td>2.505916e+07</td>\n",
       "      <td>4.135054e+06</td>\n",
       "      <td>...</td>\n",
       "      <td>6.658220e+05</td>\n",
       "      <td>80956.000000</td>\n",
       "      <td>NaN</td>\n",
       "      <td>59.0</td>\n",
       "      <td>21.2</td>\n",
       "      <td>9.0</td>\n",
       "      <td>3.0</td>\n",
       "      <td>6.0</td>\n",
       "      <td>4.0</td>\n",
       "      <td>7.0</td>\n",
       "    </tr>\n",
       "    <tr>\n",
       "      <th>3</th>\n",
       "      <td>2</td>\n",
       "      <td>3</td>\n",
       "      <td>2020</td>\n",
       "      <td>184970</td>\n",
       "      <td>87763293</td>\n",
       "      <td>3493714</td>\n",
       "      <td>4.0</td>\n",
       "      <td>3.973602e+07</td>\n",
       "      <td>3.372406e+07</td>\n",
       "      <td>6.011961e+06</td>\n",
       "      <td>...</td>\n",
       "      <td>8.668030e+05</td>\n",
       "      <td>120572.000000</td>\n",
       "      <td>NaN</td>\n",
       "      <td>113.0</td>\n",
       "      <td>29.1</td>\n",
       "      <td>6.0</td>\n",
       "      <td>0.0</td>\n",
       "      <td>3.0</td>\n",
       "      <td>1.0</td>\n",
       "      <td>4.0</td>\n",
       "    </tr>\n",
       "    <tr>\n",
       "      <th>4</th>\n",
       "      <td>0</td>\n",
       "      <td>0</td>\n",
       "      <td>2020</td>\n",
       "      <td>1258</td>\n",
       "      <td>1497992</td>\n",
       "      <td>22355</td>\n",
       "      <td>5.0</td>\n",
       "      <td>4.280112e+07</td>\n",
       "      <td>3.723665e+07</td>\n",
       "      <td>5.564469e+06</td>\n",
       "      <td>...</td>\n",
       "      <td>1.006843e+06</td>\n",
       "      <td>117823.000000</td>\n",
       "      <td>NaN</td>\n",
       "      <td>NaN</td>\n",
       "      <td>NaN</td>\n",
       "      <td>0.0</td>\n",
       "      <td>2.0</td>\n",
       "      <td>4.0</td>\n",
       "      <td>3.0</td>\n",
       "      <td>5.0</td>\n",
       "    </tr>\n",
       "  </tbody>\n",
       "</table>\n",
       "<p>5 rows × 27 columns</p>\n",
       "</div>"
      ],
      "text/plain": [
       "   Geographic_Area_Name  Meaning_of_NAICS_code  Year  \\\n",
       "0                     2                      0  2020   \n",
       "1                     2                      1  2020   \n",
       "2                     2                      2  2020   \n",
       "3                     2                      3  2020   \n",
       "4                     0                      0  2020   \n",
       "\n",
       "   Number_of_establishments  Annual_payroll_($1,000)  Number_of_employees  \\\n",
       "0                    642970                495769754              7994079   \n",
       "1                      7121                416877873              6184265   \n",
       "2                     93113                116084943              3544511   \n",
       "3                    184970                 87763293              3493714   \n",
       "4                      1258                  1497992                22355   \n",
       "\n",
       "   Label (Grouping)  United_States_Total_Estimate  \\\n",
       "0               0.0                  5.890928e+07   \n",
       "1               7.0                  5.525133e+07   \n",
       "2               3.0                  2.919421e+07   \n",
       "3               4.0                  3.973602e+07   \n",
       "4               5.0                  4.280112e+07   \n",
       "\n",
       "   United_States_Insured_Estimate  United_States_Uninsured_Estimate  ...  \\\n",
       "0                    5.324828e+07                      5.661003e+06  ...   \n",
       "1                    5.210062e+07                      3.150717e+06  ...   \n",
       "2                    2.505916e+07                      4.135054e+06  ...   \n",
       "3                    3.372406e+07                      6.011961e+06  ...   \n",
       "4                    3.723665e+07                      5.564469e+06  ...   \n",
       "\n",
       "   Virginia_Insured_Estimate  Virginia_Uninsured_Estimate   0  Deaths  \\\n",
       "0               1.480390e+06                116101.428571 NaN  3478.0   \n",
       "1               1.354465e+06                 63890.000000 NaN    11.0   \n",
       "2               6.658220e+05                 80956.000000 NaN    59.0   \n",
       "3               8.668030e+05                120572.000000 NaN   113.0   \n",
       "4               1.006843e+06                117823.000000 NaN     NaN   \n",
       "\n",
       "   Mortality_Rates  Unnamed: 0  United_States  District_of_Columbia  Maryland  \\\n",
       "0             23.5         7.0            8.0                   8.0       8.0   \n",
       "1             24.6         8.0            3.0                   6.0       4.0   \n",
       "2             21.2         9.0            3.0                   6.0       4.0   \n",
       "3             29.1         6.0            0.0                   3.0       1.0   \n",
       "4              NaN         0.0            2.0                   4.0       3.0   \n",
       "\n",
       "   Virginia  \n",
       "0       8.0  \n",
       "1       7.0  \n",
       "2       7.0  \n",
       "3       4.0  \n",
       "4       5.0  \n",
       "\n",
       "[5 rows x 27 columns]"
      ]
     },
     "execution_count": 278,
     "metadata": {},
     "output_type": "execute_result"
    }
   ],
   "source": [
    "df = pd. concat([hospital_final,insured_final,mortality_final,race_and_age_final], axis=1)\n",
    "df.head()"
   ]
  },
  {
   "cell_type": "code",
   "execution_count": 281,
   "metadata": {},
   "outputs": [
    {
     "ename": "TypeError",
     "evalue": "Singleton array array(0) cannot be considered a valid collection.",
     "output_type": "error",
     "traceback": [
      "\u001b[1;31m---------------------------------------------------------------------------\u001b[0m",
      "\u001b[1;31mTypeError\u001b[0m                                 Traceback (most recent call last)",
      "Cell \u001b[1;32mIn[281], line 9\u001b[0m\n\u001b[0;32m      6\u001b[0m y \u001b[39m=\u001b[39m df[\u001b[39m'\u001b[39m\u001b[39mMortality_Rates\u001b[39m\u001b[39m'\u001b[39m]\u001b[39m.\u001b[39mvalues\n\u001b[0;32m      8\u001b[0m \u001b[39m# Split data into training and testing sets\u001b[39;00m\n\u001b[1;32m----> 9\u001b[0m x_train, x_test, y_train, y_test \u001b[39m=\u001b[39m train_test_split(x, y, test_size\u001b[39m=\u001b[39;49m\u001b[39m0.2\u001b[39;49m, random_state\u001b[39m=\u001b[39;49m\u001b[39m42\u001b[39;49m)\n\u001b[0;32m     11\u001b[0m regression_model \u001b[39m=\u001b[39m LinearRegression()\n\u001b[0;32m     13\u001b[0m \u001b[39m# Train the regression model on training data\u001b[39;00m\n",
      "File \u001b[1;32m~\\AppData\\Local\\Packages\\PythonSoftwareFoundation.Python.3.11_qbz5n2kfra8p0\\LocalCache\\local-packages\\Python311\\site-packages\\sklearn\\model_selection\\_split.py:2559\u001b[0m, in \u001b[0;36mtrain_test_split\u001b[1;34m(test_size, train_size, random_state, shuffle, stratify, *arrays)\u001b[0m\n\u001b[0;32m   2556\u001b[0m \u001b[39mif\u001b[39;00m n_arrays \u001b[39m==\u001b[39m \u001b[39m0\u001b[39m:\n\u001b[0;32m   2557\u001b[0m     \u001b[39mraise\u001b[39;00m \u001b[39mValueError\u001b[39;00m(\u001b[39m\"\u001b[39m\u001b[39mAt least one array required as input\u001b[39m\u001b[39m\"\u001b[39m)\n\u001b[1;32m-> 2559\u001b[0m arrays \u001b[39m=\u001b[39m indexable(\u001b[39m*\u001b[39;49marrays)\n\u001b[0;32m   2561\u001b[0m n_samples \u001b[39m=\u001b[39m _num_samples(arrays[\u001b[39m0\u001b[39m])\n\u001b[0;32m   2562\u001b[0m n_train, n_test \u001b[39m=\u001b[39m _validate_shuffle_split(\n\u001b[0;32m   2563\u001b[0m     n_samples, test_size, train_size, default_test_size\u001b[39m=\u001b[39m\u001b[39m0.25\u001b[39m\n\u001b[0;32m   2564\u001b[0m )\n",
      "File \u001b[1;32m~\\AppData\\Local\\Packages\\PythonSoftwareFoundation.Python.3.11_qbz5n2kfra8p0\\LocalCache\\local-packages\\Python311\\site-packages\\sklearn\\utils\\validation.py:443\u001b[0m, in \u001b[0;36mindexable\u001b[1;34m(*iterables)\u001b[0m\n\u001b[0;32m    424\u001b[0m \u001b[39m\u001b[39m\u001b[39m\"\"\"Make arrays indexable for cross-validation.\u001b[39;00m\n\u001b[0;32m    425\u001b[0m \n\u001b[0;32m    426\u001b[0m \u001b[39mChecks consistent length, passes through None, and ensures that everything\u001b[39;00m\n\u001b[1;32m   (...)\u001b[0m\n\u001b[0;32m    439\u001b[0m \u001b[39m    sparse matrix, or dataframe) or `None`.\u001b[39;00m\n\u001b[0;32m    440\u001b[0m \u001b[39m\"\"\"\u001b[39;00m\n\u001b[0;32m    442\u001b[0m result \u001b[39m=\u001b[39m [_make_indexable(X) \u001b[39mfor\u001b[39;00m X \u001b[39min\u001b[39;00m iterables]\n\u001b[1;32m--> 443\u001b[0m check_consistent_length(\u001b[39m*\u001b[39;49mresult)\n\u001b[0;32m    444\u001b[0m \u001b[39mreturn\u001b[39;00m result\n",
      "File \u001b[1;32m~\\AppData\\Local\\Packages\\PythonSoftwareFoundation.Python.3.11_qbz5n2kfra8p0\\LocalCache\\local-packages\\Python311\\site-packages\\sklearn\\utils\\validation.py:394\u001b[0m, in \u001b[0;36mcheck_consistent_length\u001b[1;34m(*arrays)\u001b[0m\n\u001b[0;32m    383\u001b[0m \u001b[39mdef\u001b[39;00m \u001b[39mcheck_consistent_length\u001b[39m(\u001b[39m*\u001b[39marrays):\n\u001b[0;32m    384\u001b[0m \u001b[39m    \u001b[39m\u001b[39m\"\"\"Check that all arrays have consistent first dimensions.\u001b[39;00m\n\u001b[0;32m    385\u001b[0m \n\u001b[0;32m    386\u001b[0m \u001b[39m    Checks whether all objects in arrays have the same shape or length.\u001b[39;00m\n\u001b[1;32m   (...)\u001b[0m\n\u001b[0;32m    391\u001b[0m \u001b[39m        Objects that will be checked for consistent length.\u001b[39;00m\n\u001b[0;32m    392\u001b[0m \u001b[39m    \"\"\"\u001b[39;00m\n\u001b[1;32m--> 394\u001b[0m     lengths \u001b[39m=\u001b[39m [_num_samples(X) \u001b[39mfor\u001b[39;49;00m X \u001b[39min\u001b[39;49;00m arrays \u001b[39mif\u001b[39;49;00m X \u001b[39mis\u001b[39;49;00m \u001b[39mnot\u001b[39;49;00m \u001b[39mNone\u001b[39;49;00m]\n\u001b[0;32m    395\u001b[0m     uniques \u001b[39m=\u001b[39m np\u001b[39m.\u001b[39munique(lengths)\n\u001b[0;32m    396\u001b[0m     \u001b[39mif\u001b[39;00m \u001b[39mlen\u001b[39m(uniques) \u001b[39m>\u001b[39m \u001b[39m1\u001b[39m:\n",
      "File \u001b[1;32m~\\AppData\\Local\\Packages\\PythonSoftwareFoundation.Python.3.11_qbz5n2kfra8p0\\LocalCache\\local-packages\\Python311\\site-packages\\sklearn\\utils\\validation.py:394\u001b[0m, in \u001b[0;36m<listcomp>\u001b[1;34m(.0)\u001b[0m\n\u001b[0;32m    383\u001b[0m \u001b[39mdef\u001b[39;00m \u001b[39mcheck_consistent_length\u001b[39m(\u001b[39m*\u001b[39marrays):\n\u001b[0;32m    384\u001b[0m \u001b[39m    \u001b[39m\u001b[39m\"\"\"Check that all arrays have consistent first dimensions.\u001b[39;00m\n\u001b[0;32m    385\u001b[0m \n\u001b[0;32m    386\u001b[0m \u001b[39m    Checks whether all objects in arrays have the same shape or length.\u001b[39;00m\n\u001b[1;32m   (...)\u001b[0m\n\u001b[0;32m    391\u001b[0m \u001b[39m        Objects that will be checked for consistent length.\u001b[39;00m\n\u001b[0;32m    392\u001b[0m \u001b[39m    \"\"\"\u001b[39;00m\n\u001b[1;32m--> 394\u001b[0m     lengths \u001b[39m=\u001b[39m [_num_samples(X) \u001b[39mfor\u001b[39;00m X \u001b[39min\u001b[39;00m arrays \u001b[39mif\u001b[39;00m X \u001b[39mis\u001b[39;00m \u001b[39mnot\u001b[39;00m \u001b[39mNone\u001b[39;00m]\n\u001b[0;32m    395\u001b[0m     uniques \u001b[39m=\u001b[39m np\u001b[39m.\u001b[39munique(lengths)\n\u001b[0;32m    396\u001b[0m     \u001b[39mif\u001b[39;00m \u001b[39mlen\u001b[39m(uniques) \u001b[39m>\u001b[39m \u001b[39m1\u001b[39m:\n",
      "File \u001b[1;32m~\\AppData\\Local\\Packages\\PythonSoftwareFoundation.Python.3.11_qbz5n2kfra8p0\\LocalCache\\local-packages\\Python311\\site-packages\\sklearn\\utils\\validation.py:335\u001b[0m, in \u001b[0;36m_num_samples\u001b[1;34m(x)\u001b[0m\n\u001b[0;32m    333\u001b[0m \u001b[39mif\u001b[39;00m \u001b[39mhasattr\u001b[39m(x, \u001b[39m\"\u001b[39m\u001b[39mshape\u001b[39m\u001b[39m\"\u001b[39m) \u001b[39mand\u001b[39;00m x\u001b[39m.\u001b[39mshape \u001b[39mis\u001b[39;00m \u001b[39mnot\u001b[39;00m \u001b[39mNone\u001b[39;00m:\n\u001b[0;32m    334\u001b[0m     \u001b[39mif\u001b[39;00m \u001b[39mlen\u001b[39m(x\u001b[39m.\u001b[39mshape) \u001b[39m==\u001b[39m \u001b[39m0\u001b[39m:\n\u001b[1;32m--> 335\u001b[0m         \u001b[39mraise\u001b[39;00m \u001b[39mTypeError\u001b[39;00m(\n\u001b[0;32m    336\u001b[0m             \u001b[39m\"\u001b[39m\u001b[39mSingleton array \u001b[39m\u001b[39m%r\u001b[39;00m\u001b[39m cannot be considered a valid collection.\u001b[39m\u001b[39m\"\u001b[39m \u001b[39m%\u001b[39m x\n\u001b[0;32m    337\u001b[0m         )\n\u001b[0;32m    338\u001b[0m     \u001b[39m# Check that shape is returning an integer or default to len\u001b[39;00m\n\u001b[0;32m    339\u001b[0m     \u001b[39m# Dask dataframes may not return numeric shape[0] value\u001b[39;00m\n\u001b[0;32m    340\u001b[0m     \u001b[39mif\u001b[39;00m \u001b[39misinstance\u001b[39m(x\u001b[39m.\u001b[39mshape[\u001b[39m0\u001b[39m], numbers\u001b[39m.\u001b[39mIntegral):\n",
      "\u001b[1;31mTypeError\u001b[0m: Singleton array array(0) cannot be considered a valid collection."
     ]
    }
   ],
   "source": [
    "# Target/independent variable\n",
    "x = df.index[0]\n",
    "arr = np.array([0])\n",
    "arr = np.reshape(arr, (-1, 1))\n",
    "# Target variable/dependent variable\n",
    "y = df['Mortality_Rates'].values\n",
    "\n",
    "# Split data into training and testing sets\n",
    "x_train, x_test, y_train, y_test = train_test_split(x, y, test_size=0.2, random_state=42)\n",
    "\n",
    "regression_model = LinearRegression()\n",
    "\n",
    "# Train the regression model on training data\n",
    "regression_model.fit(x_train, y_train)\n",
    "\n",
    "# Plot the data points and linear regression line\n",
    "plt.scatter(x_test, y_test, color='blue')\n",
    "plt.plot(x_test, regression_model.predict(x_test), color='red')\n",
    "plt.title('Regression of Females and Mortality Rate')\n",
    "plt.xlabel('Mortality')\n",
    "plt.ylabel('Female')\n",
    "plt.show()"
   ]
  }
 ],
 "metadata": {
  "kernelspec": {
   "display_name": "Python 3",
   "language": "python",
   "name": "python3"
  },
  "language_info": {
   "codemirror_mode": {
    "name": "ipython",
    "version": 3
   },
   "file_extension": ".py",
   "mimetype": "text/x-python",
   "name": "python",
   "nbconvert_exporter": "python",
   "pygments_lexer": "ipython3",
   "version": "3.11.3"
  },
  "orig_nbformat": 4,
  "vscode": {
   "interpreter": {
    "hash": "d670acca4543613bc71420ba3b408e5826bdc54b760740e8ce26eaf03bb45f97"
   }
  }
 },
 "nbformat": 4,
 "nbformat_minor": 2
}
