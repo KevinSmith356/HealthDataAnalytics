{
 "cells": [
  {
   "cell_type": "code",
   "execution_count": 21,
   "metadata": {},
   "outputs": [],
   "source": [
    "# Import\n",
    "import pandas as pd\n",
    "import numpy as np\n",
    "from sklearn.linear_model import LinearRegression\n",
    "from sklearn.model_selection import train_test_split\n",
    "from sklearn.metrics import mean_squared_error, r2_score\n",
    "from sklearn.preprocessing import LabelEncoder\n",
    "le = LabelEncoder()"
   ]
  },
  {
   "cell_type": "code",
   "execution_count": 22,
   "metadata": {},
   "outputs": [
    {
     "name": "stdout",
     "output_type": "stream",
     "text": [
      "Requirement already satisfied: openpyxl in c:\\users\\silen\\appdata\\local\\packages\\pythonsoftwarefoundation.python.3.11_qbz5n2kfra8p0\\localcache\\local-packages\\python311\\site-packages (3.1.2)Note: you may need to restart the kernel to use updated packages.\n"
     ]
    },
    {
     "name": "stderr",
     "output_type": "stream",
     "text": [
      "\n",
      "[notice] A new release of pip is available: 23.1 -> 23.1.1\n",
      "[notice] To update, run: C:\\Users\\silen\\AppData\\Local\\Microsoft\\WindowsApps\\PythonSoftwareFoundation.Python.3.11_qbz5n2kfra8p0\\python.exe -m pip install --upgrade pip\n"
     ]
    },
    {
     "name": "stdout",
     "output_type": "stream",
     "text": [
      "\n",
      "Requirement already satisfied: et-xmlfile in c:\\users\\silen\\appdata\\local\\packages\\pythonsoftwarefoundation.python.3.11_qbz5n2kfra8p0\\localcache\\local-packages\\python311\\site-packages (from openpyxl) (1.1.0)\n"
     ]
    }
   ],
   "source": [
    "# Pip install to read xlsx files\n",
    "%pip install openpyxl"
   ]
  },
  {
   "cell_type": "code",
   "execution_count": 23,
   "metadata": {},
   "outputs": [],
   "source": [
    "# Load the datasets\n",
    "hospital=pd.read_excel(\"../DANL470/Origin/Clean_Hospitals and Doctors offices.xlsx\")\n",
    "insured=pd.read_excel(\"../DANL470/Origin/Clean_Insured rates.xlsx\")\n",
    "mortality=pd.read_excel(\"../DANL470/Origin/Clean_Maternal Mortality Rates.xlsx\")\n",
    "race_and_age=pd.read_excel(\"../DANL470/Origin/Clean_RaceANDAge.xlsx\")"
   ]
  },
  {
   "cell_type": "code",
   "execution_count": 24,
   "metadata": {},
   "outputs": [
    {
     "data": {
      "text/html": [
       "<div>\n",
       "<style scoped>\n",
       "    .dataframe tbody tr th:only-of-type {\n",
       "        vertical-align: middle;\n",
       "    }\n",
       "\n",
       "    .dataframe tbody tr th {\n",
       "        vertical-align: top;\n",
       "    }\n",
       "\n",
       "    .dataframe thead th {\n",
       "        text-align: right;\n",
       "    }\n",
       "</style>\n",
       "<table border=\"1\" class=\"dataframe\">\n",
       "  <thead>\n",
       "    <tr style=\"text-align: right;\">\n",
       "      <th></th>\n",
       "      <th>Geographic_Area_Name</th>\n",
       "      <th>Meaning_of_NAICS_code</th>\n",
       "      <th>Year</th>\n",
       "      <th>Number_of_establishments</th>\n",
       "      <th>Annual_payroll_($1,000)</th>\n",
       "      <th>Number_of_employees</th>\n",
       "    </tr>\n",
       "  </thead>\n",
       "  <tbody>\n",
       "    <tr>\n",
       "      <th>0</th>\n",
       "      <td>United States</td>\n",
       "      <td>Ambulatory health care services</td>\n",
       "      <td>2020</td>\n",
       "      <td>642970</td>\n",
       "      <td>495769754</td>\n",
       "      <td>7994079</td>\n",
       "    </tr>\n",
       "    <tr>\n",
       "      <th>1</th>\n",
       "      <td>United States</td>\n",
       "      <td>Hospitals</td>\n",
       "      <td>2020</td>\n",
       "      <td>7121</td>\n",
       "      <td>416877873</td>\n",
       "      <td>6184265</td>\n",
       "    </tr>\n",
       "    <tr>\n",
       "      <th>2</th>\n",
       "      <td>United States</td>\n",
       "      <td>Nursing and residential care facilities</td>\n",
       "      <td>2020</td>\n",
       "      <td>93113</td>\n",
       "      <td>116084943</td>\n",
       "      <td>3544511</td>\n",
       "    </tr>\n",
       "    <tr>\n",
       "      <th>3</th>\n",
       "      <td>United States</td>\n",
       "      <td>Social assistance</td>\n",
       "      <td>2020</td>\n",
       "      <td>184970</td>\n",
       "      <td>87763293</td>\n",
       "      <td>3493714</td>\n",
       "    </tr>\n",
       "    <tr>\n",
       "      <th>4</th>\n",
       "      <td>District of Columbia</td>\n",
       "      <td>Ambulatory health care services</td>\n",
       "      <td>2020</td>\n",
       "      <td>1258</td>\n",
       "      <td>1497992</td>\n",
       "      <td>22355</td>\n",
       "    </tr>\n",
       "  </tbody>\n",
       "</table>\n",
       "</div>"
      ],
      "text/plain": [
       "   Geographic_Area_Name                    Meaning_of_NAICS_code  Year  \\\n",
       "0         United States          Ambulatory health care services  2020   \n",
       "1         United States                                Hospitals  2020   \n",
       "2         United States  Nursing and residential care facilities  2020   \n",
       "3         United States                        Social assistance  2020   \n",
       "4  District of Columbia          Ambulatory health care services  2020   \n",
       "\n",
       "   Number_of_establishments  Annual_payroll_($1,000)  Number_of_employees  \n",
       "0                    642970                495769754              7994079  \n",
       "1                      7121                416877873              6184265  \n",
       "2                     93113                116084943              3544511  \n",
       "3                    184970                 87763293              3493714  \n",
       "4                      1258                  1497992                22355  "
      ]
     },
     "execution_count": 24,
     "metadata": {},
     "output_type": "execute_result"
    }
   ],
   "source": [
    "# Print the first 5 rows of hospital\n",
    "hospital.head()"
   ]
  },
  {
   "cell_type": "code",
   "execution_count": 25,
   "metadata": {},
   "outputs": [
    {
     "data": {
      "text/html": [
       "<div>\n",
       "<style scoped>\n",
       "    .dataframe tbody tr th:only-of-type {\n",
       "        vertical-align: middle;\n",
       "    }\n",
       "\n",
       "    .dataframe tbody tr th {\n",
       "        vertical-align: top;\n",
       "    }\n",
       "\n",
       "    .dataframe thead th {\n",
       "        text-align: right;\n",
       "    }\n",
       "</style>\n",
       "<table border=\"1\" class=\"dataframe\">\n",
       "  <thead>\n",
       "    <tr style=\"text-align: right;\">\n",
       "      <th></th>\n",
       "      <th>Label (Grouping)</th>\n",
       "      <th>United_States_Total_Estimate</th>\n",
       "      <th>United_States_Insured_Estimate</th>\n",
       "      <th>United_States_Uninsured_Estimate</th>\n",
       "      <th>District_of_Columbia_Total_Estimate</th>\n",
       "      <th>District_of_Columbia_Insured_Estimate</th>\n",
       "      <th>District_of_Columbia_Uninsured_Estimate</th>\n",
       "      <th>Maryland_Total_Estimate</th>\n",
       "      <th>Maryland_Insured_Estimate</th>\n",
       "      <th>Maryland_Uninsured_Estimate</th>\n",
       "      <th>Virginia_Total_Estimate</th>\n",
       "      <th>Virginia_Insured_Estimate</th>\n",
       "      <th>Virginia_Uninsured_Estimate</th>\n",
       "    </tr>\n",
       "  </thead>\n",
       "  <tbody>\n",
       "    <tr>\n",
       "      <th>0</th>\n",
       "      <td>AGE</td>\n",
       "      <td>NaN</td>\n",
       "      <td>NaN</td>\n",
       "      <td>NaN</td>\n",
       "      <td>NaN</td>\n",
       "      <td>NaN</td>\n",
       "      <td>NaN</td>\n",
       "      <td>NaN</td>\n",
       "      <td>NaN</td>\n",
       "      <td>NaN</td>\n",
       "      <td>NaN</td>\n",
       "      <td>NaN</td>\n",
       "      <td>NaN</td>\n",
       "    </tr>\n",
       "    <tr>\n",
       "      <th>1</th>\n",
       "      <td>6 to 18 years</td>\n",
       "      <td>55251332.0</td>\n",
       "      <td>52100615.0</td>\n",
       "      <td>3150717.0</td>\n",
       "      <td>84634.0</td>\n",
       "      <td>82081.0</td>\n",
       "      <td>2553.0</td>\n",
       "      <td>1013078.0</td>\n",
       "      <td>969011.0</td>\n",
       "      <td>44067.0</td>\n",
       "      <td>1418355.0</td>\n",
       "      <td>1354465.0</td>\n",
       "      <td>63890.0</td>\n",
       "    </tr>\n",
       "    <tr>\n",
       "      <th>2</th>\n",
       "      <td>19 to 25 years</td>\n",
       "      <td>29194212.0</td>\n",
       "      <td>25059158.0</td>\n",
       "      <td>4135054.0</td>\n",
       "      <td>67932.0</td>\n",
       "      <td>63815.0</td>\n",
       "      <td>4117.0</td>\n",
       "      <td>505683.0</td>\n",
       "      <td>457880.0</td>\n",
       "      <td>47803.0</td>\n",
       "      <td>746778.0</td>\n",
       "      <td>665822.0</td>\n",
       "      <td>80956.0</td>\n",
       "    </tr>\n",
       "    <tr>\n",
       "      <th>3</th>\n",
       "      <td>26 to 34 years</td>\n",
       "      <td>39736024.0</td>\n",
       "      <td>33724063.0</td>\n",
       "      <td>6011961.0</td>\n",
       "      <td>132584.0</td>\n",
       "      <td>126839.0</td>\n",
       "      <td>5745.0</td>\n",
       "      <td>719009.0</td>\n",
       "      <td>642548.0</td>\n",
       "      <td>76461.0</td>\n",
       "      <td>987375.0</td>\n",
       "      <td>866803.0</td>\n",
       "      <td>120572.0</td>\n",
       "    </tr>\n",
       "    <tr>\n",
       "      <th>4</th>\n",
       "      <td>35 to 44 years</td>\n",
       "      <td>42801119.0</td>\n",
       "      <td>37236650.0</td>\n",
       "      <td>5564469.0</td>\n",
       "      <td>107653.0</td>\n",
       "      <td>104301.0</td>\n",
       "      <td>3352.0</td>\n",
       "      <td>807815.0</td>\n",
       "      <td>731818.0</td>\n",
       "      <td>75997.0</td>\n",
       "      <td>1124666.0</td>\n",
       "      <td>1006843.0</td>\n",
       "      <td>117823.0</td>\n",
       "    </tr>\n",
       "  </tbody>\n",
       "</table>\n",
       "</div>"
      ],
      "text/plain": [
       "         Label (Grouping)  United_States_Total_Estimate  \\\n",
       "0                     AGE                           NaN   \n",
       "1           6 to 18 years                    55251332.0   \n",
       "2          19 to 25 years                    29194212.0   \n",
       "3          26 to 34 years                    39736024.0   \n",
       "4          35 to 44 years                    42801119.0   \n",
       "\n",
       "   United_States_Insured_Estimate  United_States_Uninsured_Estimate  \\\n",
       "0                             NaN                               NaN   \n",
       "1                      52100615.0                         3150717.0   \n",
       "2                      25059158.0                         4135054.0   \n",
       "3                      33724063.0                         6011961.0   \n",
       "4                      37236650.0                         5564469.0   \n",
       "\n",
       "   District_of_Columbia_Total_Estimate  District_of_Columbia_Insured_Estimate  \\\n",
       "0                                  NaN                                    NaN   \n",
       "1                              84634.0                                82081.0   \n",
       "2                              67932.0                                63815.0   \n",
       "3                             132584.0                               126839.0   \n",
       "4                             107653.0                               104301.0   \n",
       "\n",
       "   District_of_Columbia_Uninsured_Estimate  Maryland_Total_Estimate  \\\n",
       "0                                      NaN                      NaN   \n",
       "1                                   2553.0                1013078.0   \n",
       "2                                   4117.0                 505683.0   \n",
       "3                                   5745.0                 719009.0   \n",
       "4                                   3352.0                 807815.0   \n",
       "\n",
       "   Maryland_Insured_Estimate  Maryland_Uninsured_Estimate  \\\n",
       "0                        NaN                          NaN   \n",
       "1                   969011.0                      44067.0   \n",
       "2                   457880.0                      47803.0   \n",
       "3                   642548.0                      76461.0   \n",
       "4                   731818.0                      75997.0   \n",
       "\n",
       "   Virginia_Total_Estimate  Virginia_Insured_Estimate  \\\n",
       "0                      NaN                        NaN   \n",
       "1                1418355.0                  1354465.0   \n",
       "2                 746778.0                   665822.0   \n",
       "3                 987375.0                   866803.0   \n",
       "4                1124666.0                  1006843.0   \n",
       "\n",
       "   Virginia_Uninsured_Estimate  \n",
       "0                          NaN  \n",
       "1                      63890.0  \n",
       "2                      80956.0  \n",
       "3                     120572.0  \n",
       "4                     117823.0  "
      ]
     },
     "execution_count": 25,
     "metadata": {},
     "output_type": "execute_result"
    }
   ],
   "source": [
    "# Print the first 5 rows of inssured\n",
    "insured.head()"
   ]
  },
  {
   "cell_type": "code",
   "execution_count": 26,
   "metadata": {},
   "outputs": [
    {
     "data": {
      "text/html": [
       "<div>\n",
       "<style scoped>\n",
       "    .dataframe tbody tr th:only-of-type {\n",
       "        vertical-align: middle;\n",
       "    }\n",
       "\n",
       "    .dataframe tbody tr th {\n",
       "        vertical-align: top;\n",
       "    }\n",
       "\n",
       "    .dataframe thead th {\n",
       "        text-align: right;\n",
       "    }\n",
       "</style>\n",
       "<table border=\"1\" class=\"dataframe\">\n",
       "  <thead>\n",
       "    <tr style=\"text-align: right;\">\n",
       "      <th></th>\n",
       "      <th>Deaths</th>\n",
       "      <th>Mortality_Rates</th>\n",
       "    </tr>\n",
       "  </thead>\n",
       "  <tbody>\n",
       "    <tr>\n",
       "      <th>0</th>\n",
       "      <td>3478</td>\n",
       "      <td>23.5</td>\n",
       "    </tr>\n",
       "    <tr>\n",
       "      <th>1</th>\n",
       "      <td>11</td>\n",
       "      <td>NaN</td>\n",
       "    </tr>\n",
       "    <tr>\n",
       "      <th>2</th>\n",
       "      <td>59</td>\n",
       "      <td>21.2</td>\n",
       "    </tr>\n",
       "    <tr>\n",
       "      <th>3</th>\n",
       "      <td>113</td>\n",
       "      <td>29.1</td>\n",
       "    </tr>\n",
       "  </tbody>\n",
       "</table>\n",
       "</div>"
      ],
      "text/plain": [
       "   Deaths  Mortality_Rates\n",
       "0    3478             23.5\n",
       "1      11              NaN\n",
       "2      59             21.2\n",
       "3     113             29.1"
      ]
     },
     "execution_count": 26,
     "metadata": {},
     "output_type": "execute_result"
    }
   ],
   "source": [
    "# Print the first 5 rows of mortality\n",
    "mortality.head()"
   ]
  },
  {
   "cell_type": "code",
   "execution_count": 27,
   "metadata": {},
   "outputs": [
    {
     "data": {
      "text/html": [
       "<div>\n",
       "<style scoped>\n",
       "    .dataframe tbody tr th:only-of-type {\n",
       "        vertical-align: middle;\n",
       "    }\n",
       "\n",
       "    .dataframe tbody tr th {\n",
       "        vertical-align: top;\n",
       "    }\n",
       "\n",
       "    .dataframe thead th {\n",
       "        text-align: right;\n",
       "    }\n",
       "</style>\n",
       "<table border=\"1\" class=\"dataframe\">\n",
       "  <thead>\n",
       "    <tr style=\"text-align: right;\">\n",
       "      <th></th>\n",
       "      <th>Unnamed: 0</th>\n",
       "      <th>United_States</th>\n",
       "      <th>District_of_Columbia</th>\n",
       "      <th>Maryland</th>\n",
       "      <th>Virginia</th>\n",
       "    </tr>\n",
       "  </thead>\n",
       "  <tbody>\n",
       "    <tr>\n",
       "      <th>0</th>\n",
       "      <td>Label</td>\n",
       "      <td>Estimate</td>\n",
       "      <td>Estimate</td>\n",
       "      <td>Estimate</td>\n",
       "      <td>Estimate</td>\n",
       "    </tr>\n",
       "    <tr>\n",
       "      <th>1</th>\n",
       "      <td>SEX AND AGE</td>\n",
       "      <td>NaN</td>\n",
       "      <td>NaN</td>\n",
       "      <td>NaN</td>\n",
       "      <td>NaN</td>\n",
       "    </tr>\n",
       "    <tr>\n",
       "      <th>2</th>\n",
       "      <td>Total population</td>\n",
       "      <td>331893745</td>\n",
       "      <td>670050</td>\n",
       "      <td>6165129</td>\n",
       "      <td>8642274</td>\n",
       "    </tr>\n",
       "    <tr>\n",
       "      <th>3</th>\n",
       "      <td>Female</td>\n",
       "      <td>167543042</td>\n",
       "      <td>351025</td>\n",
       "      <td>3162038</td>\n",
       "      <td>4368343</td>\n",
       "    </tr>\n",
       "    <tr>\n",
       "      <th>4</th>\n",
       "      <td>15 to 19 years</td>\n",
       "      <td>21824088</td>\n",
       "      <td>35516</td>\n",
       "      <td>390410</td>\n",
       "      <td>570825</td>\n",
       "    </tr>\n",
       "  </tbody>\n",
       "</table>\n",
       "</div>"
      ],
      "text/plain": [
       "         Unnamed: 0 United_States District_of_Columbia  Maryland  Virginia\n",
       "0             Label      Estimate             Estimate  Estimate  Estimate\n",
       "1       SEX AND AGE           NaN                  NaN       NaN       NaN\n",
       "2  Total population     331893745               670050   6165129   8642274\n",
       "3            Female     167543042               351025   3162038   4368343\n",
       "4    15 to 19 years      21824088                35516    390410    570825"
      ]
     },
     "execution_count": 27,
     "metadata": {},
     "output_type": "execute_result"
    }
   ],
   "source": [
    "# Print the first 5 rows of race and age\n",
    "race_and_age.head()"
   ]
  },
  {
   "cell_type": "code",
   "execution_count": 28,
   "metadata": {},
   "outputs": [
    {
     "data": {
      "text/plain": [
       "Geographic_Area_Name        0\n",
       "Meaning_of_NAICS_code       0\n",
       "Year                        0\n",
       "Number_of_establishments    0\n",
       "Annual_payroll_($1,000)     0\n",
       "Number_of_employees         0\n",
       "dtype: int64"
      ]
     },
     "execution_count": 28,
     "metadata": {},
     "output_type": "execute_result"
    }
   ],
   "source": [
    "# Check for null values\n",
    "hospital.isnull().sum()"
   ]
  },
  {
   "cell_type": "code",
   "execution_count": 29,
   "metadata": {},
   "outputs": [
    {
     "data": {
      "text/plain": [
       "Label (Grouping)                           0\n",
       "United_States_Total_Estimate               3\n",
       "United_States_Insured_Estimate             3\n",
       "United_States_Uninsured_Estimate           3\n",
       "District_of_Columbia_Total_Estimate        3\n",
       "District_of_Columbia_Insured_Estimate      3\n",
       "District_of_Columbia_Uninsured_Estimate    3\n",
       "Maryland_Total_Estimate                    3\n",
       "Maryland_Insured_Estimate                  3\n",
       "Maryland_Uninsured_Estimate                3\n",
       "Virginia_Total_Estimate                    3\n",
       "Virginia_Insured_Estimate                  3\n",
       "Virginia_Uninsured_Estimate                3\n",
       "dtype: int64"
      ]
     },
     "execution_count": 29,
     "metadata": {},
     "output_type": "execute_result"
    }
   ],
   "source": [
    "# Check for null values\n",
    "insured.isnull().sum()"
   ]
  },
  {
   "cell_type": "code",
   "execution_count": 33,
   "metadata": {},
   "outputs": [],
   "source": [
    "# Replace null values by max count of the column\n",
    "insured.United_States_Total_Estimate.fillna(insured.United_States_Total_Estimate.value_counts().idxmax(), inplace=True)\n",
    "insured.United_States_Insured_Estimate.fillna(insured.United_States_Insured_Estimate.value_counts().idxmax(), inplace=True)\n",
    "insured.United_States_Uninsured_Estimate.fillna(insured.United_States_Uninsured_Estimate.value_counts().idxmax(), inplace=True)\n",
    "insured.District_of_Columbia_Total_Estimate.fillna(insured.District_of_Columbia_Total_Estimate.value_counts().idxmax(), inplace=True)\n",
    "\n",
    "insured.District_of_Columbia_Insured_Estimate.fillna(insured.District_of_Columbia_Insured_Estimate.value_counts().idxmax(), inplace=True)\n",
    "insured.District_of_Columbia_Uninsured_Estimate.fillna(insured.District_of_Columbia_Uninsured_Estimate.value_counts().idxmax(), inplace=True)\n",
    "insured.United_States_Uninsured_Estimate.fillna(insured.United_States_Uninsured_Estimate.value_counts().idxmax(), inplace=True)\n",
    "insured.District_of_Columbia_Total_Estimate.fillna(insured.District_of_Columbia_Total_Estimate.value_counts().idxmax(), inplace=True)\n"
   ]
  },
  {
   "cell_type": "code",
   "execution_count": null,
   "metadata": {},
   "outputs": [],
   "source": [
    "District_of_Columbia_Uninsured_Estimate    \n",
    "Maryland_Total_Estimate                    \n",
    "Maryland_Insured_Estimate                  \n",
    "Maryland_Uninsured_Estimate                \n",
    "Virginia_Total_Estimate                    \n",
    "Virginia_Insured_Estimate                  \n",
    "Virginia_Uninsured_Estimate                "
   ]
  }
 ],
 "metadata": {
  "kernelspec": {
   "display_name": "Python 3",
   "language": "python",
   "name": "python3"
  },
  "language_info": {
   "codemirror_mode": {
    "name": "ipython",
    "version": 3
   },
   "file_extension": ".py",
   "mimetype": "text/x-python",
   "name": "python",
   "nbconvert_exporter": "python",
   "pygments_lexer": "ipython3",
   "version": "3.11.3"
  },
  "orig_nbformat": 4,
  "vscode": {
   "interpreter": {
    "hash": "d670acca4543613bc71420ba3b408e5826bdc54b760740e8ce26eaf03bb45f97"
   }
  }
 },
 "nbformat": 4,
 "nbformat_minor": 2
}
