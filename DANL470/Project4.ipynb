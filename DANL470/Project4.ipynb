{
 "cells": [
  {
   "cell_type": "code",
   "execution_count": 7,
   "metadata": {},
   "outputs": [],
   "source": [
    "# Import\n",
    "import pandas as pd\n",
    "import numpy as np\n",
    "from sklearn.linear_model import LinearRegression\n",
    "from sklearn.model_selection import train_test_split\n",
    "from sklearn.metrics import mean_squared_error, r2_score\n",
    "from sklearn.preprocessing import LabelEncoder\n",
    "le = LabelEncoder()\n",
    "import matplotlib.pyplot as plt\n",
    "from pandas import Index"
   ]
  },
  {
   "cell_type": "code",
   "execution_count": 8,
   "metadata": {},
   "outputs": [],
   "source": [
    "# Load datasets\n",
    "mm3 = pd.read_excel(\"../DANL470/Attempt_MM3.xlsx\")\n",
    "mm5 = pd.read_excel(\"../DANL470/Attempt_MM5.xlsx\")"
   ]
  },
  {
   "cell_type": "code",
   "execution_count": 9,
   "metadata": {},
   "outputs": [],
   "source": [
    "# Divide into categories and numerical\n",
    "mm3_cat = mm3.select_dtypes(object)\n",
    "mm5_cat = mm5.select_dtypes(object)\n",
    "\n",
    "mm3_num = mm3.select_dtypes(np.number)\n",
    "mm5_num = mm5.select_dtypes(np.number)"
   ]
  },
  {
   "cell_type": "code",
   "execution_count": 10,
   "metadata": {},
   "outputs": [
    {
     "data": {
      "text/plain": [
       "Maternal_age    0\n",
       "dtype: int64"
      ]
     },
     "execution_count": 10,
     "metadata": {},
     "output_type": "execute_result"
    }
   ],
   "source": [
    "# Check for null values\n",
    "mm3_cat.isnull().sum()"
   ]
  },
  {
   "cell_type": "code",
   "execution_count": 11,
   "metadata": {},
   "outputs": [
    {
     "data": {
      "text/plain": [
       "Demographic_variable    0\n",
       "dtype: int64"
      ]
     },
     "execution_count": 11,
     "metadata": {},
     "output_type": "execute_result"
    }
   ],
   "source": [
    "# Check for null values\n",
    "mm5_cat.isnull().sum()"
   ]
  },
  {
   "cell_type": "code",
   "execution_count": 12,
   "metadata": {},
   "outputs": [],
   "source": [
    "# Replace categories with numerical values\n",
    "mm3_cat = mm3_cat.apply(le.fit_transform)\n",
    "mm5_cat = mm5_cat.apply(le.fit_transform)"
   ]
  },
  {
   "cell_type": "code",
   "execution_count": 13,
   "metadata": {},
   "outputs": [
    {
     "data": {
      "text/plain": [
       "All_races_maternal_deaths            0\n",
       "All_races_number_of_live_births      0\n",
       "All_races_maternal_mortality_rate    0\n",
       "NH_White_maternal_deaths             0\n",
       "NH_white_number_of_live_Births       0\n",
       "NH_White_maternal_mortality_rate     0\n",
       "NH_black_maternal_deaths             0\n",
       "NH_Black_number_of_live_births       0\n",
       "NH_Black_maternal_mortality_rate     0\n",
       "Hispanic_maternal_deaths             0\n",
       "Hispanic_number_of_live_births       0\n",
       "Hispanic_maternal_mortality_rate     0\n",
       "dtype: int64"
      ]
     },
     "execution_count": 13,
     "metadata": {},
     "output_type": "execute_result"
    }
   ],
   "source": [
    "# Check for null values\n",
    "mm3_num.isna().sum()"
   ]
  },
  {
   "cell_type": "code",
   "execution_count": 14,
   "metadata": {},
   "outputs": [
    {
     "data": {
      "text/plain": [
       "Under_20_Maternal_age                    0\n",
       "20_to_24_Maternal_age                    0\n",
       "25_to_29_Maternal_age                    0\n",
       "30_to_34_Maternal_age                    0\n",
       "35_to_39_Maternal_age                    0\n",
       "40_or_over_Maternal_age                  0\n",
       "All_ages_Maternal_age                    0\n",
       "Under_12_years_Maternal_education_1      0\n",
       "12_years_Maternal_education_1            0\n",
       "13_15_years_Maternal_education_1         0\n",
       "16_or_more_years_Maternal_education_1    0\n",
       "Married_Marital_status_2                 0\n",
       "Unmarried_Marital_status_2               0\n",
       "US_born                                  0\n",
       "Foreign_born                             0\n",
       "Metro_(urban)                            0\n",
       "Non_Metro_(rural)                        0\n",
       "Northeast                                0\n",
       "Midwest                                  0\n",
       "South                                    0\n",
       "West                                     1\n",
       "Infections                               1\n",
       "HIV                                      6\n",
       "Chronic_diseases                         0\n",
       "Mental_disorders                         1\n",
       "CVD                                      0\n",
       "Respiratory_diseases                     0\n",
       "dtype: int64"
      ]
     },
     "execution_count": 14,
     "metadata": {},
     "output_type": "execute_result"
    }
   ],
   "source": [
    "# Check for null values\n",
    "mm5_num.isna().sum()"
   ]
  },
  {
   "cell_type": "code",
   "execution_count": 15,
   "metadata": {},
   "outputs": [],
   "source": [
    "# Replace null values with the mean of the columns\n",
    "mm5_num.West.fillna(mm5_num.West.mean(), inplace=True)\n",
    "mm5_num.Infections.fillna(mm5_num.Infections.mean(), inplace=True)\n",
    "mm5_num.HIV.fillna(mm5_num.HIV.mean(), inplace=True)\n",
    "mm5_num.Mental_disorders.fillna(mm5_num.Mental_disorders.mean(), inplace=True)"
   ]
  },
  {
   "cell_type": "code",
   "execution_count": 16,
   "metadata": {},
   "outputs": [],
   "source": [
    "# Combine the datasets\n",
    "mm3_final = pd.concat([mm3_cat,mm3_num], axis=1)\n",
    "mm5_final = pd.concat([mm5_cat,mm5_num], axis=1)"
   ]
  },
  {
   "cell_type": "code",
   "execution_count": 25,
   "metadata": {},
   "outputs": [
    {
     "data": {
      "image/png": "[encoded data removed]",
      "text/plain": [
       "<Figure size 640x480 with 1 Axes>"
      ]
     },
     "metadata": {},
     "output_type": "display_data"
    }
   ],
   "source": [
    "# Target/independent variable\n",
    "x = mm3_final[['NH_Black_maternal_mortality_rate']].values\n",
    "# Target variable/dependent variable\n",
    "y = mm3_final['Maternal_age'].values\n",
    "\n",
    "# Split data into training and testing sets\n",
    "x_train, x_test, y_train, y_test = train_test_split(x, y, test_size=0.2, random_state=42)\n",
    "\n",
    "regression_model = LinearRegression()\n",
    "\n",
    "# Train the regression model on training data\n",
    "regression_model.fit(x_train, y_train)\n",
    "\n",
    "# Plot the data points and linear regression line\n",
    "plt.scatter(x_test, y_test, color='blue')\n",
    "plt.plot(x_test, regression_model.predict(x_test), color='red')\n",
    "plt.title('Regression of Black Women Mortality')\n",
    "plt.xlabel('Black Women Maternal Deaths')\n",
    "plt.ylabel('Maternal Age')\n",
    "plt.show()"
   ]
  },
  {
   "cell_type": "code",
   "execution_count": 24,
   "metadata": {},
   "outputs": [
    {
     "name": "stdout",
     "output_type": "stream",
     "text": [
      "Index(['Maternal_age', 'All_races_maternal_deaths',\n",
      "       'All_races_number_of_live_births', 'All_races_maternal_mortality_rate',\n",
      "       'NH_White_maternal_deaths', 'NH_white_number_of_live_Births',\n",
      "       'NH_White_maternal_mortality_rate', 'NH_black_maternal_deaths',\n",
      "       'NH_Black_number_of_live_births', 'NH_Black_maternal_mortality_rate',\n",
      "       'Hispanic_maternal_deaths', 'Hispanic_number_of_live_births',\n",
      "       'Hispanic_maternal_mortality_rate'],\n",
      "      dtype='object')\n"
     ]
    }
   ],
   "source": [
    "print(mm3.columns)"
   ]
  }
 ],
 "metadata": {
  "kernelspec": {
   "display_name": "Python 3",
   "language": "python",
   "name": "python3"
  },
  "language_info": {
   "codemirror_mode": {
    "name": "ipython",
    "version": 3
   },
   "file_extension": ".py",
   "mimetype": "text/x-python",
   "name": "python",
   "nbconvert_exporter": "python",
   "pygments_lexer": "ipython3",
   "version": "3.11.3"
  },
  "orig_nbformat": 4,
  "vscode": {
   "interpreter": {
    "hash": "d670acca4543613bc71420ba3b408e5826bdc54b760740e8ce26eaf03bb45f97"
   }
  }
 },
 "nbformat": 4,
 "nbformat_minor": 2
}
