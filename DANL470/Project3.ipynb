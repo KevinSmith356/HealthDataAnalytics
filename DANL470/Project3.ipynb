{
 "cells": [
  {
   "cell_type": "code",
   "execution_count": 1,
   "metadata": {},
   "outputs": [],
   "source": [
    "# Import\n",
    "import pandas as pd\n",
    "import numpy as np\n",
    "from sklearn.linear_model import LinearRegression\n",
    "from sklearn.model_selection import train_test_split\n",
    "from sklearn.metrics import mean_squared_error, r2_score\n",
    "from sklearn.preprocessing import LabelEncoder\n",
    "le = LabelEncoder()\n",
    "import matplotlib.pyplot as plt\n",
    "from pandas import Index"
   ]
  },
  {
   "cell_type": "code",
   "execution_count": 2,
   "metadata": {},
   "outputs": [],
   "source": [
    "# Load the datasets\n",
    "hospital = pd.read_excel(\"../DANL470/Origin/Attempt_Hospitals and Doctors Offices 2020 table.xlsx\")\n",
    "insured = pd.read_excel(\"../DANL470/Origin/Attempt_Insured Rates ACS table.xlsx\")\n",
    "maternal = pd.read_excel(\"../DANL470/Origin/Attempt_Maternal mortality rates.xlsx\")\n",
    "race = pd.read_excel(\"../DANL470/Origin/Attempt_Race and Age ACS table.xlsx\")"
   ]
  },
  {
   "cell_type": "code",
   "execution_count": 3,
   "metadata": {},
   "outputs": [],
   "source": [
    "# Divide into categories and numerical\n",
    "hospital_cat = hospital.select_dtypes(object)\n",
    "insured_cat = insured.select_dtypes(object)\n",
    "maternal_cat = maternal.select_dtypes(object)\n",
    "race_cat = race.select_dtypes(object)\n",
    "\n",
    "hospital_num = hospital.select_dtypes(np.number)\n",
    "insured_num = insured.select_dtypes(np.number)\n",
    "maternal_num = maternal.select_dtypes(np.number)\n",
    "race_num = race.select_dtypes(np.number)"
   ]
  },
  {
   "cell_type": "code",
   "execution_count": 4,
   "metadata": {},
   "outputs": [
    {
     "data": {
      "text/plain": [
       "Geographic_Area_Name              0\n",
       "Meaning_of_NAICS_code             0\n",
       "Number_of_establishments          0\n",
       "Annual_payroll_($1,000)           0\n",
       "First-quarter_payroll_($1,000)    0\n",
       "Number_of_employees               0\n",
       "dtype: int64"
      ]
     },
     "execution_count": 4,
     "metadata": {},
     "output_type": "execute_result"
    }
   ],
   "source": [
    "# Check for null values\n",
    "hospital_cat.isnull().sum()"
   ]
  },
  {
   "cell_type": "code",
   "execution_count": 24,
   "metadata": {},
   "outputs": [
    {
     "data": {
      "text/plain": [
       "State Insured and Uninsured                                    0\n",
       "Female                                                         0\n",
       "6_to_18_years                                                  0\n",
       "19_to_25_years                                                 0\n",
       "26_to_34_years                                                 0\n",
       "35_to_44_years                                                 0\n",
       "45_to_54_years                                                 0\n",
       "55_to_64_years                                                 0\n",
       "65_to_74_years                                                 0\n",
       "75_years_and_older                                             0\n",
       "Female.1                                                       0\n",
       "White_Alone                                                    0\n",
       "Black_or_African_American_Alone                                0\n",
       "With_Disability                                                0\n",
       "No_Disability                                                  0\n",
       "In_family_household(in_married_couple_families)                0\n",
       "In_family_household(in_other_families)                         0\n",
       "Female_reference_person_no_spouse_present                      0\n",
       "In_non_family_households_and_other_living_arrangements         0\n",
       "Native_born                                                    0\n",
       "Foreign_born(naturalized)                                      0\n",
       "Foreign_born(not_a_citizen)                                    0\n",
       "Less than high school graduate                                 0\n",
       "High school graduate (includes equivalency)                    0\n",
       "Some college or associate's degree                             0\n",
       "Bachelor's degree or higher                                    0\n",
       "In_labor_force_employed                                        0\n",
       "In_labor_force_unemployed                                      0\n",
       "Not_in_labor_force                                             0\n",
       "Worked_full_time_year_round_in_the_past_12_months              0\n",
       "Worked_less_than_full_time_year_round_in_the_past_12_months    0\n",
       "Did_not_work                                                   0\n",
       "Household_income_under_$25000                                  0\n",
       "Household_income_$25000_to_$49999                              0\n",
       "Household_income_$50000_to_$74999                              0\n",
       "Household_income_$75000_to_$99999                              0\n",
       "Household_income_$100000_and_over                              0\n",
       "Below_138%_of_the_poverty_threshold                            0\n",
       "138%_399%_of_the_poverty_threshold                             0\n",
       "At_above_400%_of_the_poverty_threshold                         0\n",
       "Below_100%_of_the_poverty_threshold                            0\n",
       "dtype: int64"
      ]
     },
     "execution_count": 24,
     "metadata": {},
     "output_type": "execute_result"
    }
   ],
   "source": [
    "# Check for null values\n",
    "insured_cat.isnull().sum()"
   ]
  },
  {
   "cell_type": "code",
   "execution_count": 6,
   "metadata": {},
   "outputs": [
    {
     "data": {
      "text/plain": [
       "Area    0\n",
       "dtype: int64"
      ]
     },
     "execution_count": 6,
     "metadata": {},
     "output_type": "execute_result"
    }
   ],
   "source": [
    "# Check for null values\n",
    "maternal_cat.isnull().sum()"
   ]
  },
  {
   "cell_type": "code",
   "execution_count": 7,
   "metadata": {},
   "outputs": [
    {
     "data": {
      "text/plain": [
       "State_Estimate_Percent               0\n",
       "Female                               0\n",
       "White_one_race                       0\n",
       "Black_or_African_America_one_race    0\n",
       "18_years_and_over                    0\n",
       "65_years_and_over                    0\n",
       "Voting_18_and_over_population        0\n",
       "dtype: int64"
      ]
     },
     "execution_count": 7,
     "metadata": {},
     "output_type": "execute_result"
    }
   ],
   "source": [
    "# Check for null values\n",
    "race_cat.isnull().sum()"
   ]
  },
  {
   "cell_type": "code",
   "execution_count": 8,
   "metadata": {},
   "outputs": [],
   "source": [
    "# Replace categories with numerical\n",
    "hospital_cat = hospital_cat.apply(le.fit_transform)\n",
    "insured_cat = insured_cat.apply(le.fit_transform)\n",
    "maternal_cat = maternal_cat.apply(le.fit_transform)"
   ]
  },
  {
   "cell_type": "code",
   "execution_count": 12,
   "metadata": {},
   "outputs": [],
   "source": [
    "race_cat = race_cat.astype(str)\n",
    "race_cat = race_cat.apply(le.fit_transform)"
   ]
  },
  {
   "cell_type": "code",
   "execution_count": 13,
   "metadata": {},
   "outputs": [
    {
     "data": {
      "text/plain": [
       "2017_NAICS_code    0\n",
       "Year               0\n",
       "dtype: int64"
      ]
     },
     "execution_count": 13,
     "metadata": {},
     "output_type": "execute_result"
    }
   ],
   "source": [
    "# Check for null values\n",
    "hospital_num.isna().sum()"
   ]
  },
  {
   "cell_type": "code",
   "execution_count": 14,
   "metadata": {},
   "outputs": [
    {
     "data": {
      "text/plain": [
       "Series([], dtype: float64)"
      ]
     },
     "execution_count": 14,
     "metadata": {},
     "output_type": "execute_result"
    }
   ],
   "source": [
    "# Check for null values\n",
    "insured_num.isna().sum()"
   ]
  },
  {
   "cell_type": "code",
   "execution_count": 15,
   "metadata": {},
   "outputs": [
    {
     "data": {
      "text/plain": [
       "Deaths                     0\n",
       "Maternal_mortality_rate    1\n",
       "dtype: int64"
      ]
     },
     "execution_count": 15,
     "metadata": {},
     "output_type": "execute_result"
    }
   ],
   "source": [
    "# Check for null values\n",
    "maternal_num.isna().sum()"
   ]
  },
  {
   "cell_type": "code",
   "execution_count": 17,
   "metadata": {},
   "outputs": [],
   "source": [
    "maternal_num.Maternal_mortality_rate.fillna(maternal_num.Maternal_mortality_rate.mean(), inplace=True)"
   ]
  },
  {
   "cell_type": "code",
   "execution_count": 18,
   "metadata": {},
   "outputs": [
    {
     "data": {
      "text/plain": [
       "Series([], dtype: float64)"
      ]
     },
     "execution_count": 18,
     "metadata": {},
     "output_type": "execute_result"
    }
   ],
   "source": [
    "race_num.isna().sum()"
   ]
  },
  {
   "cell_type": "code",
   "execution_count": 19,
   "metadata": {},
   "outputs": [],
   "source": [
    "# Combine the categories and numerical\n",
    "hospital_final = pd.concat([hospital_cat, hospital_num], axis=1)\n",
    "insured_final = pd.concat([insured_cat, insured_num], axis=1)\n",
    "maternal_final = pd.concat([maternal_cat, maternal_num], axis=1)\n",
    "race_final = pd.concat([race_cat, race_num], axis=1)"
   ]
  },
  {
   "cell_type": "code",
   "execution_count": null,
   "metadata": {},
   "outputs": [],
   "source": [
    "# Combine the datasets into one dataframe\n",
    "df = pd.concat([hospital_final, insured_final, maternal_final, race_final], axis=1)"
   ]
  },
  {
   "cell_type": "code",
   "execution_count": 26,
   "metadata": {},
   "outputs": [
    {
     "ename": "ValueError",
     "evalue": "Found input variables with inconsistent numbers of samples: [20, 4]",
     "output_type": "error",
     "traceback": [
      "\u001b[1;31m---------------------------------------------------------------------------\u001b[0m",
      "\u001b[1;31mValueError\u001b[0m                                Traceback (most recent call last)",
      "Cell \u001b[1;32mIn[26], line 7\u001b[0m\n\u001b[0;32m      4\u001b[0m y \u001b[39m=\u001b[39m maternal_final[\u001b[39m'\u001b[39m\u001b[39mDeaths\u001b[39m\u001b[39m'\u001b[39m]\u001b[39m.\u001b[39mvalues\n\u001b[0;32m      6\u001b[0m \u001b[39m# Split data into training and testing sets\u001b[39;00m\n\u001b[1;32m----> 7\u001b[0m x_train, x_test, y_train, y_test \u001b[39m=\u001b[39m train_test_split(x, y, test_size\u001b[39m=\u001b[39;49m\u001b[39m0.2\u001b[39;49m, random_state\u001b[39m=\u001b[39;49m\u001b[39m42\u001b[39;49m)\n\u001b[0;32m      9\u001b[0m regression_model \u001b[39m=\u001b[39m LinearRegression()\n\u001b[0;32m     11\u001b[0m \u001b[39m# Train the regression model on training data\u001b[39;00m\n",
      "File \u001b[1;32m~\\AppData\\Local\\Packages\\PythonSoftwareFoundation.Python.3.11_qbz5n2kfra8p0\\LocalCache\\local-packages\\Python311\\site-packages\\sklearn\\model_selection\\_split.py:2559\u001b[0m, in \u001b[0;36mtrain_test_split\u001b[1;34m(test_size, train_size, random_state, shuffle, stratify, *arrays)\u001b[0m\n\u001b[0;32m   2556\u001b[0m \u001b[39mif\u001b[39;00m n_arrays \u001b[39m==\u001b[39m \u001b[39m0\u001b[39m:\n\u001b[0;32m   2557\u001b[0m     \u001b[39mraise\u001b[39;00m \u001b[39mValueError\u001b[39;00m(\u001b[39m\"\u001b[39m\u001b[39mAt least one array required as input\u001b[39m\u001b[39m\"\u001b[39m)\n\u001b[1;32m-> 2559\u001b[0m arrays \u001b[39m=\u001b[39m indexable(\u001b[39m*\u001b[39;49marrays)\n\u001b[0;32m   2561\u001b[0m n_samples \u001b[39m=\u001b[39m _num_samples(arrays[\u001b[39m0\u001b[39m])\n\u001b[0;32m   2562\u001b[0m n_train, n_test \u001b[39m=\u001b[39m _validate_shuffle_split(\n\u001b[0;32m   2563\u001b[0m     n_samples, test_size, train_size, default_test_size\u001b[39m=\u001b[39m\u001b[39m0.25\u001b[39m\n\u001b[0;32m   2564\u001b[0m )\n",
      "File \u001b[1;32m~\\AppData\\Local\\Packages\\PythonSoftwareFoundation.Python.3.11_qbz5n2kfra8p0\\LocalCache\\local-packages\\Python311\\site-packages\\sklearn\\utils\\validation.py:443\u001b[0m, in \u001b[0;36mindexable\u001b[1;34m(*iterables)\u001b[0m\n\u001b[0;32m    424\u001b[0m \u001b[39m\u001b[39m\u001b[39m\"\"\"Make arrays indexable for cross-validation.\u001b[39;00m\n\u001b[0;32m    425\u001b[0m \n\u001b[0;32m    426\u001b[0m \u001b[39mChecks consistent length, passes through None, and ensures that everything\u001b[39;00m\n\u001b[1;32m   (...)\u001b[0m\n\u001b[0;32m    439\u001b[0m \u001b[39m    sparse matrix, or dataframe) or `None`.\u001b[39;00m\n\u001b[0;32m    440\u001b[0m \u001b[39m\"\"\"\u001b[39;00m\n\u001b[0;32m    442\u001b[0m result \u001b[39m=\u001b[39m [_make_indexable(X) \u001b[39mfor\u001b[39;00m X \u001b[39min\u001b[39;00m iterables]\n\u001b[1;32m--> 443\u001b[0m check_consistent_length(\u001b[39m*\u001b[39;49mresult)\n\u001b[0;32m    444\u001b[0m \u001b[39mreturn\u001b[39;00m result\n",
      "File \u001b[1;32m~\\AppData\\Local\\Packages\\PythonSoftwareFoundation.Python.3.11_qbz5n2kfra8p0\\LocalCache\\local-packages\\Python311\\site-packages\\sklearn\\utils\\validation.py:397\u001b[0m, in \u001b[0;36mcheck_consistent_length\u001b[1;34m(*arrays)\u001b[0m\n\u001b[0;32m    395\u001b[0m uniques \u001b[39m=\u001b[39m np\u001b[39m.\u001b[39munique(lengths)\n\u001b[0;32m    396\u001b[0m \u001b[39mif\u001b[39;00m \u001b[39mlen\u001b[39m(uniques) \u001b[39m>\u001b[39m \u001b[39m1\u001b[39m:\n\u001b[1;32m--> 397\u001b[0m     \u001b[39mraise\u001b[39;00m \u001b[39mValueError\u001b[39;00m(\n\u001b[0;32m    398\u001b[0m         \u001b[39m\"\u001b[39m\u001b[39mFound input variables with inconsistent numbers of samples: \u001b[39m\u001b[39m%r\u001b[39;00m\u001b[39m\"\u001b[39m\n\u001b[0;32m    399\u001b[0m         \u001b[39m%\u001b[39m [\u001b[39mint\u001b[39m(l) \u001b[39mfor\u001b[39;00m l \u001b[39min\u001b[39;00m lengths]\n\u001b[0;32m    400\u001b[0m     )\n",
      "\u001b[1;31mValueError\u001b[0m: Found input variables with inconsistent numbers of samples: [20, 4]"
     ]
    }
   ],
   "source": [
    "# Target/independent variable\n",
    "x = insured_final[['Female']].values\n",
    "# Target variable/dependent variable\n",
    "y = maternal_final['Deaths'].values\n",
    "\n",
    "# Split data into training and testing sets\n",
    "x_train, x_test, y_train, y_test = train_test_split(x, y, test_size=0.2, random_state=42)\n",
    "\n",
    "regression_model = LinearRegression()\n",
    "\n",
    "# Train the regression model on training data\n",
    "regression_model.fit(x_train, y_train)\n",
    "\n",
    "# Plot the data points and linear regression line\n",
    "plt.scatter(x_test, y_test, color='blue')\n",
    "plt.plot(x_test, regression_model.predict(x_test), color='red')\n",
    "plt.title('Regression of Black Woman Morality and Insured')\n",
    "plt.xlabel('Insured')\n",
    "plt.ylabel('Black Women')\n",
    "plt.show()"
   ]
  }
 ],
 "metadata": {
  "kernelspec": {
   "display_name": "Python 3",
   "language": "python",
   "name": "python3"
  },
  "language_info": {
   "codemirror_mode": {
    "name": "ipython",
    "version": 3
   },
   "file_extension": ".py",
   "mimetype": "text/x-python",
   "name": "python",
   "nbconvert_exporter": "python",
   "pygments_lexer": "ipython3",
   "version": "3.11.3"
  },
  "orig_nbformat": 4,
  "vscode": {
   "interpreter": {
    "hash": "d670acca4543613bc71420ba3b408e5826bdc54b760740e8ce26eaf03bb45f97"
   }
  }
 },
 "nbformat": 4,
 "nbformat_minor": 2
}
