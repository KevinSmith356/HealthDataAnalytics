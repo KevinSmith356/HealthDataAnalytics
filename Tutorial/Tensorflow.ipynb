{
 "cells": [
  {
   "cell_type": "code",
   "execution_count": 1,
   "metadata": {},
   "outputs": [
    {
     "name": "stdout",
     "output_type": "stream",
     "text": [
      "Requirement already satisfied: tensorflow in c:\\users\\silen\\anaconda3\\lib\\site-packages (2.12.0)\n",
      "Requirement already satisfied: tensorflow-intel==2.12.0 in c:\\users\\silen\\anaconda3\\lib\\site-packages (from tensorflow) (2.12.0)\n",
      "Requirement already satisfied: gast<=0.4.0,>=0.2.1 in c:\\users\\silen\\anaconda3\\lib\\site-packages (from tensorflow-intel==2.12.0->tensorflow) (0.4.0)\n",
      "Requirement already satisfied: wrapt<1.15,>=1.11.0 in c:\\users\\silen\\anaconda3\\lib\\site-packages (from tensorflow-intel==2.12.0->tensorflow) (1.12.1)\n",
      "Requirement already satisfied: opt-einsum>=2.3.2 in c:\\users\\silen\\anaconda3\\lib\\site-packages (from tensorflow-intel==2.12.0->tensorflow) (3.3.0)\n",
      "Requirement already satisfied: astunparse>=1.6.0 in c:\\users\\silen\\anaconda3\\lib\\site-packages (from tensorflow-intel==2.12.0->tensorflow) (1.6.3)\n",
      "Requirement already satisfied: six>=1.12.0 in c:\\users\\silen\\anaconda3\\lib\\site-packages (from tensorflow-intel==2.12.0->tensorflow) (1.16.0)\n",
      "Requirement already satisfied: jax>=0.3.15 in c:\\users\\silen\\anaconda3\\lib\\site-packages (from tensorflow-intel==2.12.0->tensorflow) (0.4.8)\n",
      "Requirement already satisfied: tensorflow-estimator<2.13,>=2.12.0 in c:\\users\\silen\\anaconda3\\lib\\site-packages (from tensorflow-intel==2.12.0->tensorflow) (2.12.0)\n",
      "Requirement already satisfied: typing-extensions>=3.6.6 in c:\\users\\silen\\anaconda3\\lib\\site-packages (from tensorflow-intel==2.12.0->tensorflow) (3.10.0.2)\n",
      "Requirement already satisfied: libclang>=13.0.0 in c:\\users\\silen\\anaconda3\\lib\\site-packages (from tensorflow-intel==2.12.0->tensorflow) (16.0.0)\n",
      "Requirement already satisfied: google-pasta>=0.1.1 in c:\\users\\silen\\anaconda3\\lib\\site-packages (from tensorflow-intel==2.12.0->tensorflow) (0.2.0)\n",
      "Requirement already satisfied: protobuf!=4.21.0,!=4.21.1,!=4.21.2,!=4.21.3,!=4.21.4,!=4.21.5,<5.0.0dev,>=3.20.3 in c:\\users\\silen\\anaconda3\\lib\\site-packages (from tensorflow-intel==2.12.0->tensorflow) (4.22.1)\n",
      "Requirement already satisfied: packaging in c:\\users\\silen\\anaconda3\\lib\\site-packages (from tensorflow-intel==2.12.0->tensorflow) (21.0)\n",
      "Requirement already satisfied: h5py>=2.9.0 in c:\\users\\silen\\anaconda3\\lib\\site-packages (from tensorflow-intel==2.12.0->tensorflow) (3.2.1)\n",
      "Requirement already satisfied: tensorflow-io-gcs-filesystem>=0.23.1 in c:\\users\\silen\\anaconda3\\lib\\site-packages (from tensorflow-intel==2.12.0->tensorflow) (0.31.0)\n",
      "Requirement already satisfied: numpy<1.24,>=1.22 in c:\\users\\silen\\anaconda3\\lib\\site-packages (from tensorflow-intel==2.12.0->tensorflow) (1.22.4)\n",
      "Requirement already satisfied: flatbuffers>=2.0 in c:\\users\\silen\\anaconda3\\lib\\site-packages (from tensorflow-intel==2.12.0->tensorflow) (23.3.3)\n",
      "Requirement already satisfied: setuptools in c:\\users\\silen\\anaconda3\\lib\\site-packages (from tensorflow-intel==2.12.0->tensorflow) (58.0.4)\n",
      "Requirement already satisfied: absl-py>=1.0.0 in c:\\users\\silen\\anaconda3\\lib\\site-packages (from tensorflow-intel==2.12.0->tensorflow) (1.4.0)\n",
      "Requirement already satisfied: tensorboard<2.13,>=2.12 in c:\\users\\silen\\anaconda3\\lib\\site-packages (from tensorflow-intel==2.12.0->tensorflow) (2.12.1)\n",
      "Requirement already satisfied: keras<2.13,>=2.12.0 in c:\\users\\silen\\anaconda3\\lib\\site-packages (from tensorflow-intel==2.12.0->tensorflow) (2.12.0)\n",
      "Requirement already satisfied: termcolor>=1.1.0 in c:\\users\\silen\\anaconda3\\lib\\site-packages (from tensorflow-intel==2.12.0->tensorflow) (2.2.0)\n",
      "Requirement already satisfied: grpcio<2.0,>=1.24.3 in c:\\users\\silen\\anaconda3\\lib\\site-packages (from tensorflow-intel==2.12.0->tensorflow) (1.53.0)\n",
      "Requirement already satisfied: wheel<1.0,>=0.23.0 in c:\\users\\silen\\anaconda3\\lib\\site-packages (from astunparse>=1.6.0->tensorflow-intel==2.12.0->tensorflow) (0.37.0)\n",
      "Requirement already satisfied: scipy>=1.7 in c:\\users\\silen\\anaconda3\\lib\\site-packages (from jax>=0.3.15->tensorflow-intel==2.12.0->tensorflow) (1.7.1)\n",
      "Requirement already satisfied: ml-dtypes>=0.0.3 in c:\\users\\silen\\anaconda3\\lib\\site-packages (from jax>=0.3.15->tensorflow-intel==2.12.0->tensorflow) (0.0.4)\n",
      "Requirement already satisfied: tensorboard-plugin-wit>=1.6.0 in c:\\users\\silen\\anaconda3\\lib\\site-packages (from tensorboard<2.13,>=2.12->tensorflow-intel==2.12.0->tensorflow) (1.8.1)\n",
      "Requirement already satisfied: google-auth<3,>=1.6.3 in c:\\users\\silen\\anaconda3\\lib\\site-packages (from tensorboard<2.13,>=2.12->tensorflow-intel==2.12.0->tensorflow) (2.17.1)\n",
      "Requirement already satisfied: requests<3,>=2.21.0 in c:\\users\\silen\\anaconda3\\lib\\site-packages (from tensorboard<2.13,>=2.12->tensorflow-intel==2.12.0->tensorflow) (2.26.0)\n",
      "Requirement already satisfied: markdown>=2.6.8 in c:\\users\\silen\\anaconda3\\lib\\site-packages (from tensorboard<2.13,>=2.12->tensorflow-intel==2.12.0->tensorflow) (3.4.3)\n",
      "Requirement already satisfied: tensorboard-data-server<0.8.0,>=0.7.0 in c:\\users\\silen\\anaconda3\\lib\\site-packages (from tensorboard<2.13,>=2.12->tensorflow-intel==2.12.0->tensorflow) (0.7.0)\n",
      "Requirement already satisfied: werkzeug>=1.0.1 in c:\\users\\silen\\anaconda3\\lib\\site-packages (from tensorboard<2.13,>=2.12->tensorflow-intel==2.12.0->tensorflow) (2.0.2)\n",
      "Requirement already satisfied: google-auth-oauthlib<1.1,>=0.5 in c:\\users\\silen\\anaconda3\\lib\\site-packages (from tensorboard<2.13,>=2.12->tensorflow-intel==2.12.0->tensorflow) (1.0.0)\n",
      "Requirement already satisfied: rsa<5,>=3.1.4 in c:\\users\\silen\\anaconda3\\lib\\site-packages (from google-auth<3,>=1.6.3->tensorboard<2.13,>=2.12->tensorflow-intel==2.12.0->tensorflow) (4.9)\n",
      "Requirement already satisfied: cachetools<6.0,>=2.0.0 in c:\\users\\silen\\anaconda3\\lib\\site-packages (from google-auth<3,>=1.6.3->tensorboard<2.13,>=2.12->tensorflow-intel==2.12.0->tensorflow) (5.3.0)\n",
      "Requirement already satisfied: pyasn1-modules>=0.2.1 in c:\\users\\silen\\anaconda3\\lib\\site-packages (from google-auth<3,>=1.6.3->tensorboard<2.13,>=2.12->tensorflow-intel==2.12.0->tensorflow) (0.2.8)\n",
      "Requirement already satisfied: requests-oauthlib>=0.7.0 in c:\\users\\silen\\anaconda3\\lib\\site-packages (from google-auth-oauthlib<1.1,>=0.5->tensorboard<2.13,>=2.12->tensorflow-intel==2.12.0->tensorflow) (1.3.1)\n",
      "Requirement already satisfied: importlib-metadata>=4.4 in c:\\users\\silen\\anaconda3\\lib\\site-packages (from markdown>=2.6.8->tensorboard<2.13,>=2.12->tensorflow-intel==2.12.0->tensorflow) (4.8.1)\n",
      "Requirement already satisfied: zipp>=0.5 in c:\\users\\silen\\anaconda3\\lib\\site-packages (from importlib-metadata>=4.4->markdown>=2.6.8->tensorboard<2.13,>=2.12->tensorflow-intel==2.12.0->tensorflow) (3.6.0)\n",
      "Requirement already satisfied: pyasn1<0.5.0,>=0.4.6 in c:\\users\\silen\\anaconda3\\lib\\site-packages (from pyasn1-modules>=0.2.1->google-auth<3,>=1.6.3->tensorboard<2.13,>=2.12->tensorflow-intel==2.12.0->tensorflow) (0.4.8)\n",
      "Requirement already satisfied: charset-normalizer~=2.0.0 in c:\\users\\silen\\anaconda3\\lib\\site-packages (from requests<3,>=2.21.0->tensorboard<2.13,>=2.12->tensorflow-intel==2.12.0->tensorflow) (2.0.4)\n",
      "Requirement already satisfied: certifi>=2017.4.17 in c:\\users\\silen\\anaconda3\\lib\\site-packages (from requests<3,>=2.21.0->tensorboard<2.13,>=2.12->tensorflow-intel==2.12.0->tensorflow) (2021.10.8)\n",
      "Requirement already satisfied: idna<4,>=2.5 in c:\\users\\silen\\anaconda3\\lib\\site-packages (from requests<3,>=2.21.0->tensorboard<2.13,>=2.12->tensorflow-intel==2.12.0->tensorflow) (3.2)\n",
      "Requirement already satisfied: urllib3<1.27,>=1.21.1 in c:\\users\\silen\\anaconda3\\lib\\site-packages (from requests<3,>=2.21.0->tensorboard<2.13,>=2.12->tensorflow-intel==2.12.0->tensorflow) (1.26.7)\n",
      "Requirement already satisfied: oauthlib>=3.0.0 in c:\\users\\silen\\anaconda3\\lib\\site-packages (from requests-oauthlib>=0.7.0->google-auth-oauthlib<1.1,>=0.5->tensorboard<2.13,>=2.12->tensorflow-intel==2.12.0->tensorflow) (3.2.2)\n",
      "Requirement already satisfied: pyparsing>=2.0.2 in c:\\users\\silen\\anaconda3\\lib\\site-packages (from packaging->tensorflow-intel==2.12.0->tensorflow) (3.0.4)\n"
     ]
    }
   ],
   "source": [
    "!pip install tensorflow"
   ]
  },
  {
   "cell_type": "code",
   "execution_count": 2,
   "metadata": {},
   "outputs": [],
   "source": [
    "import tensorflow as tf"
   ]
  },
  {
   "cell_type": "code",
   "execution_count": 3,
   "metadata": {},
   "outputs": [
    {
     "data": {
      "text/plain": [
       "<tf.Tensor: shape=(12,), dtype=float32, numpy=\n",
       "array([ 0.,  1.,  2.,  3.,  4.,  5.,  6.,  7.,  8.,  9., 10., 11.],\n",
       "      dtype=float32)>"
      ]
     },
     "execution_count": 3,
     "metadata": {},
     "output_type": "execute_result"
    }
   ],
   "source": [
    "X = tf.range(12, dtype=tf.float32)\n",
    "X"
   ]
  },
  {
   "cell_type": "code",
   "execution_count": 4,
   "metadata": {},
   "outputs": [
    {
     "data": {
      "text/plain": [
       "<tf.Tensor: shape=(), dtype=int32, numpy=12>"
      ]
     },
     "execution_count": 4,
     "metadata": {},
     "output_type": "execute_result"
    }
   ],
   "source": [
    "tf.size(X)"
   ]
  },
  {
   "cell_type": "code",
   "execution_count": 5,
   "metadata": {},
   "outputs": [
    {
     "data": {
      "text/plain": [
       "TensorShape([12])"
      ]
     },
     "execution_count": 5,
     "metadata": {},
     "output_type": "execute_result"
    }
   ],
   "source": [
    "X.shape"
   ]
  },
  {
   "cell_type": "code",
   "execution_count": 6,
   "metadata": {},
   "outputs": [
    {
     "data": {
      "text/plain": [
       "<tf.Tensor: shape=(3, 4), dtype=float32, numpy=\n",
       "array([[ 0.,  1.,  2.,  3.],\n",
       "       [ 4.,  5.,  6.,  7.],\n",
       "       [ 8.,  9., 10., 11.]], dtype=float32)>"
      ]
     },
     "execution_count": 6,
     "metadata": {},
     "output_type": "execute_result"
    }
   ],
   "source": [
    "X = tf.reshape(X, (3, 4))\n",
    "X"
   ]
  },
  {
   "cell_type": "code",
   "execution_count": 7,
   "metadata": {},
   "outputs": [
    {
     "data": {
      "text/plain": [
       "<tf.Tensor: shape=(2, 3, 4), dtype=float32, numpy=\n",
       "array([[[0., 0., 0., 0.],\n",
       "        [0., 0., 0., 0.],\n",
       "        [0., 0., 0., 0.]],\n",
       "\n",
       "       [[0., 0., 0., 0.],\n",
       "        [0., 0., 0., 0.],\n",
       "        [0., 0., 0., 0.]]], dtype=float32)>"
      ]
     },
     "execution_count": 7,
     "metadata": {},
     "output_type": "execute_result"
    }
   ],
   "source": [
    "tf.zeros((2, 3, 4))"
   ]
  },
  {
   "cell_type": "code",
   "execution_count": 8,
   "metadata": {},
   "outputs": [
    {
     "data": {
      "text/plain": [
       "<tf.Tensor: shape=(2, 3, 4), dtype=float32, numpy=\n",
       "array([[[1., 1., 1., 1.],\n",
       "        [1., 1., 1., 1.],\n",
       "        [1., 1., 1., 1.]],\n",
       "\n",
       "       [[1., 1., 1., 1.],\n",
       "        [1., 1., 1., 1.],\n",
       "        [1., 1., 1., 1.]]], dtype=float32)>"
      ]
     },
     "execution_count": 8,
     "metadata": {},
     "output_type": "execute_result"
    }
   ],
   "source": [
    "tf.ones((2, 3, 4))"
   ]
  },
  {
   "cell_type": "code",
   "execution_count": 9,
   "metadata": {},
   "outputs": [
    {
     "data": {
      "text/plain": [
       "<tf.Tensor: shape=(3, 4), dtype=float32, numpy=\n",
       "array([[ 0.12680103, -1.1114978 ,  2.156895  ,  0.6065103 ],\n",
       "       [-0.93315035, -0.50324464, -0.31761324,  0.04716593],\n",
       "       [-0.48797804, -0.85765755,  0.11507718, -0.2746728 ]],\n",
       "      dtype=float32)>"
      ]
     },
     "execution_count": 9,
     "metadata": {},
     "output_type": "execute_result"
    }
   ],
   "source": [
    "tf.random.normal(shape=[3, 4])"
   ]
  },
  {
   "cell_type": "code",
   "execution_count": 10,
   "metadata": {},
   "outputs": [
    {
     "data": {
      "text/plain": [
       "<tf.Tensor: shape=(3, 4), dtype=int32, numpy=\n",
       "array([[2, 1, 4, 3],\n",
       "       [1, 2, 3, 4],\n",
       "       [4, 3, 2, 1]])>"
      ]
     },
     "execution_count": 10,
     "metadata": {},
     "output_type": "execute_result"
    }
   ],
   "source": [
    "tf.constant([[2, 1, 4, 3], [1, 2, 3, 4], [4, 3, 2, 1]])"
   ]
  },
  {
   "cell_type": "code",
   "execution_count": 11,
   "metadata": {},
   "outputs": [
    {
     "data": {
      "text/plain": [
       "(<tf.Tensor: shape=(4,), dtype=float32, numpy=array([ 8.,  9., 10., 11.], dtype=float32)>,\n",
       " <tf.Tensor: shape=(2, 4), dtype=float32, numpy=\n",
       " array([[ 4.,  5.,  6.,  7.],\n",
       "        [ 8.,  9., 10., 11.]], dtype=float32)>)"
      ]
     },
     "execution_count": 11,
     "metadata": {},
     "output_type": "execute_result"
    }
   ],
   "source": [
    "X[-1], X[1:3]"
   ]
  },
  {
   "cell_type": "code",
   "execution_count": 12,
   "metadata": {},
   "outputs": [
    {
     "data": {
      "text/plain": [
       "<tf.Variable 'Variable:0' shape=(3, 4) dtype=float32, numpy=\n",
       "array([[ 0.,  1.,  2.,  3.],\n",
       "       [ 4.,  5.,  9.,  7.],\n",
       "       [ 8.,  9., 10., 11.]], dtype=float32)>"
      ]
     },
     "execution_count": 12,
     "metadata": {},
     "output_type": "execute_result"
    }
   ],
   "source": [
    "X_var = tf.Variable(X)\n",
    "X_var[1, 2].assign(9)\n",
    "X_var"
   ]
  },
  {
   "cell_type": "code",
   "execution_count": 13,
   "metadata": {},
   "outputs": [
    {
     "data": {
      "text/plain": [
       "<tf.Variable 'Variable:0' shape=(3, 4) dtype=float32, numpy=\n",
       "array([[12., 12., 12., 12.],\n",
       "       [12., 12., 12., 12.],\n",
       "       [ 8.,  9., 10., 11.]], dtype=float32)>"
      ]
     },
     "execution_count": 13,
     "metadata": {},
     "output_type": "execute_result"
    }
   ],
   "source": [
    "X_var = tf.Variable(X)\n",
    "X_var[:2, :].assign(tf.ones(X_var[:2,:].shape, dtype=tf.float32) * 12)\n",
    "X_var"
   ]
  },
  {
   "cell_type": "code",
   "execution_count": 14,
   "metadata": {},
   "outputs": [
    {
     "data": {
      "text/plain": [
       "<tf.Tensor: shape=(3, 4), dtype=float32, numpy=\n",
       "array([[1.0000000e+00, 2.7182817e+00, 7.3890562e+00, 2.0085537e+01],\n",
       "       [5.4598148e+01, 1.4841316e+02, 4.0342877e+02, 1.0966332e+03],\n",
       "       [2.9809580e+03, 8.1030835e+03, 2.2026465e+04, 5.9874141e+04]],\n",
       "      dtype=float32)>"
      ]
     },
     "execution_count": 14,
     "metadata": {},
     "output_type": "execute_result"
    }
   ],
   "source": [
    "tf.exp(X)"
   ]
  },
  {
   "cell_type": "code",
   "execution_count": 15,
   "metadata": {},
   "outputs": [
    {
     "data": {
      "text/plain": [
       "(<tf.Tensor: shape=(4,), dtype=float32, numpy=array([ 3.,  4.,  6., 10.], dtype=float32)>,\n",
       " <tf.Tensor: shape=(4,), dtype=float32, numpy=array([-1.,  0.,  2.,  6.], dtype=float32)>,\n",
       " <tf.Tensor: shape=(4,), dtype=float32, numpy=array([ 2.,  4.,  8., 16.], dtype=float32)>,\n",
       " <tf.Tensor: shape=(4,), dtype=float32, numpy=array([0.5, 1. , 2. , 4. ], dtype=float32)>,\n",
       " <tf.Tensor: shape=(4,), dtype=float32, numpy=array([ 1.,  4., 16., 64.], dtype=float32)>)"
      ]
     },
     "execution_count": 15,
     "metadata": {},
     "output_type": "execute_result"
    }
   ],
   "source": [
    "x = tf.constant([1.0, 2, 4, 8])\n",
    "y = tf.constant([2.0, 2, 2, 2])\n",
    "x + y, x - y, x * y, x / y, x ** y"
   ]
  },
  {
   "cell_type": "code",
   "execution_count": 16,
   "metadata": {},
   "outputs": [
    {
     "data": {
      "text/plain": [
       "(<tf.Tensor: shape=(6, 4), dtype=float32, numpy=\n",
       " array([[ 0.,  1.,  2.,  3.],\n",
       "        [ 4.,  5.,  6.,  7.],\n",
       "        [ 8.,  9., 10., 11.],\n",
       "        [ 2.,  1.,  4.,  3.],\n",
       "        [ 1.,  2.,  3.,  4.],\n",
       "        [ 4.,  3.,  2.,  1.]], dtype=float32)>,\n",
       " <tf.Tensor: shape=(3, 8), dtype=float32, numpy=\n",
       " array([[ 0.,  1.,  2.,  3.,  2.,  1.,  4.,  3.],\n",
       "        [ 4.,  5.,  6.,  7.,  1.,  2.,  3.,  4.],\n",
       "        [ 8.,  9., 10., 11.,  4.,  3.,  2.,  1.]], dtype=float32)>)"
      ]
     },
     "execution_count": 16,
     "metadata": {},
     "output_type": "execute_result"
    }
   ],
   "source": [
    "X = tf.reshape(tf.range(12, dtype=tf.float32), (3, 4))\n",
    "Y = tf.constant([[2.0, 1, 4, 3], [1, 2, 3, 4], [4, 3, 2, 1]])\n",
    "tf.concat([X, Y], axis=0), tf.concat([X, Y], axis=1)"
   ]
  },
  {
   "cell_type": "code",
   "execution_count": 17,
   "metadata": {},
   "outputs": [
    {
     "data": {
      "text/plain": [
       "<tf.Tensor: shape=(3, 4), dtype=bool, numpy=\n",
       "array([[False,  True, False,  True],\n",
       "       [False, False, False, False],\n",
       "       [False, False, False, False]])>"
      ]
     },
     "execution_count": 17,
     "metadata": {},
     "output_type": "execute_result"
    }
   ],
   "source": [
    "X == Y"
   ]
  },
  {
   "cell_type": "code",
   "execution_count": 18,
   "metadata": {},
   "outputs": [
    {
     "data": {
      "text/plain": [
       "<tf.Tensor: shape=(), dtype=float32, numpy=66.0>"
      ]
     },
     "execution_count": 18,
     "metadata": {},
     "output_type": "execute_result"
    }
   ],
   "source": [
    "tf.reduce_sum(X)"
   ]
  },
  {
   "cell_type": "code",
   "execution_count": 19,
   "metadata": {},
   "outputs": [
    {
     "data": {
      "text/plain": [
       "(<tf.Tensor: shape=(3, 1), dtype=int32, numpy=\n",
       " array([[0],\n",
       "        [1],\n",
       "        [2]])>,\n",
       " <tf.Tensor: shape=(1, 2), dtype=int32, numpy=array([[0, 1]])>)"
      ]
     },
     "execution_count": 19,
     "metadata": {},
     "output_type": "execute_result"
    }
   ],
   "source": [
    "a = tf.reshape(tf.range(3), (3, 1))\n",
    "b = tf.reshape(tf.range(2), (1, 2))\n",
    "a, b"
   ]
  },
  {
   "cell_type": "code",
   "execution_count": 20,
   "metadata": {},
   "outputs": [
    {
     "data": {
      "text/plain": [
       "<tf.Tensor: shape=(3, 2), dtype=int32, numpy=\n",
       "array([[0, 1],\n",
       "       [1, 2],\n",
       "       [2, 3]])>"
      ]
     },
     "execution_count": 20,
     "metadata": {},
     "output_type": "execute_result"
    }
   ],
   "source": [
    "a + b"
   ]
  },
  {
   "cell_type": "code",
   "execution_count": 21,
   "metadata": {},
   "outputs": [
    {
     "data": {
      "text/plain": [
       "False"
      ]
     },
     "execution_count": 21,
     "metadata": {},
     "output_type": "execute_result"
    }
   ],
   "source": [
    "before = id(Y)\n",
    "Y = Y + X\n",
    "id(Y) == before"
   ]
  },
  {
   "cell_type": "code",
   "execution_count": 22,
   "metadata": {},
   "outputs": [
    {
     "name": "stdout",
     "output_type": "stream",
     "text": [
      "id(Z): 1521743687488\n",
      "id(Z) 1521743687488\n"
     ]
    }
   ],
   "source": [
    "Z = tf.Variable(tf.zeros_like(Y))\n",
    "print('id(Z):', id(Z))\n",
    "Z.assign(X + Y)\n",
    "print('id(Z)', id(Z))"
   ]
  },
  {
   "cell_type": "code",
   "execution_count": 23,
   "metadata": {},
   "outputs": [
    {
     "data": {
      "text/plain": [
       "<tf.Tensor: shape=(3, 4), dtype=float32, numpy=\n",
       "array([[ 8.,  9., 26., 27.],\n",
       "       [24., 33., 42., 51.],\n",
       "       [56., 57., 58., 59.]], dtype=float32)>"
      ]
     },
     "execution_count": 23,
     "metadata": {},
     "output_type": "execute_result"
    }
   ],
   "source": [
    "@tf.function\n",
    "def computation(X, Y):\n",
    "    Z = tf.zeros_like(Y)  # This unused value will be pruned out\n",
    "    A = X + Y  # Allocations will be reused when no longer needed\n",
    "    B = A + Y\n",
    "    C = B + Y\n",
    "    return C + Y\n",
    "\n",
    "computation(X, Y)"
   ]
  },
  {
   "cell_type": "code",
   "execution_count": 24,
   "metadata": {},
   "outputs": [
    {
     "data": {
      "text/plain": [
       "(numpy.ndarray, tensorflow.python.framework.ops.EagerTensor)"
      ]
     },
     "execution_count": 24,
     "metadata": {},
     "output_type": "execute_result"
    }
   ],
   "source": [
    "A = X.numpy()\n",
    "B = tf.constant(A)\n",
    "type(A), type(B)"
   ]
  },
  {
   "cell_type": "code",
   "execution_count": 25,
   "metadata": {},
   "outputs": [
    {
     "data": {
      "text/plain": [
       "(array([3.5], dtype=float32), 3.5, 3.5, 3)"
      ]
     },
     "execution_count": 25,
     "metadata": {},
     "output_type": "execute_result"
    }
   ],
   "source": [
    "a = tf.constant([3.5]).numpy()\n",
    "a, a.item(), float(a), int(a)"
   ]
  },
  {
   "cell_type": "code",
   "execution_count": 26,
   "metadata": {},
   "outputs": [],
   "source": [
    "import os\n",
    "\n",
    "os.makedirs(os.path.join('..', 'data'), exist_ok=True)\n",
    "data_file = os.path.join('..', 'data', 'house_tiny.csv')\n",
    "with open(data_file, 'w') as f:\n",
    "    f.write('''NumRooms,RoofType,Price\n",
    "NA,NA,127500\n",
    "2,NA,106000\n",
    "4,Slate,178100\n",
    "NA,NA,140000''')"
   ]
  },
  {
   "cell_type": "code",
   "execution_count": 27,
   "metadata": {},
   "outputs": [
    {
     "name": "stdout",
     "output_type": "stream",
     "text": [
      "   NumRooms RoofType   Price\n",
      "0       NaN      NaN  127500\n",
      "1       2.0      NaN  106000\n",
      "2       4.0    Slate  178100\n",
      "3       NaN      NaN  140000\n"
     ]
    }
   ],
   "source": [
    "import pandas as pd\n",
    "\n",
    "data = pd.read_csv(data_file)\n",
    "print(data)"
   ]
  },
  {
   "cell_type": "code",
   "execution_count": 28,
   "metadata": {},
   "outputs": [
    {
     "name": "stdout",
     "output_type": "stream",
     "text": [
      "   NumRooms  RoofType_Slate  RoofType_nan\n",
      "0       NaN               0             1\n",
      "1       2.0               0             1\n",
      "2       4.0               1             0\n",
      "3       NaN               0             1\n"
     ]
    }
   ],
   "source": [
    "inputs, targets = data.iloc[:, 0:2], data.iloc[:, 2]\n",
    "inputs = pd.get_dummies(inputs, dummy_na=True)\n",
    "print(inputs)"
   ]
  },
  {
   "cell_type": "code",
   "execution_count": 29,
   "metadata": {},
   "outputs": [
    {
     "name": "stdout",
     "output_type": "stream",
     "text": [
      "   NumRooms  RoofType_Slate  RoofType_nan\n",
      "0       3.0               0             1\n",
      "1       2.0               0             1\n",
      "2       4.0               1             0\n",
      "3       3.0               0             1\n"
     ]
    }
   ],
   "source": [
    "inputs = inputs.fillna(inputs.mean())\n",
    "print(inputs)"
   ]
  },
  {
   "cell_type": "code",
   "execution_count": 30,
   "metadata": {},
   "outputs": [
    {
     "data": {
      "text/plain": [
       "(<tf.Tensor: shape=(4, 3), dtype=float64, numpy=\n",
       " array([[3., 0., 1.],\n",
       "        [2., 0., 1.],\n",
       "        [4., 1., 0.],\n",
       "        [3., 0., 1.]])>,\n",
       " <tf.Tensor: shape=(4,), dtype=int64, numpy=array([127500, 106000, 178100, 140000], dtype=int64)>)"
      ]
     },
     "execution_count": 30,
     "metadata": {},
     "output_type": "execute_result"
    }
   ],
   "source": [
    "import tensorflow as tf\n",
    "\n",
    "X, y = tf.constant(inputs.values), tf.constant(targets.values)\n",
    "X, y"
   ]
  },
  {
   "cell_type": "code",
   "execution_count": 31,
   "metadata": {},
   "outputs": [
    {
     "name": "stdout",
     "output_type": "stream",
     "text": [
      "Requirement already satisfied: d2l==1.0.0b0 in c:\\users\\silen\\anaconda3\\lib\\site-packages (1.0.0b0)\n",
      "Requirement already satisfied: requests in c:\\users\\silen\\anaconda3\\lib\\site-packages (from d2l==1.0.0b0) (2.26.0)\n",
      "Requirement already satisfied: scipy in c:\\users\\silen\\anaconda3\\lib\\site-packages (from d2l==1.0.0b0) (1.7.1)\n",
      "Requirement already satisfied: numpy in c:\\users\\silen\\anaconda3\\lib\\site-packages (from d2l==1.0.0b0) (1.22.4)\n",
      "Requirement already satisfied: jupyter in c:\\users\\silen\\anaconda3\\lib\\site-packages (from d2l==1.0.0b0) (1.0.0)\n",
      "Requirement already satisfied: pandas in c:\\users\\silen\\anaconda3\\lib\\site-packages (from d2l==1.0.0b0) (1.3.4)\n",
      "Requirement already satisfied: matplotlib-inline in c:\\users\\silen\\anaconda3\\lib\\site-packages (from d2l==1.0.0b0) (0.1.2)\n",
      "Requirement already satisfied: gym==0.21.0 in c:\\users\\silen\\anaconda3\\lib\\site-packages (from d2l==1.0.0b0) (0.21.0)\n",
      "Requirement already satisfied: gpytorch in c:\\users\\silen\\anaconda3\\lib\\site-packages (from d2l==1.0.0b0) (1.9.1)\n",
      "Requirement already satisfied: matplotlib in c:\\users\\silen\\anaconda3\\lib\\site-packages (from d2l==1.0.0b0) (3.4.3)\n",
      "Requirement already satisfied: cloudpickle>=1.2.0 in c:\\users\\silen\\anaconda3\\lib\\site-packages (from gym==0.21.0->d2l==1.0.0b0) (2.0.0)\n",
      "Requirement already satisfied: scikit-learn in c:\\users\\silen\\anaconda3\\lib\\site-packages (from gpytorch->d2l==1.0.0b0) (0.24.2)\n",
      "Requirement already satisfied: linear-operator>=0.2.0 in c:\\users\\silen\\anaconda3\\lib\\site-packages (from gpytorch->d2l==1.0.0b0) (0.3.0)\n",
      "Requirement already satisfied: torch>=1.11 in c:\\users\\silen\\anaconda3\\lib\\site-packages (from linear-operator>=0.2.0->gpytorch->d2l==1.0.0b0) (2.0.0)\n",
      "Requirement already satisfied: networkx in c:\\users\\silen\\anaconda3\\lib\\site-packages (from torch>=1.11->linear-operator>=0.2.0->gpytorch->d2l==1.0.0b0) (2.6.3)\n",
      "Requirement already satisfied: typing-extensions in c:\\users\\silen\\anaconda3\\lib\\site-packages (from torch>=1.11->linear-operator>=0.2.0->gpytorch->d2l==1.0.0b0) (3.10.0.2)\n",
      "Requirement already satisfied: filelock in c:\\users\\silen\\anaconda3\\lib\\site-packages (from torch>=1.11->linear-operator>=0.2.0->gpytorch->d2l==1.0.0b0) (3.3.1)\n",
      "Requirement already satisfied: sympy in c:\\users\\silen\\anaconda3\\lib\\site-packages (from torch>=1.11->linear-operator>=0.2.0->gpytorch->d2l==1.0.0b0) (1.9)\n",
      "Requirement already satisfied: jinja2 in c:\\users\\silen\\anaconda3\\lib\\site-packages (from torch>=1.11->linear-operator>=0.2.0->gpytorch->d2l==1.0.0b0) (2.11.3)\n",
      "Requirement already satisfied: MarkupSafe>=0.23 in c:\\users\\silen\\anaconda3\\lib\\site-packages (from jinja2->torch>=1.11->linear-operator>=0.2.0->gpytorch->d2l==1.0.0b0) (1.1.1)\n",
      "Requirement already satisfied: qtconsole in c:\\users\\silen\\anaconda3\\lib\\site-packages (from jupyter->d2l==1.0.0b0) (5.1.1)\n",
      "Requirement already satisfied: nbconvert in c:\\users\\silen\\anaconda3\\lib\\site-packages (from jupyter->d2l==1.0.0b0) (6.1.0)\n",
      "Requirement already satisfied: ipykernel in c:\\users\\silen\\anaconda3\\lib\\site-packages (from jupyter->d2l==1.0.0b0) (6.4.1)\n",
      "Requirement already satisfied: ipywidgets in c:\\users\\silen\\anaconda3\\lib\\site-packages (from jupyter->d2l==1.0.0b0) (7.6.5)\n",
      "Requirement already satisfied: notebook in c:\\users\\silen\\anaconda3\\lib\\site-packages (from jupyter->d2l==1.0.0b0) (6.4.5)\n",
      "Requirement already satisfied: jupyter-console in c:\\users\\silen\\anaconda3\\lib\\site-packages (from jupyter->d2l==1.0.0b0) (6.4.0)\n",
      "Requirement already satisfied: traitlets<6.0,>=4.1.0 in c:\\users\\silen\\anaconda3\\lib\\site-packages (from ipykernel->jupyter->d2l==1.0.0b0) (5.1.0)\n",
      "Requirement already satisfied: jupyter-client<8.0 in c:\\users\\silen\\anaconda3\\lib\\site-packages (from ipykernel->jupyter->d2l==1.0.0b0) (6.1.12)\n",
      "Requirement already satisfied: debugpy<2.0,>=1.0.0 in c:\\users\\silen\\anaconda3\\lib\\site-packages (from ipykernel->jupyter->d2l==1.0.0b0) (1.4.1)\n",
      "Requirement already satisfied: ipython-genutils in c:\\users\\silen\\anaconda3\\lib\\site-packages (from ipykernel->jupyter->d2l==1.0.0b0) (0.2.0)\n",
      "Requirement already satisfied: tornado<7.0,>=4.2 in c:\\users\\silen\\anaconda3\\lib\\site-packages (from ipykernel->jupyter->d2l==1.0.0b0) (6.1)\n",
      "Requirement already satisfied: ipython<8.0,>=7.23.1 in c:\\users\\silen\\anaconda3\\lib\\site-packages (from ipykernel->jupyter->d2l==1.0.0b0) (7.29.0)\n",
      "Requirement already satisfied: backcall in c:\\users\\silen\\anaconda3\\lib\\site-packages (from ipython<8.0,>=7.23.1->ipykernel->jupyter->d2l==1.0.0b0) (0.2.0)\n",
      "Requirement already satisfied: pygments in c:\\users\\silen\\anaconda3\\lib\\site-packages (from ipython<8.0,>=7.23.1->ipykernel->jupyter->d2l==1.0.0b0) (2.10.0)\n",
      "Requirement already satisfied: prompt-toolkit!=3.0.0,!=3.0.1,<3.1.0,>=2.0.0 in c:\\users\\silen\\anaconda3\\lib\\site-packages (from ipython<8.0,>=7.23.1->ipykernel->jupyter->d2l==1.0.0b0) (3.0.20)\n",
      "Requirement already satisfied: pickleshare in c:\\users\\silen\\anaconda3\\lib\\site-packages (from ipython<8.0,>=7.23.1->ipykernel->jupyter->d2l==1.0.0b0) (0.7.5)\n",
      "Requirement already satisfied: colorama in c:\\users\\silen\\anaconda3\\lib\\site-packages (from ipython<8.0,>=7.23.1->ipykernel->jupyter->d2l==1.0.0b0) (0.4.4)\n",
      "Requirement already satisfied: setuptools>=18.5 in c:\\users\\silen\\anaconda3\\lib\\site-packages (from ipython<8.0,>=7.23.1->ipykernel->jupyter->d2l==1.0.0b0) (58.0.4)\n",
      "Requirement already satisfied: decorator in c:\\users\\silen\\anaconda3\\lib\\site-packages (from ipython<8.0,>=7.23.1->ipykernel->jupyter->d2l==1.0.0b0) (5.1.0)\n",
      "Requirement already satisfied: jedi>=0.16 in c:\\users\\silen\\anaconda3\\lib\\site-packages (from ipython<8.0,>=7.23.1->ipykernel->jupyter->d2l==1.0.0b0) (0.18.0)\n",
      "Requirement already satisfied: parso<0.9.0,>=0.8.0 in c:\\users\\silen\\anaconda3\\lib\\site-packages (from jedi>=0.16->ipython<8.0,>=7.23.1->ipykernel->jupyter->d2l==1.0.0b0) (0.8.2)\n",
      "Requirement already satisfied: pyzmq>=13 in c:\\users\\silen\\anaconda3\\lib\\site-packages (from jupyter-client<8.0->ipykernel->jupyter->d2l==1.0.0b0) (22.2.1)\n",
      "Requirement already satisfied: python-dateutil>=2.1 in c:\\users\\silen\\anaconda3\\lib\\site-packages (from jupyter-client<8.0->ipykernel->jupyter->d2l==1.0.0b0) (2.8.2)\n",
      "Requirement already satisfied: jupyter-core>=4.6.0 in c:\\users\\silen\\anaconda3\\lib\\site-packages (from jupyter-client<8.0->ipykernel->jupyter->d2l==1.0.0b0) (4.8.1)\n",
      "Requirement already satisfied: pywin32>=1.0 in c:\\users\\silen\\anaconda3\\lib\\site-packages (from jupyter-core>=4.6.0->jupyter-client<8.0->ipykernel->jupyter->d2l==1.0.0b0) (228)\n",
      "Requirement already satisfied: wcwidth in c:\\users\\silen\\anaconda3\\lib\\site-packages (from prompt-toolkit!=3.0.0,!=3.0.1,<3.1.0,>=2.0.0->ipython<8.0,>=7.23.1->ipykernel->jupyter->d2l==1.0.0b0) (0.2.5)\n",
      "Requirement already satisfied: six>=1.5 in c:\\users\\silen\\anaconda3\\lib\\site-packages (from python-dateutil>=2.1->jupyter-client<8.0->ipykernel->jupyter->d2l==1.0.0b0) (1.16.0)\n",
      "Requirement already satisfied: jupyterlab-widgets>=1.0.0 in c:\\users\\silen\\anaconda3\\lib\\site-packages (from ipywidgets->jupyter->d2l==1.0.0b0) (1.0.0)\n",
      "Requirement already satisfied: widgetsnbextension~=3.5.0 in c:\\users\\silen\\anaconda3\\lib\\site-packages (from ipywidgets->jupyter->d2l==1.0.0b0) (3.5.1)\n",
      "Requirement already satisfied: nbformat>=4.2.0 in c:\\users\\silen\\anaconda3\\lib\\site-packages (from ipywidgets->jupyter->d2l==1.0.0b0) (5.1.3)\n",
      "Requirement already satisfied: jsonschema!=2.5.0,>=2.4 in c:\\users\\silen\\anaconda3\\lib\\site-packages (from nbformat>=4.2.0->ipywidgets->jupyter->d2l==1.0.0b0) (3.2.0)\n",
      "Requirement already satisfied: attrs>=17.4.0 in c:\\users\\silen\\anaconda3\\lib\\site-packages (from jsonschema!=2.5.0,>=2.4->nbformat>=4.2.0->ipywidgets->jupyter->d2l==1.0.0b0) (21.2.0)\n",
      "Requirement already satisfied: pyrsistent>=0.14.0 in c:\\users\\silen\\anaconda3\\lib\\site-packages (from jsonschema!=2.5.0,>=2.4->nbformat>=4.2.0->ipywidgets->jupyter->d2l==1.0.0b0) (0.18.0)\n",
      "Requirement already satisfied: argon2-cffi in c:\\users\\silen\\anaconda3\\lib\\site-packages (from notebook->jupyter->d2l==1.0.0b0) (20.1.0)\n",
      "Requirement already satisfied: prometheus-client in c:\\users\\silen\\anaconda3\\lib\\site-packages (from notebook->jupyter->d2l==1.0.0b0) (0.11.0)\n",
      "Requirement already satisfied: Send2Trash>=1.5.0 in c:\\users\\silen\\anaconda3\\lib\\site-packages (from notebook->jupyter->d2l==1.0.0b0) (1.8.0)\n",
      "Requirement already satisfied: terminado>=0.8.3 in c:\\users\\silen\\anaconda3\\lib\\site-packages (from notebook->jupyter->d2l==1.0.0b0) (0.9.4)\n",
      "Requirement already satisfied: pywinpty>=0.5 in c:\\users\\silen\\anaconda3\\lib\\site-packages (from terminado>=0.8.3->notebook->jupyter->d2l==1.0.0b0) (0.5.7)\n",
      "Requirement already satisfied: cffi>=1.0.0 in c:\\users\\silen\\anaconda3\\lib\\site-packages (from argon2-cffi->notebook->jupyter->d2l==1.0.0b0) (1.14.6)\n",
      "Requirement already satisfied: pycparser in c:\\users\\silen\\anaconda3\\lib\\site-packages (from cffi>=1.0.0->argon2-cffi->notebook->jupyter->d2l==1.0.0b0) (2.20)\n",
      "Requirement already satisfied: pyparsing>=2.2.1 in c:\\users\\silen\\anaconda3\\lib\\site-packages (from matplotlib->d2l==1.0.0b0) (3.0.4)\n",
      "Requirement already satisfied: cycler>=0.10 in c:\\users\\silen\\anaconda3\\lib\\site-packages (from matplotlib->d2l==1.0.0b0) (0.10.0)\n",
      "Requirement already satisfied: kiwisolver>=1.0.1 in c:\\users\\silen\\anaconda3\\lib\\site-packages (from matplotlib->d2l==1.0.0b0) (1.3.1)\n",
      "Requirement already satisfied: pillow>=6.2.0 in c:\\users\\silen\\anaconda3\\lib\\site-packages (from matplotlib->d2l==1.0.0b0) (8.4.0)\n",
      "Requirement already satisfied: mistune<2,>=0.8.1 in c:\\users\\silen\\anaconda3\\lib\\site-packages (from nbconvert->jupyter->d2l==1.0.0b0) (0.8.4)\n",
      "Requirement already satisfied: jupyterlab-pygments in c:\\users\\silen\\anaconda3\\lib\\site-packages (from nbconvert->jupyter->d2l==1.0.0b0) (0.1.2)\n",
      "Requirement already satisfied: entrypoints>=0.2.2 in c:\\users\\silen\\anaconda3\\lib\\site-packages (from nbconvert->jupyter->d2l==1.0.0b0) (0.3)\n",
      "Requirement already satisfied: pandocfilters>=1.4.1 in c:\\users\\silen\\anaconda3\\lib\\site-packages (from nbconvert->jupyter->d2l==1.0.0b0) (1.4.3)\n",
      "Requirement already satisfied: testpath in c:\\users\\silen\\anaconda3\\lib\\site-packages (from nbconvert->jupyter->d2l==1.0.0b0) (0.5.0)\n",
      "Requirement already satisfied: nbclient<0.6.0,>=0.5.0 in c:\\users\\silen\\anaconda3\\lib\\site-packages (from nbconvert->jupyter->d2l==1.0.0b0) (0.5.3)\n",
      "Requirement already satisfied: bleach in c:\\users\\silen\\anaconda3\\lib\\site-packages (from nbconvert->jupyter->d2l==1.0.0b0) (4.0.0)\n",
      "Requirement already satisfied: defusedxml in c:\\users\\silen\\anaconda3\\lib\\site-packages (from nbconvert->jupyter->d2l==1.0.0b0) (0.7.1)\n",
      "Requirement already satisfied: async-generator in c:\\users\\silen\\anaconda3\\lib\\site-packages (from nbclient<0.6.0,>=0.5.0->nbconvert->jupyter->d2l==1.0.0b0) (1.10)\n",
      "Requirement already satisfied: nest-asyncio in c:\\users\\silen\\anaconda3\\lib\\site-packages (from nbclient<0.6.0,>=0.5.0->nbconvert->jupyter->d2l==1.0.0b0) (1.5.1)\n",
      "Requirement already satisfied: packaging in c:\\users\\silen\\anaconda3\\lib\\site-packages (from bleach->nbconvert->jupyter->d2l==1.0.0b0) (21.0)\n",
      "Requirement already satisfied: webencodings in c:\\users\\silen\\anaconda3\\lib\\site-packages (from bleach->nbconvert->jupyter->d2l==1.0.0b0) (0.5.1)\n",
      "Requirement already satisfied: pytz>=2017.3 in c:\\users\\silen\\anaconda3\\lib\\site-packages (from pandas->d2l==1.0.0b0) (2021.3)\n",
      "Requirement already satisfied: qtpy in c:\\users\\silen\\anaconda3\\lib\\site-packages (from qtconsole->jupyter->d2l==1.0.0b0) (1.10.0)\n",
      "Requirement already satisfied: idna<4,>=2.5 in c:\\users\\silen\\anaconda3\\lib\\site-packages (from requests->d2l==1.0.0b0) (3.2)\n",
      "Requirement already satisfied: certifi>=2017.4.17 in c:\\users\\silen\\anaconda3\\lib\\site-packages (from requests->d2l==1.0.0b0) (2021.10.8)\n",
      "Requirement already satisfied: urllib3<1.27,>=1.21.1 in c:\\users\\silen\\anaconda3\\lib\\site-packages (from requests->d2l==1.0.0b0) (1.26.7)\n",
      "Requirement already satisfied: charset-normalizer~=2.0.0 in c:\\users\\silen\\anaconda3\\lib\\site-packages (from requests->d2l==1.0.0b0) (2.0.4)\n",
      "Requirement already satisfied: threadpoolctl>=2.0.0 in c:\\users\\silen\\anaconda3\\lib\\site-packages (from scikit-learn->gpytorch->d2l==1.0.0b0) (2.2.0)\n",
      "Requirement already satisfied: joblib>=0.11 in c:\\users\\silen\\anaconda3\\lib\\site-packages (from scikit-learn->gpytorch->d2l==1.0.0b0) (1.1.0)\n",
      "Requirement already satisfied: mpmath>=0.19 in c:\\users\\silen\\anaconda3\\lib\\site-packages (from sympy->torch>=1.11->linear-operator>=0.2.0->gpytorch->d2l==1.0.0b0) (1.2.1)\n",
      "Note: you may need to restart the kernel to use updated packages.\n"
     ]
    }
   ],
   "source": [
    "pip install d2l==1.0.0b0"
   ]
  },
  {
   "cell_type": "code",
   "execution_count": 32,
   "metadata": {},
   "outputs": [],
   "source": [
    "%matplotlib inline\n",
    "import math\n",
    "import time\n",
    "import numpy as np\n",
    "import tensorflow as tf\n",
    "from d2l import tensorflow as d2l"
   ]
  },
  {
   "cell_type": "code",
   "execution_count": 33,
   "metadata": {},
   "outputs": [],
   "source": [
    "n = 10000\n",
    "a = tf.ones(n)\n",
    "b = tf.ones(n)"
   ]
  },
  {
   "cell_type": "code",
   "execution_count": 34,
   "metadata": {},
   "outputs": [
    {
     "data": {
      "text/plain": [
       "'21.93566 sec'"
      ]
     },
     "execution_count": 34,
     "metadata": {},
     "output_type": "execute_result"
    }
   ],
   "source": [
    "c = tf.Variable(tf.zeros(n))\n",
    "t = time.time()\n",
    "for i in range(n):\n",
    "    c[i].assign(a[i] + b[i])\n",
    "f'{time.time() - t:.5f} sec'    "
   ]
  },
  {
   "cell_type": "code",
   "execution_count": 35,
   "metadata": {},
   "outputs": [
    {
     "data": {
      "text/plain": [
       "'0.00100 sec'"
      ]
     },
     "execution_count": 35,
     "metadata": {},
     "output_type": "execute_result"
    }
   ],
   "source": [
    "t = time.time()\n",
    "d = a + b\n",
    "f'{time.time() - t:.5f} sec'"
   ]
  },
  {
   "cell_type": "code",
   "execution_count": 36,
   "metadata": {},
   "outputs": [],
   "source": [
    "def normal(X, mu, sigma):\n",
    "    p = 1 / math.sqrt(2 * math.pi * sigma**2)\n",
    "    return p * np.exp(-0.5 * (X - mu)**2 / sigma**2)"
   ]
  },
  {
   "cell_type": "code",
   "execution_count": 37,
   "metadata": {},
   "outputs": [
    {
     "data": {
      "image/svg+xml": "<?xml version=\"1.0\" encoding=\"utf-8\" standalone=\"no\"?>\r\n<!DOCTYPE svg PUBLIC \"-//W3C//DTD SVG 1.1//EN\"\r\n  \"http://www.w3.org/Graphics/SVG/1.1/DTD/svg11.dtd\">\r\n<svg height=\"180.65625pt\" version=\"1.1\" viewBox=\"0 0 302.08125 180.65625\" width=\"302.08125pt\" xmlns=\"http://www.w3.org/2000/svg\" xmlns:xlink=\"http://www.w3.org/1999/xlink\">\r\n <metadata>\r\n  <rdf:RDF xmlns:cc=\"http://creativecommons.org/ns#\" xmlns:dc=\"http://purl.org/dc/elements/1.1/\" xmlns:rdf=\"http://www.w3.org/1999/02/22-rdf-syntax-ns#\">\r\n   <cc:Work>\r\n    <dc:type rdf:resource=\"http://purl.org/dc/dcmitype/StillImage\"/>\r\n    <dc:date>2023-04-18T13:34:15.118232</dc:date>\r\n    <dc:format>image/svg+xml</dc:format>\r\n    <dc:creator>\r\n     <cc:Agent>\r\n      <dc:title>Matplotlib v3.4.3, https://matplotlib.org/</dc:title>\r\n     </cc:Agent>\r\n    </dc:creator>\r\n   </cc:Work>\r\n  </rdf:RDF>\r\n </metadata>\r\n <defs>\r\n  <style type=\"text/css\">*{stroke-linecap:butt;stroke-linejoin:round;}</style>\r\n </defs>\r\n <g id=\"figure_1\">\r\n  <g id=\"patch_1\">\r\n   <path d=\"M 0 180.65625 \r\nL 302.08125 180.65625 \r\nL 302.08125 0 \r\nL 0 0 \r\nz\r\n\" style=\"fill:none;\"/>\r\n  </g>\r\n  <g id=\"axes_1\">\r\n   <g id=\"patch_2\">\r\n    <path d=\"M 43.78125 143.1 \r\nL 294.88125 143.1 \r\nL 294.88125 7.2 \r\nL 43.78125 7.2 \r\nz\r\n\" style=\"fill:#ffffff;\"/>\r\n   </g>\r\n   <g id=\"matplotlib.axis_1\">\r\n    <g id=\"xtick_1\">\r\n     <g id=\"line2d_1\">\r\n      <path clip-path=\"url(#pba1117fbc4)\" d=\"M 71.511736 143.1 \r\nL 71.511736 7.2 \r\n\" style=\"fill:none;stroke:#b0b0b0;stroke-linecap:square;stroke-width:0.8;\"/>\r\n     </g>\r\n     <g id=\"line2d_2\">\r\n      <defs>\r\n       <path d=\"M 0 0 \r\nL 0 3.5 \r\n\" id=\"mc986a5a1a2\" style=\"stroke:#000000;stroke-width:0.8;\"/>\r\n      </defs>\r\n      <g>\r\n       <use style=\"stroke:#000000;stroke-width:0.8;\" x=\"71.511736\" xlink:href=\"#mc986a5a1a2\" y=\"143.1\"/>\r\n      </g>\r\n     </g>\r\n     <g id=\"text_1\">\r\n      <!-- −6 -->\r\n      <g transform=\"translate(64.140642 157.698438)scale(0.1 -0.1)\">\r\n       <defs>\r\n        <path d=\"M 678 2272 \r\nL 4684 2272 \r\nL 4684 1741 \r\nL 678 1741 \r\nL 678 2272 \r\nz\r\n\" id=\"DejaVuSans-2212\" transform=\"scale(0.015625)\"/>\r\n        <path d=\"M 2113 2584 \r\nQ 1688 2584 1439 2293 \r\nQ 1191 2003 1191 1497 \r\nQ 1191 994 1439 701 \r\nQ 1688 409 2113 409 \r\nQ 2538 409 2786 701 \r\nQ 3034 994 3034 1497 \r\nQ 3034 2003 2786 2293 \r\nQ 2538 2584 2113 2584 \r\nz\r\nM 3366 4563 \r\nL 3366 3988 \r\nQ 3128 4100 2886 4159 \r\nQ 2644 4219 2406 4219 \r\nQ 1781 4219 1451 3797 \r\nQ 1122 3375 1075 2522 \r\nQ 1259 2794 1537 2939 \r\nQ 1816 3084 2150 3084 \r\nQ 2853 3084 3261 2657 \r\nQ 3669 2231 3669 1497 \r\nQ 3669 778 3244 343 \r\nQ 2819 -91 2113 -91 \r\nQ 1303 -91 875 529 \r\nQ 447 1150 447 2328 \r\nQ 447 3434 972 4092 \r\nQ 1497 4750 2381 4750 \r\nQ 2619 4750 2861 4703 \r\nQ 3103 4656 3366 4563 \r\nz\r\n\" id=\"DejaVuSans-36\" transform=\"scale(0.015625)\"/>\r\n       </defs>\r\n       <use xlink:href=\"#DejaVuSans-2212\"/>\r\n       <use x=\"83.789062\" xlink:href=\"#DejaVuSans-36\"/>\r\n      </g>\r\n     </g>\r\n    </g>\r\n    <g id=\"xtick_2\">\r\n     <g id=\"line2d_3\">\r\n      <path clip-path=\"url(#pba1117fbc4)\" d=\"M 104.145435 143.1 \r\nL 104.145435 7.2 \r\n\" style=\"fill:none;stroke:#b0b0b0;stroke-linecap:square;stroke-width:0.8;\"/>\r\n     </g>\r\n     <g id=\"line2d_4\">\r\n      <g>\r\n       <use style=\"stroke:#000000;stroke-width:0.8;\" x=\"104.145435\" xlink:href=\"#mc986a5a1a2\" y=\"143.1\"/>\r\n      </g>\r\n     </g>\r\n     <g id=\"text_2\">\r\n      <!-- −4 -->\r\n      <g transform=\"translate(96.774342 157.698438)scale(0.1 -0.1)\">\r\n       <defs>\r\n        <path d=\"M 2419 4116 \r\nL 825 1625 \r\nL 2419 1625 \r\nL 2419 4116 \r\nz\r\nM 2253 4666 \r\nL 3047 4666 \r\nL 3047 1625 \r\nL 3713 1625 \r\nL 3713 1100 \r\nL 3047 1100 \r\nL 3047 0 \r\nL 2419 0 \r\nL 2419 1100 \r\nL 313 1100 \r\nL 313 1709 \r\nL 2253 4666 \r\nz\r\n\" id=\"DejaVuSans-34\" transform=\"scale(0.015625)\"/>\r\n       </defs>\r\n       <use xlink:href=\"#DejaVuSans-2212\"/>\r\n       <use x=\"83.789062\" xlink:href=\"#DejaVuSans-34\"/>\r\n      </g>\r\n     </g>\r\n    </g>\r\n    <g id=\"xtick_3\">\r\n     <g id=\"line2d_5\">\r\n      <path clip-path=\"url(#pba1117fbc4)\" d=\"M 136.779135 143.1 \r\nL 136.779135 7.2 \r\n\" style=\"fill:none;stroke:#b0b0b0;stroke-linecap:square;stroke-width:0.8;\"/>\r\n     </g>\r\n     <g id=\"line2d_6\">\r\n      <g>\r\n       <use style=\"stroke:#000000;stroke-width:0.8;\" x=\"136.779135\" xlink:href=\"#mc986a5a1a2\" y=\"143.1\"/>\r\n      </g>\r\n     </g>\r\n     <g id=\"text_3\">\r\n      <!-- −2 -->\r\n      <g transform=\"translate(129.408041 157.698438)scale(0.1 -0.1)\">\r\n       <defs>\r\n        <path d=\"M 1228 531 \r\nL 3431 531 \r\nL 3431 0 \r\nL 469 0 \r\nL 469 531 \r\nQ 828 903 1448 1529 \r\nQ 2069 2156 2228 2338 \r\nQ 2531 2678 2651 2914 \r\nQ 2772 3150 2772 3378 \r\nQ 2772 3750 2511 3984 \r\nQ 2250 4219 1831 4219 \r\nQ 1534 4219 1204 4116 \r\nQ 875 4013 500 3803 \r\nL 500 4441 \r\nQ 881 4594 1212 4672 \r\nQ 1544 4750 1819 4750 \r\nQ 2544 4750 2975 4387 \r\nQ 3406 4025 3406 3419 \r\nQ 3406 3131 3298 2873 \r\nQ 3191 2616 2906 2266 \r\nQ 2828 2175 2409 1742 \r\nQ 1991 1309 1228 531 \r\nz\r\n\" id=\"DejaVuSans-32\" transform=\"scale(0.015625)\"/>\r\n       </defs>\r\n       <use xlink:href=\"#DejaVuSans-2212\"/>\r\n       <use x=\"83.789062\" xlink:href=\"#DejaVuSans-32\"/>\r\n      </g>\r\n     </g>\r\n    </g>\r\n    <g id=\"xtick_4\">\r\n     <g id=\"line2d_7\">\r\n      <path clip-path=\"url(#pba1117fbc4)\" d=\"M 169.412834 143.1 \r\nL 169.412834 7.2 \r\n\" style=\"fill:none;stroke:#b0b0b0;stroke-linecap:square;stroke-width:0.8;\"/>\r\n     </g>\r\n     <g id=\"line2d_8\">\r\n      <g>\r\n       <use style=\"stroke:#000000;stroke-width:0.8;\" x=\"169.412834\" xlink:href=\"#mc986a5a1a2\" y=\"143.1\"/>\r\n      </g>\r\n     </g>\r\n     <g id=\"text_4\">\r\n      <!-- 0 -->\r\n      <g transform=\"translate(166.231584 157.698438)scale(0.1 -0.1)\">\r\n       <defs>\r\n        <path d=\"M 2034 4250 \r\nQ 1547 4250 1301 3770 \r\nQ 1056 3291 1056 2328 \r\nQ 1056 1369 1301 889 \r\nQ 1547 409 2034 409 \r\nQ 2525 409 2770 889 \r\nQ 3016 1369 3016 2328 \r\nQ 3016 3291 2770 3770 \r\nQ 2525 4250 2034 4250 \r\nz\r\nM 2034 4750 \r\nQ 2819 4750 3233 4129 \r\nQ 3647 3509 3647 2328 \r\nQ 3647 1150 3233 529 \r\nQ 2819 -91 2034 -91 \r\nQ 1250 -91 836 529 \r\nQ 422 1150 422 2328 \r\nQ 422 3509 836 4129 \r\nQ 1250 4750 2034 4750 \r\nz\r\n\" id=\"DejaVuSans-30\" transform=\"scale(0.015625)\"/>\r\n       </defs>\r\n       <use xlink:href=\"#DejaVuSans-30\"/>\r\n      </g>\r\n     </g>\r\n    </g>\r\n    <g id=\"xtick_5\">\r\n     <g id=\"line2d_9\">\r\n      <path clip-path=\"url(#pba1117fbc4)\" d=\"M 202.046534 143.1 \r\nL 202.046534 7.2 \r\n\" style=\"fill:none;stroke:#b0b0b0;stroke-linecap:square;stroke-width:0.8;\"/>\r\n     </g>\r\n     <g id=\"line2d_10\">\r\n      <g>\r\n       <use style=\"stroke:#000000;stroke-width:0.8;\" x=\"202.046534\" xlink:href=\"#mc986a5a1a2\" y=\"143.1\"/>\r\n      </g>\r\n     </g>\r\n     <g id=\"text_5\">\r\n      <!-- 2 -->\r\n      <g transform=\"translate(198.865284 157.698438)scale(0.1 -0.1)\">\r\n       <use xlink:href=\"#DejaVuSans-32\"/>\r\n      </g>\r\n     </g>\r\n    </g>\r\n    <g id=\"xtick_6\">\r\n     <g id=\"line2d_11\">\r\n      <path clip-path=\"url(#pba1117fbc4)\" d=\"M 234.680233 143.1 \r\nL 234.680233 7.2 \r\n\" style=\"fill:none;stroke:#b0b0b0;stroke-linecap:square;stroke-width:0.8;\"/>\r\n     </g>\r\n     <g id=\"line2d_12\">\r\n      <g>\r\n       <use style=\"stroke:#000000;stroke-width:0.8;\" x=\"234.680233\" xlink:href=\"#mc986a5a1a2\" y=\"143.1\"/>\r\n      </g>\r\n     </g>\r\n     <g id=\"text_6\">\r\n      <!-- 4 -->\r\n      <g transform=\"translate(231.498983 157.698438)scale(0.1 -0.1)\">\r\n       <use xlink:href=\"#DejaVuSans-34\"/>\r\n      </g>\r\n     </g>\r\n    </g>\r\n    <g id=\"xtick_7\">\r\n     <g id=\"line2d_13\">\r\n      <path clip-path=\"url(#pba1117fbc4)\" d=\"M 267.313932 143.1 \r\nL 267.313932 7.2 \r\n\" style=\"fill:none;stroke:#b0b0b0;stroke-linecap:square;stroke-width:0.8;\"/>\r\n     </g>\r\n     <g id=\"line2d_14\">\r\n      <g>\r\n       <use style=\"stroke:#000000;stroke-width:0.8;\" x=\"267.313932\" xlink:href=\"#mc986a5a1a2\" y=\"143.1\"/>\r\n      </g>\r\n     </g>\r\n     <g id=\"text_7\">\r\n      <!-- 6 -->\r\n      <g transform=\"translate(264.132682 157.698438)scale(0.1 -0.1)\">\r\n       <use xlink:href=\"#DejaVuSans-36\"/>\r\n      </g>\r\n     </g>\r\n    </g>\r\n    <g id=\"text_8\">\r\n     <!-- x -->\r\n     <g transform=\"translate(166.371875 171.376563)scale(0.1 -0.1)\">\r\n      <defs>\r\n       <path d=\"M 3513 3500 \r\nL 2247 1797 \r\nL 3578 0 \r\nL 2900 0 \r\nL 1881 1375 \r\nL 863 0 \r\nL 184 0 \r\nL 1544 1831 \r\nL 300 3500 \r\nL 978 3500 \r\nL 1906 2253 \r\nL 2834 3500 \r\nL 3513 3500 \r\nz\r\n\" id=\"DejaVuSans-78\" transform=\"scale(0.015625)\"/>\r\n      </defs>\r\n      <use xlink:href=\"#DejaVuSans-78\"/>\r\n     </g>\r\n    </g>\r\n   </g>\r\n   <g id=\"matplotlib.axis_2\">\r\n    <g id=\"ytick_1\">\r\n     <g id=\"line2d_15\">\r\n      <path clip-path=\"url(#pba1117fbc4)\" d=\"M 43.78125 136.922727 \r\nL 294.88125 136.922727 \r\n\" style=\"fill:none;stroke:#b0b0b0;stroke-linecap:square;stroke-width:0.8;\"/>\r\n     </g>\r\n     <g id=\"line2d_16\">\r\n      <defs>\r\n       <path d=\"M 0 0 \r\nL -3.5 0 \r\n\" id=\"m14c64da696\" style=\"stroke:#000000;stroke-width:0.8;\"/>\r\n      </defs>\r\n      <g>\r\n       <use style=\"stroke:#000000;stroke-width:0.8;\" x=\"43.78125\" xlink:href=\"#m14c64da696\" y=\"136.922727\"/>\r\n      </g>\r\n     </g>\r\n     <g id=\"text_9\">\r\n      <!-- 0.0 -->\r\n      <g transform=\"translate(20.878125 140.721946)scale(0.1 -0.1)\">\r\n       <defs>\r\n        <path d=\"M 684 794 \r\nL 1344 794 \r\nL 1344 0 \r\nL 684 0 \r\nL 684 794 \r\nz\r\n\" id=\"DejaVuSans-2e\" transform=\"scale(0.015625)\"/>\r\n       </defs>\r\n       <use xlink:href=\"#DejaVuSans-30\"/>\r\n       <use x=\"63.623047\" xlink:href=\"#DejaVuSans-2e\"/>\r\n       <use x=\"95.410156\" xlink:href=\"#DejaVuSans-30\"/>\r\n      </g>\r\n     </g>\r\n    </g>\r\n    <g id=\"ytick_2\">\r\n     <g id=\"line2d_17\">\r\n      <path clip-path=\"url(#pba1117fbc4)\" d=\"M 43.78125 105.954474 \r\nL 294.88125 105.954474 \r\n\" style=\"fill:none;stroke:#b0b0b0;stroke-linecap:square;stroke-width:0.8;\"/>\r\n     </g>\r\n     <g id=\"line2d_18\">\r\n      <g>\r\n       <use style=\"stroke:#000000;stroke-width:0.8;\" x=\"43.78125\" xlink:href=\"#m14c64da696\" y=\"105.954474\"/>\r\n      </g>\r\n     </g>\r\n     <g id=\"text_10\">\r\n      <!-- 0.1 -->\r\n      <g transform=\"translate(20.878125 109.753693)scale(0.1 -0.1)\">\r\n       <defs>\r\n        <path d=\"M 794 531 \r\nL 1825 531 \r\nL 1825 4091 \r\nL 703 3866 \r\nL 703 4441 \r\nL 1819 4666 \r\nL 2450 4666 \r\nL 2450 531 \r\nL 3481 531 \r\nL 3481 0 \r\nL 794 0 \r\nL 794 531 \r\nz\r\n\" id=\"DejaVuSans-31\" transform=\"scale(0.015625)\"/>\r\n       </defs>\r\n       <use xlink:href=\"#DejaVuSans-30\"/>\r\n       <use x=\"63.623047\" xlink:href=\"#DejaVuSans-2e\"/>\r\n       <use x=\"95.410156\" xlink:href=\"#DejaVuSans-31\"/>\r\n      </g>\r\n     </g>\r\n    </g>\r\n    <g id=\"ytick_3\">\r\n     <g id=\"line2d_19\">\r\n      <path clip-path=\"url(#pba1117fbc4)\" d=\"M 43.78125 74.986221 \r\nL 294.88125 74.986221 \r\n\" style=\"fill:none;stroke:#b0b0b0;stroke-linecap:square;stroke-width:0.8;\"/>\r\n     </g>\r\n     <g id=\"line2d_20\">\r\n      <g>\r\n       <use style=\"stroke:#000000;stroke-width:0.8;\" x=\"43.78125\" xlink:href=\"#m14c64da696\" y=\"74.986221\"/>\r\n      </g>\r\n     </g>\r\n     <g id=\"text_11\">\r\n      <!-- 0.2 -->\r\n      <g transform=\"translate(20.878125 78.78544)scale(0.1 -0.1)\">\r\n       <use xlink:href=\"#DejaVuSans-30\"/>\r\n       <use x=\"63.623047\" xlink:href=\"#DejaVuSans-2e\"/>\r\n       <use x=\"95.410156\" xlink:href=\"#DejaVuSans-32\"/>\r\n      </g>\r\n     </g>\r\n    </g>\r\n    <g id=\"ytick_4\">\r\n     <g id=\"line2d_21\">\r\n      <path clip-path=\"url(#pba1117fbc4)\" d=\"M 43.78125 44.017968 \r\nL 294.88125 44.017968 \r\n\" style=\"fill:none;stroke:#b0b0b0;stroke-linecap:square;stroke-width:0.8;\"/>\r\n     </g>\r\n     <g id=\"line2d_22\">\r\n      <g>\r\n       <use style=\"stroke:#000000;stroke-width:0.8;\" x=\"43.78125\" xlink:href=\"#m14c64da696\" y=\"44.017968\"/>\r\n      </g>\r\n     </g>\r\n     <g id=\"text_12\">\r\n      <!-- 0.3 -->\r\n      <g transform=\"translate(20.878125 47.817187)scale(0.1 -0.1)\">\r\n       <defs>\r\n        <path d=\"M 2597 2516 \r\nQ 3050 2419 3304 2112 \r\nQ 3559 1806 3559 1356 \r\nQ 3559 666 3084 287 \r\nQ 2609 -91 1734 -91 \r\nQ 1441 -91 1130 -33 \r\nQ 819 25 488 141 \r\nL 488 750 \r\nQ 750 597 1062 519 \r\nQ 1375 441 1716 441 \r\nQ 2309 441 2620 675 \r\nQ 2931 909 2931 1356 \r\nQ 2931 1769 2642 2001 \r\nQ 2353 2234 1838 2234 \r\nL 1294 2234 \r\nL 1294 2753 \r\nL 1863 2753 \r\nQ 2328 2753 2575 2939 \r\nQ 2822 3125 2822 3475 \r\nQ 2822 3834 2567 4026 \r\nQ 2313 4219 1838 4219 \r\nQ 1578 4219 1281 4162 \r\nQ 984 4106 628 3988 \r\nL 628 4550 \r\nQ 988 4650 1302 4700 \r\nQ 1616 4750 1894 4750 \r\nQ 2613 4750 3031 4423 \r\nQ 3450 4097 3450 3541 \r\nQ 3450 3153 3228 2886 \r\nQ 3006 2619 2597 2516 \r\nz\r\n\" id=\"DejaVuSans-33\" transform=\"scale(0.015625)\"/>\r\n       </defs>\r\n       <use xlink:href=\"#DejaVuSans-30\"/>\r\n       <use x=\"63.623047\" xlink:href=\"#DejaVuSans-2e\"/>\r\n       <use x=\"95.410156\" xlink:href=\"#DejaVuSans-33\"/>\r\n      </g>\r\n     </g>\r\n    </g>\r\n    <g id=\"ytick_5\">\r\n     <g id=\"line2d_23\">\r\n      <path clip-path=\"url(#pba1117fbc4)\" d=\"M 43.78125 13.049715 \r\nL 294.88125 13.049715 \r\n\" style=\"fill:none;stroke:#b0b0b0;stroke-linecap:square;stroke-width:0.8;\"/>\r\n     </g>\r\n     <g id=\"line2d_24\">\r\n      <g>\r\n       <use style=\"stroke:#000000;stroke-width:0.8;\" x=\"43.78125\" xlink:href=\"#m14c64da696\" y=\"13.049715\"/>\r\n      </g>\r\n     </g>\r\n     <g id=\"text_13\">\r\n      <!-- 0.4 -->\r\n      <g transform=\"translate(20.878125 16.848934)scale(0.1 -0.1)\">\r\n       <use xlink:href=\"#DejaVuSans-30\"/>\r\n       <use x=\"63.623047\" xlink:href=\"#DejaVuSans-2e\"/>\r\n       <use x=\"95.410156\" xlink:href=\"#DejaVuSans-34\"/>\r\n      </g>\r\n     </g>\r\n    </g>\r\n    <g id=\"text_14\">\r\n     <!-- p(x) -->\r\n     <g transform=\"translate(14.798438 85.185156)rotate(-90)scale(0.1 -0.1)\">\r\n      <defs>\r\n       <path d=\"M 1159 525 \r\nL 1159 -1331 \r\nL 581 -1331 \r\nL 581 3500 \r\nL 1159 3500 \r\nL 1159 2969 \r\nQ 1341 3281 1617 3432 \r\nQ 1894 3584 2278 3584 \r\nQ 2916 3584 3314 3078 \r\nQ 3713 2572 3713 1747 \r\nQ 3713 922 3314 415 \r\nQ 2916 -91 2278 -91 \r\nQ 1894 -91 1617 61 \r\nQ 1341 213 1159 525 \r\nz\r\nM 3116 1747 \r\nQ 3116 2381 2855 2742 \r\nQ 2594 3103 2138 3103 \r\nQ 1681 3103 1420 2742 \r\nQ 1159 2381 1159 1747 \r\nQ 1159 1113 1420 752 \r\nQ 1681 391 2138 391 \r\nQ 2594 391 2855 752 \r\nQ 3116 1113 3116 1747 \r\nz\r\n\" id=\"DejaVuSans-70\" transform=\"scale(0.015625)\"/>\r\n       <path d=\"M 1984 4856 \r\nQ 1566 4138 1362 3434 \r\nQ 1159 2731 1159 2009 \r\nQ 1159 1288 1364 580 \r\nQ 1569 -128 1984 -844 \r\nL 1484 -844 \r\nQ 1016 -109 783 600 \r\nQ 550 1309 550 2009 \r\nQ 550 2706 781 3412 \r\nQ 1013 4119 1484 4856 \r\nL 1984 4856 \r\nz\r\n\" id=\"DejaVuSans-28\" transform=\"scale(0.015625)\"/>\r\n       <path d=\"M 513 4856 \r\nL 1013 4856 \r\nQ 1481 4119 1714 3412 \r\nQ 1947 2706 1947 2009 \r\nQ 1947 1309 1714 600 \r\nQ 1481 -109 1013 -844 \r\nL 513 -844 \r\nQ 928 -128 1133 580 \r\nQ 1338 1288 1338 2009 \r\nQ 1338 2731 1133 3434 \r\nQ 928 4138 513 4856 \r\nz\r\n\" id=\"DejaVuSans-29\" transform=\"scale(0.015625)\"/>\r\n      </defs>\r\n      <use xlink:href=\"#DejaVuSans-70\"/>\r\n      <use x=\"63.476562\" xlink:href=\"#DejaVuSans-28\"/>\r\n      <use x=\"102.490234\" xlink:href=\"#DejaVuSans-78\"/>\r\n      <use x=\"161.669922\" xlink:href=\"#DejaVuSans-29\"/>\r\n     </g>\r\n    </g>\r\n   </g>\r\n   <g id=\"line2d_25\">\r\n    <path clip-path=\"url(#pba1117fbc4)\" d=\"M 55.194886 136.922727 \r\nL 108.224648 136.813535 \r\nL 113.609208 136.566288 \r\nL 117.198915 136.184417 \r\nL 119.97278 135.668952 \r\nL 122.257139 135.025186 \r\nL 124.215161 134.257847 \r\nL 126.010014 133.330368 \r\nL 127.804868 132.138334 \r\nL 129.436552 130.779445 \r\nL 131.068237 129.113085 \r\nL 132.699922 127.093512 \r\nL 134.331607 124.67477 \r\nL 135.963292 121.812692 \r\nL 137.594977 118.467288 \r\nL 139.226662 114.605495 \r\nL 141.021516 109.733818 \r\nL 142.816369 104.197078 \r\nL 144.774391 97.412516 \r\nL 146.895582 89.247632 \r\nL 149.506278 78.224523 \r\nL 153.259153 61.239305 \r\nL 157.501534 42.275258 \r\nL 159.785893 33.113056 \r\nL 161.580746 26.820515 \r\nL 163.049263 22.424523 \r\nL 164.354611 19.173268 \r\nL 165.49679 16.884633 \r\nL 166.475801 15.362585 \r\nL 167.454812 14.263605 \r\nL 168.270655 13.679589 \r\nL 169.086497 13.401979 \r\nL 169.739171 13.401979 \r\nL 170.391845 13.599455 \r\nL 171.207688 14.122466 \r\nL 172.02353 14.948577 \r\nL 173.002541 16.331186 \r\nL 173.981552 18.12656 \r\nL 175.123732 20.717347 \r\nL 176.42908 24.286979 \r\nL 177.897596 29.000684 \r\nL 179.69245 35.615359 \r\nL 181.81364 44.367165 \r\nL 184.913841 58.245076 \r\nL 190.46157 83.161144 \r\nL 192.909098 93.115047 \r\nL 195.030288 100.899673 \r\nL 196.98831 107.299489 \r\nL 198.783164 112.473243 \r\nL 200.578017 116.986089 \r\nL 202.209702 120.534567 \r\nL 203.841387 123.5855 \r\nL 205.473072 126.176453 \r\nL 207.104757 128.35023 \r\nL 208.736442 130.152334 \r\nL 210.368127 131.628806 \r\nL 211.999812 132.824481 \r\nL 213.794665 133.865803 \r\nL 215.752687 134.73293 \r\nL 217.873878 135.421686 \r\nL 220.321405 135.97206 \r\nL 223.258438 136.389278 \r\nL 227.011314 136.67952 \r\nL 232.395874 136.850878 \r\nL 243.001826 136.917995 \r\nL 283.467614 136.922727 \r\nL 283.467614 136.922727 \r\n\" style=\"fill:none;stroke:#1f77b4;stroke-linecap:square;stroke-width:1.5;\"/>\r\n   </g>\r\n   <g id=\"line2d_26\">\r\n    <path clip-path=\"url(#pba1117fbc4)\" d=\"M 55.194886 136.7876 \r\nL 65.800839 136.522951 \r\nL 73.143421 136.126434 \r\nL 79.017487 135.590287 \r\nL 83.912542 134.926494 \r\nL 88.318091 134.105229 \r\nL 92.234135 133.153577 \r\nL 95.823842 132.06316 \r\nL 99.250381 130.798749 \r\nL 102.51375 129.367709 \r\nL 105.77712 127.695008 \r\nL 109.04049 125.764111 \r\nL 112.30386 123.563438 \r\nL 115.56723 121.087897 \r\nL 118.993769 118.196043 \r\nL 122.583476 114.860886 \r\nL 126.49952 110.903144 \r\nL 131.068237 105.948686 \r\nL 138.247651 97.770807 \r\nL 144.611223 90.644946 \r\nL 148.527267 86.589675 \r\nL 151.790637 83.530672 \r\nL 154.564501 81.224436 \r\nL 157.175197 79.344214 \r\nL 159.459556 77.957408 \r\nL 161.743915 76.832365 \r\nL 163.865105 76.036198 \r\nL 165.823127 75.522597 \r\nL 167.781149 75.227168 \r\nL 169.739171 75.153089 \r\nL 171.697193 75.301158 \r\nL 173.655215 75.66978 \r\nL 175.613237 76.254995 \r\nL 177.734428 77.126088 \r\nL 179.855618 78.233161 \r\nL 182.139977 79.673625 \r\nL 184.587504 81.48006 \r\nL 187.361369 83.820867 \r\nL 190.46157 86.751111 \r\nL 194.051277 90.469337 \r\nL 198.783164 95.721751 \r\nL 211.673475 110.215093 \r\nL 215.752687 114.383393 \r\nL 219.505563 117.90542 \r\nL 222.932101 120.82526 \r\nL 226.195471 123.328273 \r\nL 229.458841 125.556324 \r\nL 232.722211 127.513772 \r\nL 235.985581 129.211619 \r\nL 239.248951 130.665971 \r\nL 242.675489 131.95258 \r\nL 246.265196 133.063568 \r\nL 250.18124 134.034481 \r\nL 254.423621 134.846714 \r\nL 259.155508 135.514669 \r\nL 264.540068 136.040363 \r\nL 270.903639 136.432354 \r\nL 279.225233 136.707949 \r\nL 283.467614 136.785216 \r\nL 283.467614 136.785216 \r\n\" style=\"fill:none;stroke:#bf00bf;stroke-dasharray:5.55,2.4;stroke-dashoffset:0;stroke-width:1.5;\"/>\r\n   </g>\r\n   <g id=\"line2d_27\">\r\n    <path clip-path=\"url(#pba1117fbc4)\" d=\"M 55.194886 136.922727 \r\nL 157.175197 136.813535 \r\nL 162.559757 136.566288 \r\nL 166.149464 136.184417 \r\nL 168.923329 135.668952 \r\nL 171.207688 135.025186 \r\nL 173.16571 134.257847 \r\nL 174.960563 133.330368 \r\nL 176.755417 132.138334 \r\nL 178.387102 130.779445 \r\nL 180.018787 129.113085 \r\nL 181.650472 127.093512 \r\nL 183.282156 124.67477 \r\nL 184.913841 121.812692 \r\nL 186.545526 118.467288 \r\nL 188.177211 114.605495 \r\nL 189.972065 109.733818 \r\nL 191.766918 104.197078 \r\nL 193.72494 97.412516 \r\nL 195.846131 89.247632 \r\nL 198.456827 78.224523 \r\nL 202.209702 61.239305 \r\nL 206.452083 42.275258 \r\nL 208.736442 33.113056 \r\nL 210.531295 26.820515 \r\nL 211.999812 22.424523 \r\nL 213.30516 19.173268 \r\nL 214.447339 16.884633 \r\nL 215.42635 15.362585 \r\nL 216.405361 14.263605 \r\nL 217.221204 13.679589 \r\nL 218.037046 13.401979 \r\nL 218.68972 13.401979 \r\nL 219.342394 13.599455 \r\nL 220.158237 14.122466 \r\nL 220.974079 14.948577 \r\nL 221.95309 16.331186 \r\nL 222.932101 18.12656 \r\nL 224.074281 20.717347 \r\nL 225.379629 24.286979 \r\nL 226.848145 29.000684 \r\nL 228.642999 35.615359 \r\nL 230.764189 44.367165 \r\nL 233.864391 58.245076 \r\nL 239.412119 83.161144 \r\nL 241.859647 93.115047 \r\nL 243.980837 100.899673 \r\nL 245.938859 107.299489 \r\nL 247.733713 112.473243 \r\nL 249.528566 116.986089 \r\nL 251.160251 120.534567 \r\nL 252.791936 123.5855 \r\nL 254.423621 126.176453 \r\nL 256.055306 128.35023 \r\nL 257.686991 130.152334 \r\nL 259.318676 131.628806 \r\nL 260.950361 132.824481 \r\nL 262.745215 133.865803 \r\nL 264.703236 134.73293 \r\nL 266.824427 135.421686 \r\nL 269.271954 135.97206 \r\nL 272.208987 136.389278 \r\nL 275.961863 136.67952 \r\nL 281.346423 136.850878 \r\nL 283.467614 136.879593 \r\nL 283.467614 136.879593 \r\n\" style=\"fill:none;stroke:#008000;stroke-dasharray:9.6,2.4,1.5,2.4;stroke-dashoffset:0;stroke-width:1.5;\"/>\r\n   </g>\r\n   <g id=\"patch_3\">\r\n    <path d=\"M 43.78125 143.1 \r\nL 43.78125 7.2 \r\n\" style=\"fill:none;stroke:#000000;stroke-linecap:square;stroke-linejoin:miter;stroke-width:0.8;\"/>\r\n   </g>\r\n   <g id=\"patch_4\">\r\n    <path d=\"M 294.88125 143.1 \r\nL 294.88125 7.2 \r\n\" style=\"fill:none;stroke:#000000;stroke-linecap:square;stroke-linejoin:miter;stroke-width:0.8;\"/>\r\n   </g>\r\n   <g id=\"patch_5\">\r\n    <path d=\"M 43.78125 143.1 \r\nL 294.88125 143.1 \r\n\" style=\"fill:none;stroke:#000000;stroke-linecap:square;stroke-linejoin:miter;stroke-width:0.8;\"/>\r\n   </g>\r\n   <g id=\"patch_6\">\r\n    <path d=\"M 43.78125 7.2 \r\nL 294.88125 7.2 \r\n\" style=\"fill:none;stroke:#000000;stroke-linecap:square;stroke-linejoin:miter;stroke-width:0.8;\"/>\r\n   </g>\r\n   <g id=\"legend_1\">\r\n    <g id=\"patch_7\">\r\n     <path d=\"M 50.78125 59.234375 \r\nL 152.05625 59.234375 \r\nQ 154.05625 59.234375 154.05625 57.234375 \r\nL 154.05625 14.2 \r\nQ 154.05625 12.2 152.05625 12.2 \r\nL 50.78125 12.2 \r\nQ 48.78125 12.2 48.78125 14.2 \r\nL 48.78125 57.234375 \r\nQ 48.78125 59.234375 50.78125 59.234375 \r\nz\r\n\" style=\"fill:#ffffff;opacity:0.8;stroke:#cccccc;stroke-linejoin:miter;\"/>\r\n    </g>\r\n    <g id=\"line2d_28\">\r\n     <path d=\"M 52.78125 20.298438 \r\nL 72.78125 20.298438 \r\n\" style=\"fill:none;stroke:#1f77b4;stroke-linecap:square;stroke-width:1.5;\"/>\r\n    </g>\r\n    <g id=\"line2d_29\"/>\r\n    <g id=\"text_15\">\r\n     <!-- mean 0, std 1 -->\r\n     <g transform=\"translate(80.78125 23.798438)scale(0.1 -0.1)\">\r\n      <defs>\r\n       <path d=\"M 3328 2828 \r\nQ 3544 3216 3844 3400 \r\nQ 4144 3584 4550 3584 \r\nQ 5097 3584 5394 3201 \r\nQ 5691 2819 5691 2113 \r\nL 5691 0 \r\nL 5113 0 \r\nL 5113 2094 \r\nQ 5113 2597 4934 2840 \r\nQ 4756 3084 4391 3084 \r\nQ 3944 3084 3684 2787 \r\nQ 3425 2491 3425 1978 \r\nL 3425 0 \r\nL 2847 0 \r\nL 2847 2094 \r\nQ 2847 2600 2669 2842 \r\nQ 2491 3084 2119 3084 \r\nQ 1678 3084 1418 2786 \r\nQ 1159 2488 1159 1978 \r\nL 1159 0 \r\nL 581 0 \r\nL 581 3500 \r\nL 1159 3500 \r\nL 1159 2956 \r\nQ 1356 3278 1631 3431 \r\nQ 1906 3584 2284 3584 \r\nQ 2666 3584 2933 3390 \r\nQ 3200 3197 3328 2828 \r\nz\r\n\" id=\"DejaVuSans-6d\" transform=\"scale(0.015625)\"/>\r\n       <path d=\"M 3597 1894 \r\nL 3597 1613 \r\nL 953 1613 \r\nQ 991 1019 1311 708 \r\nQ 1631 397 2203 397 \r\nQ 2534 397 2845 478 \r\nQ 3156 559 3463 722 \r\nL 3463 178 \r\nQ 3153 47 2828 -22 \r\nQ 2503 -91 2169 -91 \r\nQ 1331 -91 842 396 \r\nQ 353 884 353 1716 \r\nQ 353 2575 817 3079 \r\nQ 1281 3584 2069 3584 \r\nQ 2775 3584 3186 3129 \r\nQ 3597 2675 3597 1894 \r\nz\r\nM 3022 2063 \r\nQ 3016 2534 2758 2815 \r\nQ 2500 3097 2075 3097 \r\nQ 1594 3097 1305 2825 \r\nQ 1016 2553 972 2059 \r\nL 3022 2063 \r\nz\r\n\" id=\"DejaVuSans-65\" transform=\"scale(0.015625)\"/>\r\n       <path d=\"M 2194 1759 \r\nQ 1497 1759 1228 1600 \r\nQ 959 1441 959 1056 \r\nQ 959 750 1161 570 \r\nQ 1363 391 1709 391 \r\nQ 2188 391 2477 730 \r\nQ 2766 1069 2766 1631 \r\nL 2766 1759 \r\nL 2194 1759 \r\nz\r\nM 3341 1997 \r\nL 3341 0 \r\nL 2766 0 \r\nL 2766 531 \r\nQ 2569 213 2275 61 \r\nQ 1981 -91 1556 -91 \r\nQ 1019 -91 701 211 \r\nQ 384 513 384 1019 \r\nQ 384 1609 779 1909 \r\nQ 1175 2209 1959 2209 \r\nL 2766 2209 \r\nL 2766 2266 \r\nQ 2766 2663 2505 2880 \r\nQ 2244 3097 1772 3097 \r\nQ 1472 3097 1187 3025 \r\nQ 903 2953 641 2809 \r\nL 641 3341 \r\nQ 956 3463 1253 3523 \r\nQ 1550 3584 1831 3584 \r\nQ 2591 3584 2966 3190 \r\nQ 3341 2797 3341 1997 \r\nz\r\n\" id=\"DejaVuSans-61\" transform=\"scale(0.015625)\"/>\r\n       <path d=\"M 3513 2113 \r\nL 3513 0 \r\nL 2938 0 \r\nL 2938 2094 \r\nQ 2938 2591 2744 2837 \r\nQ 2550 3084 2163 3084 \r\nQ 1697 3084 1428 2787 \r\nQ 1159 2491 1159 1978 \r\nL 1159 0 \r\nL 581 0 \r\nL 581 3500 \r\nL 1159 3500 \r\nL 1159 2956 \r\nQ 1366 3272 1645 3428 \r\nQ 1925 3584 2291 3584 \r\nQ 2894 3584 3203 3211 \r\nQ 3513 2838 3513 2113 \r\nz\r\n\" id=\"DejaVuSans-6e\" transform=\"scale(0.015625)\"/>\r\n       <path id=\"DejaVuSans-20\" transform=\"scale(0.015625)\"/>\r\n       <path d=\"M 750 794 \r\nL 1409 794 \r\nL 1409 256 \r\nL 897 -744 \r\nL 494 -744 \r\nL 750 256 \r\nL 750 794 \r\nz\r\n\" id=\"DejaVuSans-2c\" transform=\"scale(0.015625)\"/>\r\n       <path d=\"M 2834 3397 \r\nL 2834 2853 \r\nQ 2591 2978 2328 3040 \r\nQ 2066 3103 1784 3103 \r\nQ 1356 3103 1142 2972 \r\nQ 928 2841 928 2578 \r\nQ 928 2378 1081 2264 \r\nQ 1234 2150 1697 2047 \r\nL 1894 2003 \r\nQ 2506 1872 2764 1633 \r\nQ 3022 1394 3022 966 \r\nQ 3022 478 2636 193 \r\nQ 2250 -91 1575 -91 \r\nQ 1294 -91 989 -36 \r\nQ 684 19 347 128 \r\nL 347 722 \r\nQ 666 556 975 473 \r\nQ 1284 391 1588 391 \r\nQ 1994 391 2212 530 \r\nQ 2431 669 2431 922 \r\nQ 2431 1156 2273 1281 \r\nQ 2116 1406 1581 1522 \r\nL 1381 1569 \r\nQ 847 1681 609 1914 \r\nQ 372 2147 372 2553 \r\nQ 372 3047 722 3315 \r\nQ 1072 3584 1716 3584 \r\nQ 2034 3584 2315 3537 \r\nQ 2597 3491 2834 3397 \r\nz\r\n\" id=\"DejaVuSans-73\" transform=\"scale(0.015625)\"/>\r\n       <path d=\"M 1172 4494 \r\nL 1172 3500 \r\nL 2356 3500 \r\nL 2356 3053 \r\nL 1172 3053 \r\nL 1172 1153 \r\nQ 1172 725 1289 603 \r\nQ 1406 481 1766 481 \r\nL 2356 481 \r\nL 2356 0 \r\nL 1766 0 \r\nQ 1100 0 847 248 \r\nQ 594 497 594 1153 \r\nL 594 3053 \r\nL 172 3053 \r\nL 172 3500 \r\nL 594 3500 \r\nL 594 4494 \r\nL 1172 4494 \r\nz\r\n\" id=\"DejaVuSans-74\" transform=\"scale(0.015625)\"/>\r\n       <path d=\"M 2906 2969 \r\nL 2906 4863 \r\nL 3481 4863 \r\nL 3481 0 \r\nL 2906 0 \r\nL 2906 525 \r\nQ 2725 213 2448 61 \r\nQ 2172 -91 1784 -91 \r\nQ 1150 -91 751 415 \r\nQ 353 922 353 1747 \r\nQ 353 2572 751 3078 \r\nQ 1150 3584 1784 3584 \r\nQ 2172 3584 2448 3432 \r\nQ 2725 3281 2906 2969 \r\nz\r\nM 947 1747 \r\nQ 947 1113 1208 752 \r\nQ 1469 391 1925 391 \r\nQ 2381 391 2643 752 \r\nQ 2906 1113 2906 1747 \r\nQ 2906 2381 2643 2742 \r\nQ 2381 3103 1925 3103 \r\nQ 1469 3103 1208 2742 \r\nQ 947 2381 947 1747 \r\nz\r\n\" id=\"DejaVuSans-64\" transform=\"scale(0.015625)\"/>\r\n      </defs>\r\n      <use xlink:href=\"#DejaVuSans-6d\"/>\r\n      <use x=\"97.412109\" xlink:href=\"#DejaVuSans-65\"/>\r\n      <use x=\"158.935547\" xlink:href=\"#DejaVuSans-61\"/>\r\n      <use x=\"220.214844\" xlink:href=\"#DejaVuSans-6e\"/>\r\n      <use x=\"283.59375\" xlink:href=\"#DejaVuSans-20\"/>\r\n      <use x=\"315.380859\" xlink:href=\"#DejaVuSans-30\"/>\r\n      <use x=\"379.003906\" xlink:href=\"#DejaVuSans-2c\"/>\r\n      <use x=\"410.791016\" xlink:href=\"#DejaVuSans-20\"/>\r\n      <use x=\"442.578125\" xlink:href=\"#DejaVuSans-73\"/>\r\n      <use x=\"494.677734\" xlink:href=\"#DejaVuSans-74\"/>\r\n      <use x=\"533.886719\" xlink:href=\"#DejaVuSans-64\"/>\r\n      <use x=\"597.363281\" xlink:href=\"#DejaVuSans-20\"/>\r\n      <use x=\"629.150391\" xlink:href=\"#DejaVuSans-31\"/>\r\n     </g>\r\n    </g>\r\n    <g id=\"line2d_30\">\r\n     <path d=\"M 52.78125 34.976562 \r\nL 72.78125 34.976562 \r\n\" style=\"fill:none;stroke:#bf00bf;stroke-dasharray:5.55,2.4;stroke-dashoffset:0;stroke-width:1.5;\"/>\r\n    </g>\r\n    <g id=\"line2d_31\"/>\r\n    <g id=\"text_16\">\r\n     <!-- mean 0, std 2 -->\r\n     <g transform=\"translate(80.78125 38.476562)scale(0.1 -0.1)\">\r\n      <use xlink:href=\"#DejaVuSans-6d\"/>\r\n      <use x=\"97.412109\" xlink:href=\"#DejaVuSans-65\"/>\r\n      <use x=\"158.935547\" xlink:href=\"#DejaVuSans-61\"/>\r\n      <use x=\"220.214844\" xlink:href=\"#DejaVuSans-6e\"/>\r\n      <use x=\"283.59375\" xlink:href=\"#DejaVuSans-20\"/>\r\n      <use x=\"315.380859\" xlink:href=\"#DejaVuSans-30\"/>\r\n      <use x=\"379.003906\" xlink:href=\"#DejaVuSans-2c\"/>\r\n      <use x=\"410.791016\" xlink:href=\"#DejaVuSans-20\"/>\r\n      <use x=\"442.578125\" xlink:href=\"#DejaVuSans-73\"/>\r\n      <use x=\"494.677734\" xlink:href=\"#DejaVuSans-74\"/>\r\n      <use x=\"533.886719\" xlink:href=\"#DejaVuSans-64\"/>\r\n      <use x=\"597.363281\" xlink:href=\"#DejaVuSans-20\"/>\r\n      <use x=\"629.150391\" xlink:href=\"#DejaVuSans-32\"/>\r\n     </g>\r\n    </g>\r\n    <g id=\"line2d_32\">\r\n     <path d=\"M 52.78125 49.654688 \r\nL 72.78125 49.654688 \r\n\" style=\"fill:none;stroke:#008000;stroke-dasharray:9.6,2.4,1.5,2.4;stroke-dashoffset:0;stroke-width:1.5;\"/>\r\n    </g>\r\n    <g id=\"line2d_33\"/>\r\n    <g id=\"text_17\">\r\n     <!-- mean 3, std 1 -->\r\n     <g transform=\"translate(80.78125 53.154688)scale(0.1 -0.1)\">\r\n      <use xlink:href=\"#DejaVuSans-6d\"/>\r\n      <use x=\"97.412109\" xlink:href=\"#DejaVuSans-65\"/>\r\n      <use x=\"158.935547\" xlink:href=\"#DejaVuSans-61\"/>\r\n      <use x=\"220.214844\" xlink:href=\"#DejaVuSans-6e\"/>\r\n      <use x=\"283.59375\" xlink:href=\"#DejaVuSans-20\"/>\r\n      <use x=\"315.380859\" xlink:href=\"#DejaVuSans-33\"/>\r\n      <use x=\"379.003906\" xlink:href=\"#DejaVuSans-2c\"/>\r\n      <use x=\"410.791016\" xlink:href=\"#DejaVuSans-20\"/>\r\n      <use x=\"442.578125\" xlink:href=\"#DejaVuSans-73\"/>\r\n      <use x=\"494.677734\" xlink:href=\"#DejaVuSans-74\"/>\r\n      <use x=\"533.886719\" xlink:href=\"#DejaVuSans-64\"/>\r\n      <use x=\"597.363281\" xlink:href=\"#DejaVuSans-20\"/>\r\n      <use x=\"629.150391\" xlink:href=\"#DejaVuSans-31\"/>\r\n     </g>\r\n    </g>\r\n   </g>\r\n  </g>\r\n </g>\r\n <defs>\r\n  <clipPath id=\"pba1117fbc4\">\r\n   <rect height=\"135.9\" width=\"251.1\" x=\"43.78125\" y=\"7.2\"/>\r\n  </clipPath>\r\n </defs>\r\n</svg>\r\n",
      "text/plain": [
       "<Figure size 324x180 with 1 Axes>"
      ]
     },
     "metadata": {
      "needs_background": "light"
     },
     "output_type": "display_data"
    }
   ],
   "source": [
    "# Use NumPy again for visualization\n",
    "x = np.arange(-7, 7, 0.01)\n",
    "\n",
    "# Mean and standard deviation pairs\n",
    "params = [(0, 1), (0, 2), (3, 1)]\n",
    "d2l.plot(x, [normal(x, mu, sigma) for mu, sigma in params], xlabel='x',\n",
    "         ylabel='p(x)', figsize=(4.5, 2.5),\n",
    "         legend=[f'mean {mu}, std {sigma}' for mu, sigma in params])"
   ]
  },
  {
   "cell_type": "code",
   "execution_count": 38,
   "metadata": {},
   "outputs": [],
   "source": [
    "def add_to_class(Class): #@save\n",
    "    \"\"\"Register finctions as methods in created class.\"\"\"\n",
    "    def wrapper (obj):\n",
    "        setattr(Class, obj.__name__, obj)\n",
    "    return wrapper    "
   ]
  },
  {
   "cell_type": "code",
   "execution_count": 39,
   "metadata": {},
   "outputs": [],
   "source": [
    "class A:\n",
    "    def __init__(self):\n",
    "        self.b = 1\n",
    "\n",
    "a = A()"
   ]
  },
  {
   "cell_type": "code",
   "execution_count": 40,
   "metadata": {},
   "outputs": [
    {
     "name": "stdout",
     "output_type": "stream",
     "text": [
      "Class attribute \"b\" is 1\n"
     ]
    }
   ],
   "source": [
    "@add_to_class(A)\n",
    "def do(self):\n",
    "    print('Class attribute \"b\" is', self.b)\n",
    "\n",
    "a.do()"
   ]
  },
  {
   "cell_type": "code",
   "execution_count": 41,
   "metadata": {},
   "outputs": [],
   "source": [
    "class HyperParameters:  #@save\n",
    "    \"\"\"The base class of hyperparameters.\"\"\"\n",
    "    def save_hyperparameters(self, ignore=[]):\n",
    "        raise NotImplemented"
   ]
  },
  {
   "cell_type": "code",
   "execution_count": 42,
   "metadata": {},
   "outputs": [
    {
     "name": "stdout",
     "output_type": "stream",
     "text": [
      "self.a = 1 self.b = 2\n",
      "There is no self.c = True\n"
     ]
    }
   ],
   "source": [
    "# Call the fully implemented HyperParameters class saved in d2l\n",
    "class B(d2l.HyperParameters):\n",
    "    def __init__(self, a, b, c):\n",
    "        self.save_hyperparameters(ignore=['c'])\n",
    "        print('self.a =', self.a, 'self.b =', self.b)\n",
    "        print('There is no self.c =', not hasattr(self, 'c'))\n",
    "\n",
    "b = B(a=1, b=2, c=3)"
   ]
  },
  {
   "cell_type": "code",
   "execution_count": 43,
   "metadata": {},
   "outputs": [],
   "source": [
    "class ProgressBoard(d2l.HyperParameters):  #@save\n",
    "    \"\"\"The board that plots data points in animation.\"\"\"\n",
    "    def __init__(self, xlabel=None, ylabel=None, xlim=None,\n",
    "                 ylim=None, xscale='linear', yscale='linear',\n",
    "                 ls=['-', '--', '-.', ':'], colors=['C0', 'C1', 'C2', 'C3'],\n",
    "                 fig=None, axes=None, figsize=(3.5, 2.5), display=True):\n",
    "        self.save_hyperparameters()\n",
    "\n",
    "    def draw(self, x, y, label, every_n=1):\n",
    "        raise NotImplemented"
   ]
  },
  {
   "cell_type": "code",
   "execution_count": 44,
   "metadata": {},
   "outputs": [
    {
     "data": {
      "image/svg+xml": "<?xml version=\"1.0\" encoding=\"utf-8\" standalone=\"no\"?>\r\n<!DOCTYPE svg PUBLIC \"-//W3C//DTD SVG 1.1//EN\"\r\n  \"http://www.w3.org/Graphics/SVG/1.1/DTD/svg11.dtd\">\r\n<svg height=\"180.65625pt\" version=\"1.1\" viewBox=\"0 0 241.185572 180.65625\" width=\"241.185572pt\" xmlns=\"http://www.w3.org/2000/svg\" xmlns:xlink=\"http://www.w3.org/1999/xlink\">\r\n <metadata>\r\n  <rdf:RDF xmlns:cc=\"http://creativecommons.org/ns#\" xmlns:dc=\"http://purl.org/dc/elements/1.1/\" xmlns:rdf=\"http://www.w3.org/1999/02/22-rdf-syntax-ns#\">\r\n   <cc:Work>\r\n    <dc:type rdf:resource=\"http://purl.org/dc/dcmitype/StillImage\"/>\r\n    <dc:date>2023-04-18T13:34:44.189314</dc:date>\r\n    <dc:format>image/svg+xml</dc:format>\r\n    <dc:creator>\r\n     <cc:Agent>\r\n      <dc:title>Matplotlib v3.4.3, https://matplotlib.org/</dc:title>\r\n     </cc:Agent>\r\n    </dc:creator>\r\n   </cc:Work>\r\n  </rdf:RDF>\r\n </metadata>\r\n <defs>\r\n  <style type=\"text/css\">*{stroke-linecap:butt;stroke-linejoin:round;}</style>\r\n </defs>\r\n <g id=\"figure_1\">\r\n  <g id=\"patch_1\">\r\n   <path d=\"M -0 180.65625 \r\nL 241.185572 180.65625 \r\nL 241.185572 0 \r\nL -0 0 \r\nz\r\n\" style=\"fill:none;\"/>\r\n  </g>\r\n  <g id=\"axes_1\">\r\n   <g id=\"patch_2\">\r\n    <path d=\"M 38.482813 143.1 \r\nL 233.782813 143.1 \r\nL 233.782813 7.2 \r\nL 38.482813 7.2 \r\nz\r\n\" style=\"fill:#ffffff;\"/>\r\n   </g>\r\n   <g id=\"matplotlib.axis_1\">\r\n    <g id=\"xtick_1\">\r\n     <g id=\"line2d_1\">\r\n      <defs>\r\n       <path d=\"M 0 0 \r\nL 0 3.5 \r\n\" id=\"m044fd86be3\" style=\"stroke:#000000;stroke-width:0.8;\"/>\r\n      </defs>\r\n      <g>\r\n       <use style=\"stroke:#000000;stroke-width:0.8;\" x=\"46.454241\" xlink:href=\"#m044fd86be3\" y=\"143.1\"/>\r\n      </g>\r\n     </g>\r\n     <g id=\"text_1\">\r\n      <!-- 0 -->\r\n      <g transform=\"translate(43.272991 157.698438)scale(0.1 -0.1)\">\r\n       <defs>\r\n        <path d=\"M 2034 4250 \r\nQ 1547 4250 1301 3770 \r\nQ 1056 3291 1056 2328 \r\nQ 1056 1369 1301 889 \r\nQ 1547 409 2034 409 \r\nQ 2525 409 2770 889 \r\nQ 3016 1369 3016 2328 \r\nQ 3016 3291 2770 3770 \r\nQ 2525 4250 2034 4250 \r\nz\r\nM 2034 4750 \r\nQ 2819 4750 3233 4129 \r\nQ 3647 3509 3647 2328 \r\nQ 3647 1150 3233 529 \r\nQ 2819 -91 2034 -91 \r\nQ 1250 -91 836 529 \r\nQ 422 1150 422 2328 \r\nQ 422 3509 836 4129 \r\nQ 1250 4750 2034 4750 \r\nz\r\n\" id=\"DejaVuSans-30\" transform=\"scale(0.015625)\"/>\r\n       </defs>\r\n       <use xlink:href=\"#DejaVuSans-30\"/>\r\n      </g>\r\n     </g>\r\n    </g>\r\n    <g id=\"xtick_2\">\r\n     <g id=\"line2d_2\">\r\n      <g>\r\n       <use style=\"stroke:#000000;stroke-width:0.8;\" x=\"82.688007\" xlink:href=\"#m044fd86be3\" y=\"143.1\"/>\r\n      </g>\r\n     </g>\r\n     <g id=\"text_2\">\r\n      <!-- 2 -->\r\n      <g transform=\"translate(79.506757 157.698438)scale(0.1 -0.1)\">\r\n       <defs>\r\n        <path d=\"M 1228 531 \r\nL 3431 531 \r\nL 3431 0 \r\nL 469 0 \r\nL 469 531 \r\nQ 828 903 1448 1529 \r\nQ 2069 2156 2228 2338 \r\nQ 2531 2678 2651 2914 \r\nQ 2772 3150 2772 3378 \r\nQ 2772 3750 2511 3984 \r\nQ 2250 4219 1831 4219 \r\nQ 1534 4219 1204 4116 \r\nQ 875 4013 500 3803 \r\nL 500 4441 \r\nQ 881 4594 1212 4672 \r\nQ 1544 4750 1819 4750 \r\nQ 2544 4750 2975 4387 \r\nQ 3406 4025 3406 3419 \r\nQ 3406 3131 3298 2873 \r\nQ 3191 2616 2906 2266 \r\nQ 2828 2175 2409 1742 \r\nQ 1991 1309 1228 531 \r\nz\r\n\" id=\"DejaVuSans-32\" transform=\"scale(0.015625)\"/>\r\n       </defs>\r\n       <use xlink:href=\"#DejaVuSans-32\"/>\r\n      </g>\r\n     </g>\r\n    </g>\r\n    <g id=\"xtick_3\">\r\n     <g id=\"line2d_3\">\r\n      <g>\r\n       <use style=\"stroke:#000000;stroke-width:0.8;\" x=\"118.921774\" xlink:href=\"#m044fd86be3\" y=\"143.1\"/>\r\n      </g>\r\n     </g>\r\n     <g id=\"text_3\">\r\n      <!-- 4 -->\r\n      <g transform=\"translate(115.740524 157.698438)scale(0.1 -0.1)\">\r\n       <defs>\r\n        <path d=\"M 2419 4116 \r\nL 825 1625 \r\nL 2419 1625 \r\nL 2419 4116 \r\nz\r\nM 2253 4666 \r\nL 3047 4666 \r\nL 3047 1625 \r\nL 3713 1625 \r\nL 3713 1100 \r\nL 3047 1100 \r\nL 3047 0 \r\nL 2419 0 \r\nL 2419 1100 \r\nL 313 1100 \r\nL 313 1709 \r\nL 2253 4666 \r\nz\r\n\" id=\"DejaVuSans-34\" transform=\"scale(0.015625)\"/>\r\n       </defs>\r\n       <use xlink:href=\"#DejaVuSans-34\"/>\r\n      </g>\r\n     </g>\r\n    </g>\r\n    <g id=\"xtick_4\">\r\n     <g id=\"line2d_4\">\r\n      <g>\r\n       <use style=\"stroke:#000000;stroke-width:0.8;\" x=\"155.15554\" xlink:href=\"#m044fd86be3\" y=\"143.1\"/>\r\n      </g>\r\n     </g>\r\n     <g id=\"text_4\">\r\n      <!-- 6 -->\r\n      <g transform=\"translate(151.97429 157.698438)scale(0.1 -0.1)\">\r\n       <defs>\r\n        <path d=\"M 2113 2584 \r\nQ 1688 2584 1439 2293 \r\nQ 1191 2003 1191 1497 \r\nQ 1191 994 1439 701 \r\nQ 1688 409 2113 409 \r\nQ 2538 409 2786 701 \r\nQ 3034 994 3034 1497 \r\nQ 3034 2003 2786 2293 \r\nQ 2538 2584 2113 2584 \r\nz\r\nM 3366 4563 \r\nL 3366 3988 \r\nQ 3128 4100 2886 4159 \r\nQ 2644 4219 2406 4219 \r\nQ 1781 4219 1451 3797 \r\nQ 1122 3375 1075 2522 \r\nQ 1259 2794 1537 2939 \r\nQ 1816 3084 2150 3084 \r\nQ 2853 3084 3261 2657 \r\nQ 3669 2231 3669 1497 \r\nQ 3669 778 3244 343 \r\nQ 2819 -91 2113 -91 \r\nQ 1303 -91 875 529 \r\nQ 447 1150 447 2328 \r\nQ 447 3434 972 4092 \r\nQ 1497 4750 2381 4750 \r\nQ 2619 4750 2861 4703 \r\nQ 3103 4656 3366 4563 \r\nz\r\n\" id=\"DejaVuSans-36\" transform=\"scale(0.015625)\"/>\r\n       </defs>\r\n       <use xlink:href=\"#DejaVuSans-36\"/>\r\n      </g>\r\n     </g>\r\n    </g>\r\n    <g id=\"xtick_5\">\r\n     <g id=\"line2d_5\">\r\n      <g>\r\n       <use style=\"stroke:#000000;stroke-width:0.8;\" x=\"191.389306\" xlink:href=\"#m044fd86be3\" y=\"143.1\"/>\r\n      </g>\r\n     </g>\r\n     <g id=\"text_5\">\r\n      <!-- 8 -->\r\n      <g transform=\"translate(188.208056 157.698438)scale(0.1 -0.1)\">\r\n       <defs>\r\n        <path d=\"M 2034 2216 \r\nQ 1584 2216 1326 1975 \r\nQ 1069 1734 1069 1313 \r\nQ 1069 891 1326 650 \r\nQ 1584 409 2034 409 \r\nQ 2484 409 2743 651 \r\nQ 3003 894 3003 1313 \r\nQ 3003 1734 2745 1975 \r\nQ 2488 2216 2034 2216 \r\nz\r\nM 1403 2484 \r\nQ 997 2584 770 2862 \r\nQ 544 3141 544 3541 \r\nQ 544 4100 942 4425 \r\nQ 1341 4750 2034 4750 \r\nQ 2731 4750 3128 4425 \r\nQ 3525 4100 3525 3541 \r\nQ 3525 3141 3298 2862 \r\nQ 3072 2584 2669 2484 \r\nQ 3125 2378 3379 2068 \r\nQ 3634 1759 3634 1313 \r\nQ 3634 634 3220 271 \r\nQ 2806 -91 2034 -91 \r\nQ 1263 -91 848 271 \r\nQ 434 634 434 1313 \r\nQ 434 1759 690 2068 \r\nQ 947 2378 1403 2484 \r\nz\r\nM 1172 3481 \r\nQ 1172 3119 1398 2916 \r\nQ 1625 2713 2034 2713 \r\nQ 2441 2713 2670 2916 \r\nQ 2900 3119 2900 3481 \r\nQ 2900 3844 2670 4047 \r\nQ 2441 4250 2034 4250 \r\nQ 1625 4250 1398 4047 \r\nQ 1172 3844 1172 3481 \r\nz\r\n\" id=\"DejaVuSans-38\" transform=\"scale(0.015625)\"/>\r\n       </defs>\r\n       <use xlink:href=\"#DejaVuSans-38\"/>\r\n      </g>\r\n     </g>\r\n    </g>\r\n    <g id=\"xtick_6\">\r\n     <g id=\"line2d_6\">\r\n      <g>\r\n       <use style=\"stroke:#000000;stroke-width:0.8;\" x=\"227.623072\" xlink:href=\"#m044fd86be3\" y=\"143.1\"/>\r\n      </g>\r\n     </g>\r\n     <g id=\"text_6\">\r\n      <!-- 10 -->\r\n      <g transform=\"translate(221.260572 157.698438)scale(0.1 -0.1)\">\r\n       <defs>\r\n        <path d=\"M 794 531 \r\nL 1825 531 \r\nL 1825 4091 \r\nL 703 3866 \r\nL 703 4441 \r\nL 1819 4666 \r\nL 2450 4666 \r\nL 2450 531 \r\nL 3481 531 \r\nL 3481 0 \r\nL 794 0 \r\nL 794 531 \r\nz\r\n\" id=\"DejaVuSans-31\" transform=\"scale(0.015625)\"/>\r\n       </defs>\r\n       <use xlink:href=\"#DejaVuSans-31\"/>\r\n       <use x=\"63.623047\" xlink:href=\"#DejaVuSans-30\"/>\r\n      </g>\r\n     </g>\r\n    </g>\r\n    <g id=\"text_7\">\r\n     <!-- x -->\r\n     <g transform=\"translate(133.173438 171.376563)scale(0.1 -0.1)\">\r\n      <defs>\r\n       <path d=\"M 3513 3500 \r\nL 2247 1797 \r\nL 3578 0 \r\nL 2900 0 \r\nL 1881 1375 \r\nL 863 0 \r\nL 184 0 \r\nL 1544 1831 \r\nL 300 3500 \r\nL 978 3500 \r\nL 1906 2253 \r\nL 2834 3500 \r\nL 3513 3500 \r\nz\r\n\" id=\"DejaVuSans-78\" transform=\"scale(0.015625)\"/>\r\n      </defs>\r\n      <use xlink:href=\"#DejaVuSans-78\"/>\r\n     </g>\r\n    </g>\r\n   </g>\r\n   <g id=\"matplotlib.axis_2\">\r\n    <g id=\"ytick_1\">\r\n     <g id=\"line2d_7\">\r\n      <defs>\r\n       <path d=\"M 0 0 \r\nL -3.5 0 \r\n\" id=\"m1e7906a9b2\" style=\"stroke:#000000;stroke-width:0.8;\"/>\r\n      </defs>\r\n      <g>\r\n       <use style=\"stroke:#000000;stroke-width:0.8;\" x=\"38.482813\" xlink:href=\"#m1e7906a9b2\" y=\"137.120399\"/>\r\n      </g>\r\n     </g>\r\n     <g id=\"text_8\">\r\n      <!-- −1.0 -->\r\n      <g transform=\"translate(7.2 140.919618)scale(0.1 -0.1)\">\r\n       <defs>\r\n        <path d=\"M 678 2272 \r\nL 4684 2272 \r\nL 4684 1741 \r\nL 678 1741 \r\nL 678 2272 \r\nz\r\n\" id=\"DejaVuSans-2212\" transform=\"scale(0.015625)\"/>\r\n        <path d=\"M 684 794 \r\nL 1344 794 \r\nL 1344 0 \r\nL 684 0 \r\nL 684 794 \r\nz\r\n\" id=\"DejaVuSans-2e\" transform=\"scale(0.015625)\"/>\r\n       </defs>\r\n       <use xlink:href=\"#DejaVuSans-2212\"/>\r\n       <use x=\"83.789062\" xlink:href=\"#DejaVuSans-31\"/>\r\n       <use x=\"147.412109\" xlink:href=\"#DejaVuSans-2e\"/>\r\n       <use x=\"179.199219\" xlink:href=\"#DejaVuSans-30\"/>\r\n      </g>\r\n     </g>\r\n    </g>\r\n    <g id=\"ytick_2\">\r\n     <g id=\"line2d_8\">\r\n      <g>\r\n       <use style=\"stroke:#000000;stroke-width:0.8;\" x=\"38.482813\" xlink:href=\"#m1e7906a9b2\" y=\"106.165152\"/>\r\n      </g>\r\n     </g>\r\n     <g id=\"text_9\">\r\n      <!-- −0.5 -->\r\n      <g transform=\"translate(7.2 109.964371)scale(0.1 -0.1)\">\r\n       <defs>\r\n        <path d=\"M 691 4666 \r\nL 3169 4666 \r\nL 3169 4134 \r\nL 1269 4134 \r\nL 1269 2991 \r\nQ 1406 3038 1543 3061 \r\nQ 1681 3084 1819 3084 \r\nQ 2600 3084 3056 2656 \r\nQ 3513 2228 3513 1497 \r\nQ 3513 744 3044 326 \r\nQ 2575 -91 1722 -91 \r\nQ 1428 -91 1123 -41 \r\nQ 819 9 494 109 \r\nL 494 744 \r\nQ 775 591 1075 516 \r\nQ 1375 441 1709 441 \r\nQ 2250 441 2565 725 \r\nQ 2881 1009 2881 1497 \r\nQ 2881 1984 2565 2268 \r\nQ 2250 2553 1709 2553 \r\nQ 1456 2553 1204 2497 \r\nQ 953 2441 691 2322 \r\nL 691 4666 \r\nz\r\n\" id=\"DejaVuSans-35\" transform=\"scale(0.015625)\"/>\r\n       </defs>\r\n       <use xlink:href=\"#DejaVuSans-2212\"/>\r\n       <use x=\"83.789062\" xlink:href=\"#DejaVuSans-30\"/>\r\n       <use x=\"147.412109\" xlink:href=\"#DejaVuSans-2e\"/>\r\n       <use x=\"179.199219\" xlink:href=\"#DejaVuSans-35\"/>\r\n      </g>\r\n     </g>\r\n    </g>\r\n    <g id=\"ytick_3\">\r\n     <g id=\"line2d_9\">\r\n      <g>\r\n       <use style=\"stroke:#000000;stroke-width:0.8;\" x=\"38.482813\" xlink:href=\"#m1e7906a9b2\" y=\"75.209905\"/>\r\n      </g>\r\n     </g>\r\n     <g id=\"text_10\">\r\n      <!-- 0.0 -->\r\n      <g transform=\"translate(15.579688 79.009124)scale(0.1 -0.1)\">\r\n       <use xlink:href=\"#DejaVuSans-30\"/>\r\n       <use x=\"63.623047\" xlink:href=\"#DejaVuSans-2e\"/>\r\n       <use x=\"95.410156\" xlink:href=\"#DejaVuSans-30\"/>\r\n      </g>\r\n     </g>\r\n    </g>\r\n    <g id=\"ytick_4\">\r\n     <g id=\"line2d_10\">\r\n      <g>\r\n       <use style=\"stroke:#000000;stroke-width:0.8;\" x=\"38.482813\" xlink:href=\"#m1e7906a9b2\" y=\"44.254658\"/>\r\n      </g>\r\n     </g>\r\n     <g id=\"text_11\">\r\n      <!-- 0.5 -->\r\n      <g transform=\"translate(15.579688 48.053877)scale(0.1 -0.1)\">\r\n       <use xlink:href=\"#DejaVuSans-30\"/>\r\n       <use x=\"63.623047\" xlink:href=\"#DejaVuSans-2e\"/>\r\n       <use x=\"95.410156\" xlink:href=\"#DejaVuSans-35\"/>\r\n      </g>\r\n     </g>\r\n    </g>\r\n    <g id=\"ytick_5\">\r\n     <g id=\"line2d_11\">\r\n      <g>\r\n       <use style=\"stroke:#000000;stroke-width:0.8;\" x=\"38.482813\" xlink:href=\"#m1e7906a9b2\" y=\"13.299411\"/>\r\n      </g>\r\n     </g>\r\n     <g id=\"text_12\">\r\n      <!-- 1.0 -->\r\n      <g transform=\"translate(15.579688 17.098629)scale(0.1 -0.1)\">\r\n       <use xlink:href=\"#DejaVuSans-31\"/>\r\n       <use x=\"63.623047\" xlink:href=\"#DejaVuSans-2e\"/>\r\n       <use x=\"95.410156\" xlink:href=\"#DejaVuSans-30\"/>\r\n      </g>\r\n     </g>\r\n    </g>\r\n   </g>\r\n   <g id=\"line2d_12\">\r\n    <path clip-path=\"url(#p72b5b8e2a2)\" d=\"M 47.360085 72.119537 \r\n\" style=\"fill:none;stroke:#1f77b4;stroke-linecap:square;stroke-width:1.5;\"/>\r\n   </g>\r\n   <g id=\"line2d_13\"/>\r\n   <g id=\"line2d_14\">\r\n    <path clip-path=\"url(#p72b5b8e2a2)\" d=\"M 47.360085 72.119537 \r\nL 50.983462 59.912146 \r\n\" style=\"fill:none;stroke:#1f77b4;stroke-linecap:square;stroke-width:1.5;\"/>\r\n   </g>\r\n   <g id=\"line2d_15\"/>\r\n   <g id=\"line2d_16\">\r\n    <path clip-path=\"url(#p72b5b8e2a2)\" d=\"M 47.360085 72.119537 \r\nL 50.983462 59.912146 \r\nL 54.606838 48.314628 \r\n\" style=\"fill:none;stroke:#1f77b4;stroke-linecap:square;stroke-width:1.5;\"/>\r\n   </g>\r\n   <g id=\"line2d_17\"/>\r\n   <g id=\"line2d_18\">\r\n    <path clip-path=\"url(#p72b5b8e2a2)\" d=\"M 47.360085 72.119537 \r\nL 50.983462 59.912146 \r\nL 54.606838 48.314628 \r\nL 58.230215 37.78934 \r\n\" style=\"fill:none;stroke:#1f77b4;stroke-linecap:square;stroke-width:1.5;\"/>\r\n   </g>\r\n   <g id=\"line2d_19\"/>\r\n   <g id=\"line2d_20\">\r\n    <path clip-path=\"url(#p72b5b8e2a2)\" d=\"M 47.360085 72.119537 \r\nL 50.983462 59.912146 \r\nL 54.606838 48.314628 \r\nL 58.230215 37.78934 \r\nL 61.853592 28.755892 \r\n\" style=\"fill:none;stroke:#1f77b4;stroke-linecap:square;stroke-width:1.5;\"/>\r\n   </g>\r\n   <g id=\"line2d_21\"/>\r\n   <g id=\"line2d_22\">\r\n    <path clip-path=\"url(#p72b5b8e2a2)\" d=\"M 47.360085 72.119537 \r\nL 50.983462 59.912146 \r\nL 54.606838 48.314628 \r\nL 58.230215 37.78934 \r\nL 61.853592 28.755892 \r\n\" style=\"fill:none;stroke:#1f77b4;stroke-linecap:square;stroke-width:1.5;\"/>\r\n   </g>\r\n   <g id=\"line2d_23\">\r\n    <path clip-path=\"url(#p72b5b8e2a2)\" d=\"M 54.606838 21.734435 \r\n\" style=\"fill:none;stroke:#ff7f0e;stroke-dasharray:5.55,2.4;stroke-dashoffset:0;stroke-width:1.5;\"/>\r\n   </g>\r\n   <g id=\"line2d_24\">\r\n    <path clip-path=\"url(#p72b5b8e2a2)\" d=\"M 47.360085 72.119537 \r\nL 50.983462 59.912146 \r\nL 54.606838 48.314628 \r\nL 58.230215 37.78934 \r\nL 61.853592 28.755892 \r\nL 65.476968 21.574419 \r\n\" style=\"fill:none;stroke:#1f77b4;stroke-linecap:square;stroke-width:1.5;\"/>\r\n   </g>\r\n   <g id=\"line2d_25\">\r\n    <path clip-path=\"url(#p72b5b8e2a2)\" d=\"M 54.606838 21.734435 \r\n\" style=\"fill:none;stroke:#ff7f0e;stroke-dasharray:5.55,2.4;stroke-dashoffset:0;stroke-width:1.5;\"/>\r\n   </g>\r\n   <g id=\"line2d_26\">\r\n    <path clip-path=\"url(#p72b5b8e2a2)\" d=\"M 47.360085 72.119537 \r\nL 50.983462 59.912146 \r\nL 54.606838 48.314628 \r\nL 58.230215 37.78934 \r\nL 61.853592 28.755892 \r\nL 65.476968 21.574419 \r\nL 69.100345 16.531223 \r\n\" style=\"fill:none;stroke:#1f77b4;stroke-linecap:square;stroke-width:1.5;\"/>\r\n   </g>\r\n   <g id=\"line2d_27\">\r\n    <path clip-path=\"url(#p72b5b8e2a2)\" d=\"M 54.606838 21.734435 \r\n\" style=\"fill:none;stroke:#ff7f0e;stroke-dasharray:5.55,2.4;stroke-dashoffset:0;stroke-width:1.5;\"/>\r\n   </g>\r\n   <g id=\"line2d_28\">\r\n    <path clip-path=\"url(#p72b5b8e2a2)\" d=\"M 47.360085 72.119537 \r\nL 50.983462 59.912146 \r\nL 54.606838 48.314628 \r\nL 58.230215 37.78934 \r\nL 61.853592 28.755892 \r\nL 65.476968 21.574419 \r\nL 69.100345 16.531223 \r\nL 72.723722 13.827361 \r\n\" style=\"fill:none;stroke:#1f77b4;stroke-linecap:square;stroke-width:1.5;\"/>\r\n   </g>\r\n   <g id=\"line2d_29\">\r\n    <path clip-path=\"url(#p72b5b8e2a2)\" d=\"M 54.606838 21.734435 \r\n\" style=\"fill:none;stroke:#ff7f0e;stroke-dasharray:5.55,2.4;stroke-dashoffset:0;stroke-width:1.5;\"/>\r\n   </g>\r\n   <g id=\"line2d_30\">\r\n    <path clip-path=\"url(#p72b5b8e2a2)\" d=\"M 47.360085 72.119537 \r\nL 50.983462 59.912146 \r\nL 54.606838 48.314628 \r\nL 58.230215 37.78934 \r\nL 61.853592 28.755892 \r\nL 65.476968 21.574419 \r\nL 69.100345 16.531223 \r\nL 72.723722 13.827361 \r\nL 76.347098 13.570628 \r\n\" style=\"fill:none;stroke:#1f77b4;stroke-linecap:square;stroke-width:1.5;\"/>\r\n   </g>\r\n   <g id=\"line2d_31\">\r\n    <path clip-path=\"url(#p72b5b8e2a2)\" d=\"M 54.606838 21.734435 \r\n\" style=\"fill:none;stroke:#ff7f0e;stroke-dasharray:5.55,2.4;stroke-dashoffset:0;stroke-width:1.5;\"/>\r\n   </g>\r\n   <g id=\"line2d_32\">\r\n    <path clip-path=\"url(#p72b5b8e2a2)\" d=\"M 47.360085 72.119537 \r\nL 50.983462 59.912146 \r\nL 54.606838 48.314628 \r\nL 58.230215 37.78934 \r\nL 61.853592 28.755892 \r\nL 65.476968 21.574419 \r\nL 69.100345 16.531223 \r\nL 72.723722 13.827361 \r\nL 76.347098 13.570628 \r\nL 79.970475 15.771258 \r\n\" style=\"fill:none;stroke:#1f77b4;stroke-linecap:square;stroke-width:1.5;\"/>\r\n   </g>\r\n   <g id=\"line2d_33\">\r\n    <path clip-path=\"url(#p72b5b8e2a2)\" d=\"M 54.606838 21.734435 \r\n\" style=\"fill:none;stroke:#ff7f0e;stroke-dasharray:5.55,2.4;stroke-dashoffset:0;stroke-width:1.5;\"/>\r\n   </g>\r\n   <g id=\"line2d_34\">\r\n    <path clip-path=\"url(#p72b5b8e2a2)\" d=\"M 47.360085 72.119537 \r\nL 50.983462 59.912146 \r\nL 54.606838 48.314628 \r\nL 58.230215 37.78934 \r\nL 61.853592 28.755892 \r\nL 65.476968 21.574419 \r\nL 69.100345 16.531223 \r\nL 72.723722 13.827361 \r\nL 76.347098 13.570628 \r\nL 79.970475 15.771258 \r\n\" style=\"fill:none;stroke:#1f77b4;stroke-linecap:square;stroke-width:1.5;\"/>\r\n   </g>\r\n   <g id=\"line2d_35\">\r\n    <path clip-path=\"url(#p72b5b8e2a2)\" d=\"M 54.606838 21.734435 \r\nL 72.723722 68.053524 \r\n\" style=\"fill:none;stroke:#ff7f0e;stroke-dasharray:5.55,2.4;stroke-dashoffset:0;stroke-width:1.5;\"/>\r\n   </g>\r\n   <g id=\"line2d_36\">\r\n    <path clip-path=\"url(#p72b5b8e2a2)\" d=\"M 47.360085 72.119537 \r\nL 50.983462 59.912146 \r\nL 54.606838 48.314628 \r\nL 58.230215 37.78934 \r\nL 61.853592 28.755892 \r\nL 65.476968 21.574419 \r\nL 69.100345 16.531223 \r\nL 72.723722 13.827361 \r\nL 76.347098 13.570628 \r\nL 79.970475 15.771258 \r\nL 83.593851 20.341519 \r\n\" style=\"fill:none;stroke:#1f77b4;stroke-linecap:square;stroke-width:1.5;\"/>\r\n   </g>\r\n   <g id=\"line2d_37\">\r\n    <path clip-path=\"url(#p72b5b8e2a2)\" d=\"M 54.606838 21.734435 \r\nL 72.723722 68.053524 \r\n\" style=\"fill:none;stroke:#ff7f0e;stroke-dasharray:5.55,2.4;stroke-dashoffset:0;stroke-width:1.5;\"/>\r\n   </g>\r\n   <g id=\"line2d_38\">\r\n    <path clip-path=\"url(#p72b5b8e2a2)\" d=\"M 47.360085 72.119537 \r\nL 50.983462 59.912146 \r\nL 54.606838 48.314628 \r\nL 58.230215 37.78934 \r\nL 61.853592 28.755892 \r\nL 65.476968 21.574419 \r\nL 69.100345 16.531223 \r\nL 72.723722 13.827361 \r\nL 76.347098 13.570628 \r\nL 79.970475 15.771258 \r\nL 83.593851 20.341519 \r\nL 87.217228 27.09921 \r\n\" style=\"fill:none;stroke:#1f77b4;stroke-linecap:square;stroke-width:1.5;\"/>\r\n   </g>\r\n   <g id=\"line2d_39\">\r\n    <path clip-path=\"url(#p72b5b8e2a2)\" d=\"M 54.606838 21.734435 \r\nL 72.723722 68.053524 \r\n\" style=\"fill:none;stroke:#ff7f0e;stroke-dasharray:5.55,2.4;stroke-dashoffset:0;stroke-width:1.5;\"/>\r\n   </g>\r\n   <g id=\"line2d_40\">\r\n    <path clip-path=\"url(#p72b5b8e2a2)\" d=\"M 47.360085 72.119537 \r\nL 50.983462 59.912146 \r\nL 54.606838 48.314628 \r\nL 58.230215 37.78934 \r\nL 61.853592 28.755892 \r\nL 65.476968 21.574419 \r\nL 69.100345 16.531223 \r\nL 72.723722 13.827361 \r\nL 76.347098 13.570628 \r\nL 79.970475 15.771258 \r\nL 83.593851 20.341519 \r\nL 87.217228 27.09921 \r\nL 90.840605 35.774922 \r\n\" style=\"fill:none;stroke:#1f77b4;stroke-linecap:square;stroke-width:1.5;\"/>\r\n   </g>\r\n   <g id=\"line2d_41\">\r\n    <path clip-path=\"url(#p72b5b8e2a2)\" d=\"M 54.606838 21.734435 \r\nL 72.723722 68.053524 \r\n\" style=\"fill:none;stroke:#ff7f0e;stroke-dasharray:5.55,2.4;stroke-dashoffset:0;stroke-width:1.5;\"/>\r\n   </g>\r\n   <g id=\"line2d_42\">\r\n    <path clip-path=\"url(#p72b5b8e2a2)\" d=\"M 47.360085 72.119537 \r\nL 50.983462 59.912146 \r\nL 54.606838 48.314628 \r\nL 58.230215 37.78934 \r\nL 61.853592 28.755892 \r\nL 65.476968 21.574419 \r\nL 69.100345 16.531223 \r\nL 72.723722 13.827361 \r\nL 76.347098 13.570628 \r\nL 79.970475 15.771258 \r\nL 83.593851 20.341519 \r\nL 87.217228 27.09921 \r\nL 90.840605 35.774922 \r\nL 94.463981 46.022783 \r\n\" style=\"fill:none;stroke:#1f77b4;stroke-linecap:square;stroke-width:1.5;\"/>\r\n   </g>\r\n   <g id=\"line2d_43\">\r\n    <path clip-path=\"url(#p72b5b8e2a2)\" d=\"M 54.606838 21.734435 \r\nL 72.723722 68.053524 \r\n\" style=\"fill:none;stroke:#ff7f0e;stroke-dasharray:5.55,2.4;stroke-dashoffset:0;stroke-width:1.5;\"/>\r\n   </g>\r\n   <g id=\"line2d_44\">\r\n    <path clip-path=\"url(#p72b5b8e2a2)\" d=\"M 47.360085 72.119537 \r\nL 50.983462 59.912146 \r\nL 54.606838 48.314628 \r\nL 58.230215 37.78934 \r\nL 61.853592 28.755892 \r\nL 65.476968 21.574419 \r\nL 69.100345 16.531223 \r\nL 72.723722 13.827361 \r\nL 76.347098 13.570628 \r\nL 79.970475 15.771258 \r\nL 83.593851 20.341519 \r\nL 87.217228 27.09921 \r\nL 90.840605 35.774922 \r\nL 94.463981 46.022783 \r\nL 98.087358 57.434242 \r\n\" style=\"fill:none;stroke:#1f77b4;stroke-linecap:square;stroke-width:1.5;\"/>\r\n   </g>\r\n   <g id=\"line2d_45\">\r\n    <path clip-path=\"url(#p72b5b8e2a2)\" d=\"M 54.606838 21.734435 \r\nL 72.723722 68.053524 \r\n\" style=\"fill:none;stroke:#ff7f0e;stroke-dasharray:5.55,2.4;stroke-dashoffset:0;stroke-width:1.5;\"/>\r\n   </g>\r\n   <g id=\"line2d_46\">\r\n    <path clip-path=\"url(#p72b5b8e2a2)\" d=\"M 47.360085 72.119537 \r\nL 50.983462 59.912146 \r\nL 54.606838 48.314628 \r\nL 58.230215 37.78934 \r\nL 61.853592 28.755892 \r\nL 65.476968 21.574419 \r\nL 69.100345 16.531223 \r\nL 72.723722 13.827361 \r\nL 76.347098 13.570628 \r\nL 79.970475 15.771258 \r\nL 83.593851 20.341519 \r\nL 87.217228 27.09921 \r\nL 90.840605 35.774922 \r\nL 94.463981 46.022783 \r\nL 98.087358 57.434242 \r\n\" style=\"fill:none;stroke:#1f77b4;stroke-linecap:square;stroke-width:1.5;\"/>\r\n   </g>\r\n   <g id=\"line2d_47\">\r\n    <path clip-path=\"url(#p72b5b8e2a2)\" d=\"M 54.606838 21.734435 \r\nL 72.723722 68.053524 \r\nL 90.840605 120.952157 \r\n\" style=\"fill:none;stroke:#ff7f0e;stroke-dasharray:5.55,2.4;stroke-dashoffset:0;stroke-width:1.5;\"/>\r\n   </g>\r\n   <g id=\"line2d_48\">\r\n    <path clip-path=\"url(#p72b5b8e2a2)\" d=\"M 47.360085 72.119537 \r\nL 50.983462 59.912146 \r\nL 54.606838 48.314628 \r\nL 58.230215 37.78934 \r\nL 61.853592 28.755892 \r\nL 65.476968 21.574419 \r\nL 69.100345 16.531223 \r\nL 72.723722 13.827361 \r\nL 76.347098 13.570628 \r\nL 79.970475 15.771258 \r\nL 83.593851 20.341519 \r\nL 87.217228 27.09921 \r\nL 90.840605 35.774922 \r\nL 94.463981 46.022783 \r\nL 98.087358 57.434242 \r\nL 101.710735 69.554361 \r\n\" style=\"fill:none;stroke:#1f77b4;stroke-linecap:square;stroke-width:1.5;\"/>\r\n   </g>\r\n   <g id=\"line2d_49\">\r\n    <path clip-path=\"url(#p72b5b8e2a2)\" d=\"M 54.606838 21.734435 \r\nL 72.723722 68.053524 \r\nL 90.840605 120.952157 \r\n\" style=\"fill:none;stroke:#ff7f0e;stroke-dasharray:5.55,2.4;stroke-dashoffset:0;stroke-width:1.5;\"/>\r\n   </g>\r\n   <g id=\"line2d_50\">\r\n    <path clip-path=\"url(#p72b5b8e2a2)\" d=\"M 47.360085 72.119537 \r\nL 50.983462 59.912146 \r\nL 54.606838 48.314628 \r\nL 58.230215 37.78934 \r\nL 61.853592 28.755892 \r\nL 65.476968 21.574419 \r\nL 69.100345 16.531223 \r\nL 72.723722 13.827361 \r\nL 76.347098 13.570628 \r\nL 79.970475 15.771258 \r\nL 83.593851 20.341519 \r\nL 87.217228 27.09921 \r\nL 90.840605 35.774922 \r\nL 94.463981 46.022783 \r\nL 98.087358 57.434242 \r\nL 101.710735 69.554361 \r\nL 105.334111 81.899948 \r\n\" style=\"fill:none;stroke:#1f77b4;stroke-linecap:square;stroke-width:1.5;\"/>\r\n   </g>\r\n   <g id=\"line2d_51\">\r\n    <path clip-path=\"url(#p72b5b8e2a2)\" d=\"M 54.606838 21.734435 \r\nL 72.723722 68.053524 \r\nL 90.840605 120.952157 \r\n\" style=\"fill:none;stroke:#ff7f0e;stroke-dasharray:5.55,2.4;stroke-dashoffset:0;stroke-width:1.5;\"/>\r\n   </g>\r\n   <g id=\"line2d_52\">\r\n    <path clip-path=\"url(#p72b5b8e2a2)\" d=\"M 47.360085 72.119537 \r\nL 50.983462 59.912146 \r\nL 54.606838 48.314628 \r\nL 58.230215 37.78934 \r\nL 61.853592 28.755892 \r\nL 65.476968 21.574419 \r\nL 69.100345 16.531223 \r\nL 72.723722 13.827361 \r\nL 76.347098 13.570628 \r\nL 79.970475 15.771258 \r\nL 83.593851 20.341519 \r\nL 87.217228 27.09921 \r\nL 90.840605 35.774922 \r\nL 94.463981 46.022783 \r\nL 98.087358 57.434242 \r\nL 101.710735 69.554361 \r\nL 105.334111 81.899948 \r\nL 108.957488 93.978825 \r\n\" style=\"fill:none;stroke:#1f77b4;stroke-linecap:square;stroke-width:1.5;\"/>\r\n   </g>\r\n   <g id=\"line2d_53\">\r\n    <path clip-path=\"url(#p72b5b8e2a2)\" d=\"M 54.606838 21.734435 \r\nL 72.723722 68.053524 \r\nL 90.840605 120.952157 \r\n\" style=\"fill:none;stroke:#ff7f0e;stroke-dasharray:5.55,2.4;stroke-dashoffset:0;stroke-width:1.5;\"/>\r\n   </g>\r\n   <g id=\"line2d_54\">\r\n    <path clip-path=\"url(#p72b5b8e2a2)\" d=\"M 47.360085 72.119537 \r\nL 50.983462 59.912146 \r\nL 54.606838 48.314628 \r\nL 58.230215 37.78934 \r\nL 61.853592 28.755892 \r\nL 65.476968 21.574419 \r\nL 69.100345 16.531223 \r\nL 72.723722 13.827361 \r\nL 76.347098 13.570628 \r\nL 79.970475 15.771258 \r\nL 83.593851 20.341519 \r\nL 87.217228 27.09921 \r\nL 90.840605 35.774922 \r\nL 94.463981 46.022783 \r\nL 98.087358 57.434242 \r\nL 101.710735 69.554361 \r\nL 105.334111 81.899948 \r\nL 108.957488 93.978825 \r\nL 112.580864 105.309443 \r\n\" style=\"fill:none;stroke:#1f77b4;stroke-linecap:square;stroke-width:1.5;\"/>\r\n   </g>\r\n   <g id=\"line2d_55\">\r\n    <path clip-path=\"url(#p72b5b8e2a2)\" d=\"M 54.606838 21.734435 \r\nL 72.723722 68.053524 \r\nL 90.840605 120.952157 \r\n\" style=\"fill:none;stroke:#ff7f0e;stroke-dasharray:5.55,2.4;stroke-dashoffset:0;stroke-width:1.5;\"/>\r\n   </g>\r\n   <g id=\"line2d_56\">\r\n    <path clip-path=\"url(#p72b5b8e2a2)\" d=\"M 47.360085 72.119537 \r\nL 50.983462 59.912146 \r\nL 54.606838 48.314628 \r\nL 58.230215 37.78934 \r\nL 61.853592 28.755892 \r\nL 65.476968 21.574419 \r\nL 69.100345 16.531223 \r\nL 72.723722 13.827361 \r\nL 76.347098 13.570628 \r\nL 79.970475 15.771258 \r\nL 83.593851 20.341519 \r\nL 87.217228 27.09921 \r\nL 90.840605 35.774922 \r\nL 94.463981 46.022783 \r\nL 98.087358 57.434242 \r\nL 101.710735 69.554361 \r\nL 105.334111 81.899948 \r\nL 108.957488 93.978825 \r\nL 112.580864 105.309443 \r\nL 116.204241 115.440089 \r\n\" style=\"fill:none;stroke:#1f77b4;stroke-linecap:square;stroke-width:1.5;\"/>\r\n   </g>\r\n   <g id=\"line2d_57\">\r\n    <path clip-path=\"url(#p72b5b8e2a2)\" d=\"M 54.606838 21.734435 \r\nL 72.723722 68.053524 \r\nL 90.840605 120.952157 \r\n\" style=\"fill:none;stroke:#ff7f0e;stroke-dasharray:5.55,2.4;stroke-dashoffset:0;stroke-width:1.5;\"/>\r\n   </g>\r\n   <g id=\"line2d_58\">\r\n    <path clip-path=\"url(#p72b5b8e2a2)\" d=\"M 47.360085 72.119537 \r\nL 50.983462 59.912146 \r\nL 54.606838 48.314628 \r\nL 58.230215 37.78934 \r\nL 61.853592 28.755892 \r\nL 65.476968 21.574419 \r\nL 69.100345 16.531223 \r\nL 72.723722 13.827361 \r\nL 76.347098 13.570628 \r\nL 79.970475 15.771258 \r\nL 83.593851 20.341519 \r\nL 87.217228 27.09921 \r\nL 90.840605 35.774922 \r\nL 94.463981 46.022783 \r\nL 98.087358 57.434242 \r\nL 101.710735 69.554361 \r\nL 105.334111 81.899948 \r\nL 108.957488 93.978825 \r\nL 112.580864 105.309443 \r\nL 116.204241 115.440089 \r\n\" style=\"fill:none;stroke:#1f77b4;stroke-linecap:square;stroke-width:1.5;\"/>\r\n   </g>\r\n   <g id=\"line2d_59\">\r\n    <path clip-path=\"url(#p72b5b8e2a2)\" d=\"M 54.606838 21.734435 \r\nL 72.723722 68.053524 \r\nL 90.840605 120.952157 \r\nL 108.957488 131.795574 \r\n\" style=\"fill:none;stroke:#ff7f0e;stroke-dasharray:5.55,2.4;stroke-dashoffset:0;stroke-width:1.5;\"/>\r\n   </g>\r\n   <g id=\"line2d_60\">\r\n    <path clip-path=\"url(#p72b5b8e2a2)\" d=\"M 47.360085 72.119537 \r\nL 50.983462 59.912146 \r\nL 54.606838 48.314628 \r\nL 58.230215 37.78934 \r\nL 61.853592 28.755892 \r\nL 65.476968 21.574419 \r\nL 69.100345 16.531223 \r\nL 72.723722 13.827361 \r\nL 76.347098 13.570628 \r\nL 79.970475 15.771258 \r\nL 83.593851 20.341519 \r\nL 87.217228 27.09921 \r\nL 90.840605 35.774922 \r\nL 94.463981 46.022783 \r\nL 98.087358 57.434242 \r\nL 101.710735 69.554361 \r\nL 105.334111 81.899948 \r\nL 108.957488 93.978825 \r\nL 112.580864 105.309443 \r\nL 116.204241 115.440089 \r\nL 119.827618 123.966884 \r\n\" style=\"fill:none;stroke:#1f77b4;stroke-linecap:square;stroke-width:1.5;\"/>\r\n   </g>\r\n   <g id=\"line2d_61\">\r\n    <path clip-path=\"url(#p72b5b8e2a2)\" d=\"M 54.606838 21.734435 \r\nL 72.723722 68.053524 \r\nL 90.840605 120.952157 \r\nL 108.957488 131.795574 \r\n\" style=\"fill:none;stroke:#ff7f0e;stroke-dasharray:5.55,2.4;stroke-dashoffset:0;stroke-width:1.5;\"/>\r\n   </g>\r\n   <g id=\"line2d_62\">\r\n    <path clip-path=\"url(#p72b5b8e2a2)\" d=\"M 47.360085 72.119537 \r\nL 50.983462 59.912146 \r\nL 54.606838 48.314628 \r\nL 58.230215 37.78934 \r\nL 61.853592 28.755892 \r\nL 65.476968 21.574419 \r\nL 69.100345 16.531223 \r\nL 72.723722 13.827361 \r\nL 76.347098 13.570628 \r\nL 79.970475 15.771258 \r\nL 83.593851 20.341519 \r\nL 87.217228 27.09921 \r\nL 90.840605 35.774922 \r\nL 94.463981 46.022783 \r\nL 98.087358 57.434242 \r\nL 101.710735 69.554361 \r\nL 105.334111 81.899948 \r\nL 108.957488 93.978825 \r\nL 112.580864 105.309443 \r\nL 116.204241 115.440089 \r\nL 119.827618 123.966884 \r\nL 123.450994 130.549892 \r\n\" style=\"fill:none;stroke:#1f77b4;stroke-linecap:square;stroke-width:1.5;\"/>\r\n   </g>\r\n   <g id=\"line2d_63\">\r\n    <path clip-path=\"url(#p72b5b8e2a2)\" d=\"M 54.606838 21.734435 \r\nL 72.723722 68.053524 \r\nL 90.840605 120.952157 \r\nL 108.957488 131.795574 \r\n\" style=\"fill:none;stroke:#ff7f0e;stroke-dasharray:5.55,2.4;stroke-dashoffset:0;stroke-width:1.5;\"/>\r\n   </g>\r\n   <g id=\"line2d_64\">\r\n    <path clip-path=\"url(#p72b5b8e2a2)\" d=\"M 47.360085 72.119537 \r\nL 50.983462 59.912146 \r\nL 54.606838 48.314628 \r\nL 58.230215 37.78934 \r\nL 61.853592 28.755892 \r\nL 65.476968 21.574419 \r\nL 69.100345 16.531223 \r\nL 72.723722 13.827361 \r\nL 76.347098 13.570628 \r\nL 79.970475 15.771258 \r\nL 83.593851 20.341519 \r\nL 87.217228 27.09921 \r\nL 90.840605 35.774922 \r\nL 94.463981 46.022783 \r\nL 98.087358 57.434242 \r\nL 101.710735 69.554361 \r\nL 105.334111 81.899948 \r\nL 108.957488 93.978825 \r\nL 112.580864 105.309443 \r\nL 116.204241 115.440089 \r\nL 119.827618 123.966884 \r\nL 123.450994 130.549892 \r\nL 127.074371 134.926669 \r\n\" style=\"fill:none;stroke:#1f77b4;stroke-linecap:square;stroke-width:1.5;\"/>\r\n   </g>\r\n   <g id=\"line2d_65\">\r\n    <path clip-path=\"url(#p72b5b8e2a2)\" d=\"M 54.606838 21.734435 \r\nL 72.723722 68.053524 \r\nL 90.840605 120.952157 \r\nL 108.957488 131.795574 \r\n\" style=\"fill:none;stroke:#ff7f0e;stroke-dasharray:5.55,2.4;stroke-dashoffset:0;stroke-width:1.5;\"/>\r\n   </g>\r\n   <g id=\"line2d_66\">\r\n    <path clip-path=\"url(#p72b5b8e2a2)\" d=\"M 47.360085 72.119537 \r\nL 50.983462 59.912146 \r\nL 54.606838 48.314628 \r\nL 58.230215 37.78934 \r\nL 61.853592 28.755892 \r\nL 65.476968 21.574419 \r\nL 69.100345 16.531223 \r\nL 72.723722 13.827361 \r\nL 76.347098 13.570628 \r\nL 79.970475 15.771258 \r\nL 83.593851 20.341519 \r\nL 87.217228 27.09921 \r\nL 90.840605 35.774922 \r\nL 94.463981 46.022783 \r\nL 98.087358 57.434242 \r\nL 101.710735 69.554361 \r\nL 105.334111 81.899948 \r\nL 108.957488 93.978825 \r\nL 112.580864 105.309443 \r\nL 116.204241 115.440089 \r\nL 119.827618 123.966884 \r\nL 123.450994 130.549892 \r\nL 127.074371 134.926669 \r\nL 130.697748 136.922727 \r\n\" style=\"fill:none;stroke:#1f77b4;stroke-linecap:square;stroke-width:1.5;\"/>\r\n   </g>\r\n   <g id=\"line2d_67\">\r\n    <path clip-path=\"url(#p72b5b8e2a2)\" d=\"M 54.606838 21.734435 \r\nL 72.723722 68.053524 \r\nL 90.840605 120.952157 \r\nL 108.957488 131.795574 \r\n\" style=\"fill:none;stroke:#ff7f0e;stroke-dasharray:5.55,2.4;stroke-dashoffset:0;stroke-width:1.5;\"/>\r\n   </g>\r\n   <g id=\"line2d_68\">\r\n    <path clip-path=\"url(#p72b5b8e2a2)\" d=\"M 47.360085 72.119537 \r\nL 50.983462 59.912146 \r\nL 54.606838 48.314628 \r\nL 58.230215 37.78934 \r\nL 61.853592 28.755892 \r\nL 65.476968 21.574419 \r\nL 69.100345 16.531223 \r\nL 72.723722 13.827361 \r\nL 76.347098 13.570628 \r\nL 79.970475 15.771258 \r\nL 83.593851 20.341519 \r\nL 87.217228 27.09921 \r\nL 90.840605 35.774922 \r\nL 94.463981 46.022783 \r\nL 98.087358 57.434242 \r\nL 101.710735 69.554361 \r\nL 105.334111 81.899948 \r\nL 108.957488 93.978825 \r\nL 112.580864 105.309443 \r\nL 116.204241 115.440089 \r\nL 119.827618 123.966884 \r\nL 123.450994 130.549892 \r\nL 127.074371 134.926669 \r\nL 130.697748 136.922727 \r\nL 134.321124 136.45849 \r\n\" style=\"fill:none;stroke:#1f77b4;stroke-linecap:square;stroke-width:1.5;\"/>\r\n   </g>\r\n   <g id=\"line2d_69\">\r\n    <path clip-path=\"url(#p72b5b8e2a2)\" d=\"M 54.606838 21.734435 \r\nL 72.723722 68.053524 \r\nL 90.840605 120.952157 \r\nL 108.957488 131.795574 \r\n\" style=\"fill:none;stroke:#ff7f0e;stroke-dasharray:5.55,2.4;stroke-dashoffset:0;stroke-width:1.5;\"/>\r\n   </g>\r\n   <g id=\"line2d_70\">\r\n    <path clip-path=\"url(#p72b5b8e2a2)\" d=\"M 47.360085 72.119537 \r\nL 50.983462 59.912146 \r\nL 54.606838 48.314628 \r\nL 58.230215 37.78934 \r\nL 61.853592 28.755892 \r\nL 65.476968 21.574419 \r\nL 69.100345 16.531223 \r\nL 72.723722 13.827361 \r\nL 76.347098 13.570628 \r\nL 79.970475 15.771258 \r\nL 83.593851 20.341519 \r\nL 87.217228 27.09921 \r\nL 90.840605 35.774922 \r\nL 94.463981 46.022783 \r\nL 98.087358 57.434242 \r\nL 101.710735 69.554361 \r\nL 105.334111 81.899948 \r\nL 108.957488 93.978825 \r\nL 112.580864 105.309443 \r\nL 116.204241 115.440089 \r\nL 119.827618 123.966884 \r\nL 123.450994 130.549892 \r\nL 127.074371 134.926669 \r\nL 130.697748 136.922727 \r\nL 134.321124 136.45849 \r\n\" style=\"fill:none;stroke:#1f77b4;stroke-linecap:square;stroke-width:1.5;\"/>\r\n   </g>\r\n   <g id=\"line2d_71\">\r\n    <path clip-path=\"url(#p72b5b8e2a2)\" d=\"M 54.606838 21.734435 \r\nL 72.723722 68.053524 \r\nL 90.840605 120.952157 \r\nL 108.957488 131.795574 \r\nL 127.074371 90.614388 \r\n\" style=\"fill:none;stroke:#ff7f0e;stroke-dasharray:5.55,2.4;stroke-dashoffset:0;stroke-width:1.5;\"/>\r\n   </g>\r\n   <g id=\"line2d_72\">\r\n    <path clip-path=\"url(#p72b5b8e2a2)\" d=\"M 47.360085 72.119537 \r\nL 50.983462 59.912146 \r\nL 54.606838 48.314628 \r\nL 58.230215 37.78934 \r\nL 61.853592 28.755892 \r\nL 65.476968 21.574419 \r\nL 69.100345 16.531223 \r\nL 72.723722 13.827361 \r\nL 76.347098 13.570628 \r\nL 79.970475 15.771258 \r\nL 83.593851 20.341519 \r\nL 87.217228 27.09921 \r\nL 90.840605 35.774922 \r\nL 94.463981 46.022783 \r\nL 98.087358 57.434242 \r\nL 101.710735 69.554361 \r\nL 105.334111 81.899948 \r\nL 108.957488 93.978825 \r\nL 112.580864 105.309443 \r\nL 116.204241 115.440089 \r\nL 119.827618 123.966884 \r\nL 123.450994 130.549892 \r\nL 127.074371 134.926669 \r\nL 130.697748 136.922727 \r\nL 134.321124 136.45849 \r\nL 137.944501 133.552465 \r\n\" style=\"fill:none;stroke:#1f77b4;stroke-linecap:square;stroke-width:1.5;\"/>\r\n   </g>\r\n   <g id=\"line2d_73\">\r\n    <path clip-path=\"url(#p72b5b8e2a2)\" d=\"M 54.606838 21.734435 \r\nL 72.723722 68.053524 \r\nL 90.840605 120.952157 \r\nL 108.957488 131.795574 \r\nL 127.074371 90.614388 \r\n\" style=\"fill:none;stroke:#ff7f0e;stroke-dasharray:5.55,2.4;stroke-dashoffset:0;stroke-width:1.5;\"/>\r\n   </g>\r\n   <g id=\"line2d_74\">\r\n    <path clip-path=\"url(#p72b5b8e2a2)\" d=\"M 47.360085 72.119537 \r\nL 50.983462 59.912146 \r\nL 54.606838 48.314628 \r\nL 58.230215 37.78934 \r\nL 61.853592 28.755892 \r\nL 65.476968 21.574419 \r\nL 69.100345 16.531223 \r\nL 72.723722 13.827361 \r\nL 76.347098 13.570628 \r\nL 79.970475 15.771258 \r\nL 83.593851 20.341519 \r\nL 87.217228 27.09921 \r\nL 90.840605 35.774922 \r\nL 94.463981 46.022783 \r\nL 98.087358 57.434242 \r\nL 101.710735 69.554361 \r\nL 105.334111 81.899948 \r\nL 108.957488 93.978825 \r\nL 112.580864 105.309443 \r\nL 116.204241 115.440089 \r\nL 119.827618 123.966884 \r\nL 123.450994 130.549892 \r\nL 127.074371 134.926669 \r\nL 130.697748 136.922727 \r\nL 134.321124 136.45849 \r\nL 137.944501 133.552465 \r\nL 141.567877 128.320507 \r\n\" style=\"fill:none;stroke:#1f77b4;stroke-linecap:square;stroke-width:1.5;\"/>\r\n   </g>\r\n   <g id=\"line2d_75\">\r\n    <path clip-path=\"url(#p72b5b8e2a2)\" d=\"M 54.606838 21.734435 \r\nL 72.723722 68.053524 \r\nL 90.840605 120.952157 \r\nL 108.957488 131.795574 \r\nL 127.074371 90.614388 \r\n\" style=\"fill:none;stroke:#ff7f0e;stroke-dasharray:5.55,2.4;stroke-dashoffset:0;stroke-width:1.5;\"/>\r\n   </g>\r\n   <g id=\"line2d_76\">\r\n    <path clip-path=\"url(#p72b5b8e2a2)\" d=\"M 47.360085 72.119537 \r\nL 50.983462 59.912146 \r\nL 54.606838 48.314628 \r\nL 58.230215 37.78934 \r\nL 61.853592 28.755892 \r\nL 65.476968 21.574419 \r\nL 69.100345 16.531223 \r\nL 72.723722 13.827361 \r\nL 76.347098 13.570628 \r\nL 79.970475 15.771258 \r\nL 83.593851 20.341519 \r\nL 87.217228 27.09921 \r\nL 90.840605 35.774922 \r\nL 94.463981 46.022783 \r\nL 98.087358 57.434242 \r\nL 101.710735 69.554361 \r\nL 105.334111 81.899948 \r\nL 108.957488 93.978825 \r\nL 112.580864 105.309443 \r\nL 116.204241 115.440089 \r\nL 119.827618 123.966884 \r\nL 123.450994 130.549892 \r\nL 127.074371 134.926669 \r\nL 130.697748 136.922727 \r\nL 134.321124 136.45849 \r\nL 137.944501 133.552465 \r\nL 141.567877 128.320507 \r\nL 145.191254 120.971196 \r\n\" style=\"fill:none;stroke:#1f77b4;stroke-linecap:square;stroke-width:1.5;\"/>\r\n   </g>\r\n   <g id=\"line2d_77\">\r\n    <path clip-path=\"url(#p72b5b8e2a2)\" d=\"M 54.606838 21.734435 \r\nL 72.723722 68.053524 \r\nL 90.840605 120.952157 \r\nL 108.957488 131.795574 \r\nL 127.074371 90.614388 \r\n\" style=\"fill:none;stroke:#ff7f0e;stroke-dasharray:5.55,2.4;stroke-dashoffset:0;stroke-width:1.5;\"/>\r\n   </g>\r\n   <g id=\"line2d_78\">\r\n    <path clip-path=\"url(#p72b5b8e2a2)\" d=\"M 47.360085 72.119537 \r\nL 50.983462 59.912146 \r\nL 54.606838 48.314628 \r\nL 58.230215 37.78934 \r\nL 61.853592 28.755892 \r\nL 65.476968 21.574419 \r\nL 69.100345 16.531223 \r\nL 72.723722 13.827361 \r\nL 76.347098 13.570628 \r\nL 79.970475 15.771258 \r\nL 83.593851 20.341519 \r\nL 87.217228 27.09921 \r\nL 90.840605 35.774922 \r\nL 94.463981 46.022783 \r\nL 98.087358 57.434242 \r\nL 101.710735 69.554361 \r\nL 105.334111 81.899948 \r\nL 108.957488 93.978825 \r\nL 112.580864 105.309443 \r\nL 116.204241 115.440089 \r\nL 119.827618 123.966884 \r\nL 123.450994 130.549892 \r\nL 127.074371 134.926669 \r\nL 130.697748 136.922727 \r\nL 134.321124 136.45849 \r\nL 137.944501 133.552465 \r\nL 141.567877 128.320507 \r\nL 145.191254 120.971196 \r\nL 148.814631 111.797527 \r\n\" style=\"fill:none;stroke:#1f77b4;stroke-linecap:square;stroke-width:1.5;\"/>\r\n   </g>\r\n   <g id=\"line2d_79\">\r\n    <path clip-path=\"url(#p72b5b8e2a2)\" d=\"M 54.606838 21.734435 \r\nL 72.723722 68.053524 \r\nL 90.840605 120.952157 \r\nL 108.957488 131.795574 \r\nL 127.074371 90.614388 \r\n\" style=\"fill:none;stroke:#ff7f0e;stroke-dasharray:5.55,2.4;stroke-dashoffset:0;stroke-width:1.5;\"/>\r\n   </g>\r\n   <g id=\"line2d_80\">\r\n    <path clip-path=\"url(#p72b5b8e2a2)\" d=\"M 47.360085 72.119537 \r\nL 50.983462 59.912146 \r\nL 54.606838 48.314628 \r\nL 58.230215 37.78934 \r\nL 61.853592 28.755892 \r\nL 65.476968 21.574419 \r\nL 69.100345 16.531223 \r\nL 72.723722 13.827361 \r\nL 76.347098 13.570628 \r\nL 79.970475 15.771258 \r\nL 83.593851 20.341519 \r\nL 87.217228 27.09921 \r\nL 90.840605 35.774922 \r\nL 94.463981 46.022783 \r\nL 98.087358 57.434242 \r\nL 101.710735 69.554361 \r\nL 105.334111 81.899948 \r\nL 108.957488 93.978825 \r\nL 112.580864 105.309443 \r\nL 116.204241 115.440089 \r\nL 119.827618 123.966884 \r\nL 123.450994 130.549892 \r\nL 127.074371 134.926669 \r\nL 130.697748 136.922727 \r\nL 134.321124 136.45849 \r\nL 137.944501 133.552465 \r\nL 141.567877 128.320507 \r\nL 145.191254 120.971196 \r\nL 148.814631 111.797527 \r\nL 152.438007 101.165225 \r\n\" style=\"fill:none;stroke:#1f77b4;stroke-linecap:square;stroke-width:1.5;\"/>\r\n   </g>\r\n   <g id=\"line2d_81\">\r\n    <path clip-path=\"url(#p72b5b8e2a2)\" d=\"M 54.606838 21.734435 \r\nL 72.723722 68.053524 \r\nL 90.840605 120.952157 \r\nL 108.957488 131.795574 \r\nL 127.074371 90.614388 \r\n\" style=\"fill:none;stroke:#ff7f0e;stroke-dasharray:5.55,2.4;stroke-dashoffset:0;stroke-width:1.5;\"/>\r\n   </g>\r\n   <g id=\"line2d_82\">\r\n    <path clip-path=\"url(#p72b5b8e2a2)\" d=\"M 47.360085 72.119537 \r\nL 50.983462 59.912146 \r\nL 54.606838 48.314628 \r\nL 58.230215 37.78934 \r\nL 61.853592 28.755892 \r\nL 65.476968 21.574419 \r\nL 69.100345 16.531223 \r\nL 72.723722 13.827361 \r\nL 76.347098 13.570628 \r\nL 79.970475 15.771258 \r\nL 83.593851 20.341519 \r\nL 87.217228 27.09921 \r\nL 90.840605 35.774922 \r\nL 94.463981 46.022783 \r\nL 98.087358 57.434242 \r\nL 101.710735 69.554361 \r\nL 105.334111 81.899948 \r\nL 108.957488 93.978825 \r\nL 112.580864 105.309443 \r\nL 116.204241 115.440089 \r\nL 119.827618 123.966884 \r\nL 123.450994 130.549892 \r\nL 127.074371 134.926669 \r\nL 130.697748 136.922727 \r\nL 134.321124 136.45849 \r\nL 137.944501 133.552465 \r\nL 141.567877 128.320507 \r\nL 145.191254 120.971196 \r\nL 148.814631 111.797527 \r\nL 152.438007 101.165225 \r\n\" style=\"fill:none;stroke:#1f77b4;stroke-linecap:square;stroke-width:1.5;\"/>\r\n   </g>\r\n   <g id=\"line2d_83\">\r\n    <path clip-path=\"url(#p72b5b8e2a2)\" d=\"M 54.606838 21.734435 \r\nL 72.723722 68.053524 \r\nL 90.840605 120.952157 \r\nL 108.957488 131.795574 \r\nL 127.074371 90.614388 \r\nL 145.191254 35.270391 \r\n\" style=\"fill:none;stroke:#ff7f0e;stroke-dasharray:5.55,2.4;stroke-dashoffset:0;stroke-width:1.5;\"/>\r\n   </g>\r\n   <g id=\"line2d_84\">\r\n    <path clip-path=\"url(#p72b5b8e2a2)\" d=\"M 47.360085 72.119537 \r\nL 50.983462 59.912146 \r\nL 54.606838 48.314628 \r\nL 58.230215 37.78934 \r\nL 61.853592 28.755892 \r\nL 65.476968 21.574419 \r\nL 69.100345 16.531223 \r\nL 72.723722 13.827361 \r\nL 76.347098 13.570628 \r\nL 79.970475 15.771258 \r\nL 83.593851 20.341519 \r\nL 87.217228 27.09921 \r\nL 90.840605 35.774922 \r\nL 94.463981 46.022783 \r\nL 98.087358 57.434242 \r\nL 101.710735 69.554361 \r\nL 105.334111 81.899948 \r\nL 108.957488 93.978825 \r\nL 112.580864 105.309443 \r\nL 116.204241 115.440089 \r\nL 119.827618 123.966884 \r\nL 123.450994 130.549892 \r\nL 127.074371 134.926669 \r\nL 130.697748 136.922727 \r\nL 134.321124 136.45849 \r\nL 137.944501 133.552465 \r\nL 141.567877 128.320507 \r\nL 145.191254 120.971196 \r\nL 148.814631 111.797527 \r\nL 152.438007 101.165225 \r\nL 156.061384 89.498166 \r\n\" style=\"fill:none;stroke:#1f77b4;stroke-linecap:square;stroke-width:1.5;\"/>\r\n   </g>\r\n   <g id=\"line2d_85\">\r\n    <path clip-path=\"url(#p72b5b8e2a2)\" d=\"M 54.606838 21.734435 \r\nL 72.723722 68.053524 \r\nL 90.840605 120.952157 \r\nL 108.957488 131.795574 \r\nL 127.074371 90.614388 \r\nL 145.191254 35.270391 \r\n\" style=\"fill:none;stroke:#ff7f0e;stroke-dasharray:5.55,2.4;stroke-dashoffset:0;stroke-width:1.5;\"/>\r\n   </g>\r\n   <g id=\"line2d_86\">\r\n    <path clip-path=\"url(#p72b5b8e2a2)\" d=\"M 47.360085 72.119537 \r\nL 50.983462 59.912146 \r\nL 54.606838 48.314628 \r\nL 58.230215 37.78934 \r\nL 61.853592 28.755892 \r\nL 65.476968 21.574419 \r\nL 69.100345 16.531223 \r\nL 72.723722 13.827361 \r\nL 76.347098 13.570628 \r\nL 79.970475 15.771258 \r\nL 83.593851 20.341519 \r\nL 87.217228 27.09921 \r\nL 90.840605 35.774922 \r\nL 94.463981 46.022783 \r\nL 98.087358 57.434242 \r\nL 101.710735 69.554361 \r\nL 105.334111 81.899948 \r\nL 108.957488 93.978825 \r\nL 112.580864 105.309443 \r\nL 116.204241 115.440089 \r\nL 119.827618 123.966884 \r\nL 123.450994 130.549892 \r\nL 127.074371 134.926669 \r\nL 130.697748 136.922727 \r\nL 134.321124 136.45849 \r\nL 137.944501 133.552465 \r\nL 141.567877 128.320507 \r\nL 145.191254 120.971196 \r\nL 148.814631 111.797527 \r\nL 152.438007 101.165225 \r\nL 156.061384 89.498166 \r\nL 159.684761 77.26148 \r\n\" style=\"fill:none;stroke:#1f77b4;stroke-linecap:square;stroke-width:1.5;\"/>\r\n   </g>\r\n   <g id=\"line2d_87\">\r\n    <path clip-path=\"url(#p72b5b8e2a2)\" d=\"M 54.606838 21.734435 \r\nL 72.723722 68.053524 \r\nL 90.840605 120.952157 \r\nL 108.957488 131.795574 \r\nL 127.074371 90.614388 \r\nL 145.191254 35.270391 \r\n\" style=\"fill:none;stroke:#ff7f0e;stroke-dasharray:5.55,2.4;stroke-dashoffset:0;stroke-width:1.5;\"/>\r\n   </g>\r\n   <g id=\"line2d_88\">\r\n    <path clip-path=\"url(#p72b5b8e2a2)\" d=\"M 47.360085 72.119537 \r\nL 50.983462 59.912146 \r\nL 54.606838 48.314628 \r\nL 58.230215 37.78934 \r\nL 61.853592 28.755892 \r\nL 65.476968 21.574419 \r\nL 69.100345 16.531223 \r\nL 72.723722 13.827361 \r\nL 76.347098 13.570628 \r\nL 79.970475 15.771258 \r\nL 83.593851 20.341519 \r\nL 87.217228 27.09921 \r\nL 90.840605 35.774922 \r\nL 94.463981 46.022783 \r\nL 98.087358 57.434242 \r\nL 101.710735 69.554361 \r\nL 105.334111 81.899948 \r\nL 108.957488 93.978825 \r\nL 112.580864 105.309443 \r\nL 116.204241 115.440089 \r\nL 119.827618 123.966884 \r\nL 123.450994 130.549892 \r\nL 127.074371 134.926669 \r\nL 130.697748 136.922727 \r\nL 134.321124 136.45849 \r\nL 137.944501 133.552465 \r\nL 141.567877 128.320507 \r\nL 145.191254 120.971196 \r\nL 148.814631 111.797527 \r\nL 152.438007 101.165225 \r\nL 156.061384 89.498166 \r\nL 159.684761 77.26148 \r\nL 163.308137 64.943003 \r\n\" style=\"fill:none;stroke:#1f77b4;stroke-linecap:square;stroke-width:1.5;\"/>\r\n   </g>\r\n   <g id=\"line2d_89\">\r\n    <path clip-path=\"url(#p72b5b8e2a2)\" d=\"M 54.606838 21.734435 \r\nL 72.723722 68.053524 \r\nL 90.840605 120.952157 \r\nL 108.957488 131.795574 \r\nL 127.074371 90.614388 \r\nL 145.191254 35.270391 \r\n\" style=\"fill:none;stroke:#ff7f0e;stroke-dasharray:5.55,2.4;stroke-dashoffset:0;stroke-width:1.5;\"/>\r\n   </g>\r\n   <g id=\"line2d_90\">\r\n    <path clip-path=\"url(#p72b5b8e2a2)\" d=\"M 47.360085 72.119537 \r\nL 50.983462 59.912146 \r\nL 54.606838 48.314628 \r\nL 58.230215 37.78934 \r\nL 61.853592 28.755892 \r\nL 65.476968 21.574419 \r\nL 69.100345 16.531223 \r\nL 72.723722 13.827361 \r\nL 76.347098 13.570628 \r\nL 79.970475 15.771258 \r\nL 83.593851 20.341519 \r\nL 87.217228 27.09921 \r\nL 90.840605 35.774922 \r\nL 94.463981 46.022783 \r\nL 98.087358 57.434242 \r\nL 101.710735 69.554361 \r\nL 105.334111 81.899948 \r\nL 108.957488 93.978825 \r\nL 112.580864 105.309443 \r\nL 116.204241 115.440089 \r\nL 119.827618 123.966884 \r\nL 123.450994 130.549892 \r\nL 127.074371 134.926669 \r\nL 130.697748 136.922727 \r\nL 134.321124 136.45849 \r\nL 137.944501 133.552465 \r\nL 141.567877 128.320507 \r\nL 145.191254 120.971196 \r\nL 148.814631 111.797527 \r\nL 152.438007 101.165225 \r\nL 156.061384 89.498166 \r\nL 159.684761 77.26148 \r\nL 163.308137 64.943003 \r\nL 166.931514 53.033836 \r\n\" style=\"fill:none;stroke:#1f77b4;stroke-linecap:square;stroke-width:1.5;\"/>\r\n   </g>\r\n   <g id=\"line2d_91\">\r\n    <path clip-path=\"url(#p72b5b8e2a2)\" d=\"M 54.606838 21.734435 \r\nL 72.723722 68.053524 \r\nL 90.840605 120.952157 \r\nL 108.957488 131.795574 \r\nL 127.074371 90.614388 \r\nL 145.191254 35.270391 \r\n\" style=\"fill:none;stroke:#ff7f0e;stroke-dasharray:5.55,2.4;stroke-dashoffset:0;stroke-width:1.5;\"/>\r\n   </g>\r\n   <g id=\"line2d_92\">\r\n    <path clip-path=\"url(#p72b5b8e2a2)\" d=\"M 47.360085 72.119537 \r\nL 50.983462 59.912146 \r\nL 54.606838 48.314628 \r\nL 58.230215 37.78934 \r\nL 61.853592 28.755892 \r\nL 65.476968 21.574419 \r\nL 69.100345 16.531223 \r\nL 72.723722 13.827361 \r\nL 76.347098 13.570628 \r\nL 79.970475 15.771258 \r\nL 83.593851 20.341519 \r\nL 87.217228 27.09921 \r\nL 90.840605 35.774922 \r\nL 94.463981 46.022783 \r\nL 98.087358 57.434242 \r\nL 101.710735 69.554361 \r\nL 105.334111 81.899948 \r\nL 108.957488 93.978825 \r\nL 112.580864 105.309443 \r\nL 116.204241 115.440089 \r\nL 119.827618 123.966884 \r\nL 123.450994 130.549892 \r\nL 127.074371 134.926669 \r\nL 130.697748 136.922727 \r\nL 134.321124 136.45849 \r\nL 137.944501 133.552465 \r\nL 141.567877 128.320507 \r\nL 145.191254 120.971196 \r\nL 148.814631 111.797527 \r\nL 152.438007 101.165225 \r\nL 156.061384 89.498166 \r\nL 159.684761 77.26148 \r\nL 163.308137 64.943003 \r\nL 166.931514 53.033836 \r\nL 170.55489 42.008758 \r\n\" style=\"fill:none;stroke:#1f77b4;stroke-linecap:square;stroke-width:1.5;\"/>\r\n   </g>\r\n   <g id=\"line2d_93\">\r\n    <path clip-path=\"url(#p72b5b8e2a2)\" d=\"M 54.606838 21.734435 \r\nL 72.723722 68.053524 \r\nL 90.840605 120.952157 \r\nL 108.957488 131.795574 \r\nL 127.074371 90.614388 \r\nL 145.191254 35.270391 \r\n\" style=\"fill:none;stroke:#ff7f0e;stroke-dasharray:5.55,2.4;stroke-dashoffset:0;stroke-width:1.5;\"/>\r\n   </g>\r\n   <g id=\"line2d_94\">\r\n    <path clip-path=\"url(#p72b5b8e2a2)\" d=\"M 47.360085 72.119537 \r\nL 50.983462 59.912146 \r\nL 54.606838 48.314628 \r\nL 58.230215 37.78934 \r\nL 61.853592 28.755892 \r\nL 65.476968 21.574419 \r\nL 69.100345 16.531223 \r\nL 72.723722 13.827361 \r\nL 76.347098 13.570628 \r\nL 79.970475 15.771258 \r\nL 83.593851 20.341519 \r\nL 87.217228 27.09921 \r\nL 90.840605 35.774922 \r\nL 94.463981 46.022783 \r\nL 98.087358 57.434242 \r\nL 101.710735 69.554361 \r\nL 105.334111 81.899948 \r\nL 108.957488 93.978825 \r\nL 112.580864 105.309443 \r\nL 116.204241 115.440089 \r\nL 119.827618 123.966884 \r\nL 123.450994 130.549892 \r\nL 127.074371 134.926669 \r\nL 130.697748 136.922727 \r\nL 134.321124 136.45849 \r\nL 137.944501 133.552465 \r\nL 141.567877 128.320507 \r\nL 145.191254 120.971196 \r\nL 148.814631 111.797527 \r\nL 152.438007 101.165225 \r\nL 156.061384 89.498166 \r\nL 159.684761 77.26148 \r\nL 163.308137 64.943003 \r\nL 166.931514 53.033836 \r\nL 170.55489 42.008758 \r\n\" style=\"fill:none;stroke:#1f77b4;stroke-linecap:square;stroke-width:1.5;\"/>\r\n   </g>\r\n   <g id=\"line2d_95\">\r\n    <path clip-path=\"url(#p72b5b8e2a2)\" d=\"M 54.606838 21.734435 \r\nL 72.723722 68.053524 \r\nL 90.840605 120.952157 \r\nL 108.957488 131.795574 \r\nL 127.074371 90.614388 \r\nL 145.191254 35.270391 \r\nL 163.308137 16.646599 \r\n\" style=\"fill:none;stroke:#ff7f0e;stroke-dasharray:5.55,2.4;stroke-dashoffset:0;stroke-width:1.5;\"/>\r\n   </g>\r\n   <g id=\"line2d_96\">\r\n    <path clip-path=\"url(#p72b5b8e2a2)\" d=\"M 47.360085 72.119537 \r\nL 50.983462 59.912146 \r\nL 54.606838 48.314628 \r\nL 58.230215 37.78934 \r\nL 61.853592 28.755892 \r\nL 65.476968 21.574419 \r\nL 69.100345 16.531223 \r\nL 72.723722 13.827361 \r\nL 76.347098 13.570628 \r\nL 79.970475 15.771258 \r\nL 83.593851 20.341519 \r\nL 87.217228 27.09921 \r\nL 90.840605 35.774922 \r\nL 94.463981 46.022783 \r\nL 98.087358 57.434242 \r\nL 101.710735 69.554361 \r\nL 105.334111 81.899948 \r\nL 108.957488 93.978825 \r\nL 112.580864 105.309443 \r\nL 116.204241 115.440089 \r\nL 119.827618 123.966884 \r\nL 123.450994 130.549892 \r\nL 127.074371 134.926669 \r\nL 130.697748 136.922727 \r\nL 134.321124 136.45849 \r\nL 137.944501 133.552465 \r\nL 141.567877 128.320507 \r\nL 145.191254 120.971196 \r\nL 148.814631 111.797527 \r\nL 152.438007 101.165225 \r\nL 156.061384 89.498166 \r\nL 159.684761 77.26148 \r\nL 163.308137 64.943003 \r\nL 166.931514 53.033836 \r\nL 170.55489 42.008758 \r\nL 174.178267 32.307306 \r\n\" style=\"fill:none;stroke:#1f77b4;stroke-linecap:square;stroke-width:1.5;\"/>\r\n   </g>\r\n   <g id=\"line2d_97\">\r\n    <path clip-path=\"url(#p72b5b8e2a2)\" d=\"M 54.606838 21.734435 \r\nL 72.723722 68.053524 \r\nL 90.840605 120.952157 \r\nL 108.957488 131.795574 \r\nL 127.074371 90.614388 \r\nL 145.191254 35.270391 \r\nL 163.308137 16.646599 \r\n\" style=\"fill:none;stroke:#ff7f0e;stroke-dasharray:5.55,2.4;stroke-dashoffset:0;stroke-width:1.5;\"/>\r\n   </g>\r\n   <g id=\"line2d_98\">\r\n    <path clip-path=\"url(#p72b5b8e2a2)\" d=\"M 47.360085 72.119537 \r\nL 50.983462 59.912146 \r\nL 54.606838 48.314628 \r\nL 58.230215 37.78934 \r\nL 61.853592 28.755892 \r\nL 65.476968 21.574419 \r\nL 69.100345 16.531223 \r\nL 72.723722 13.827361 \r\nL 76.347098 13.570628 \r\nL 79.970475 15.771258 \r\nL 83.593851 20.341519 \r\nL 87.217228 27.09921 \r\nL 90.840605 35.774922 \r\nL 94.463981 46.022783 \r\nL 98.087358 57.434242 \r\nL 101.710735 69.554361 \r\nL 105.334111 81.899948 \r\nL 108.957488 93.978825 \r\nL 112.580864 105.309443 \r\nL 116.204241 115.440089 \r\nL 119.827618 123.966884 \r\nL 123.450994 130.549892 \r\nL 127.074371 134.926669 \r\nL 130.697748 136.922727 \r\nL 134.321124 136.45849 \r\nL 137.944501 133.552465 \r\nL 141.567877 128.320507 \r\nL 145.191254 120.971196 \r\nL 148.814631 111.797527 \r\nL 152.438007 101.165225 \r\nL 156.061384 89.498166 \r\nL 159.684761 77.26148 \r\nL 163.308137 64.943003 \r\nL 166.931514 53.033836 \r\nL 170.55489 42.008758 \r\nL 174.178267 32.307306 \r\nL 177.801644 24.316244 \r\n\" style=\"fill:none;stroke:#1f77b4;stroke-linecap:square;stroke-width:1.5;\"/>\r\n   </g>\r\n   <g id=\"line2d_99\">\r\n    <path clip-path=\"url(#p72b5b8e2a2)\" d=\"M 54.606838 21.734435 \r\nL 72.723722 68.053524 \r\nL 90.840605 120.952157 \r\nL 108.957488 131.795574 \r\nL 127.074371 90.614388 \r\nL 145.191254 35.270391 \r\nL 163.308137 16.646599 \r\n\" style=\"fill:none;stroke:#ff7f0e;stroke-dasharray:5.55,2.4;stroke-dashoffset:0;stroke-width:1.5;\"/>\r\n   </g>\r\n   <g id=\"line2d_100\">\r\n    <path clip-path=\"url(#p72b5b8e2a2)\" d=\"M 47.360085 72.119537 \r\nL 50.983462 59.912146 \r\nL 54.606838 48.314628 \r\nL 58.230215 37.78934 \r\nL 61.853592 28.755892 \r\nL 65.476968 21.574419 \r\nL 69.100345 16.531223 \r\nL 72.723722 13.827361 \r\nL 76.347098 13.570628 \r\nL 79.970475 15.771258 \r\nL 83.593851 20.341519 \r\nL 87.217228 27.09921 \r\nL 90.840605 35.774922 \r\nL 94.463981 46.022783 \r\nL 98.087358 57.434242 \r\nL 101.710735 69.554361 \r\nL 105.334111 81.899948 \r\nL 108.957488 93.978825 \r\nL 112.580864 105.309443 \r\nL 116.204241 115.440089 \r\nL 119.827618 123.966884 \r\nL 123.450994 130.549892 \r\nL 127.074371 134.926669 \r\nL 130.697748 136.922727 \r\nL 134.321124 136.45849 \r\nL 137.944501 133.552465 \r\nL 141.567877 128.320507 \r\nL 145.191254 120.971196 \r\nL 148.814631 111.797527 \r\nL 152.438007 101.165225 \r\nL 156.061384 89.498166 \r\nL 159.684761 77.26148 \r\nL 163.308137 64.943003 \r\nL 166.931514 53.033836 \r\nL 170.55489 42.008758 \r\nL 174.178267 32.307306 \r\nL 177.801644 24.316244 \r\nL 181.42502 18.354153 \r\n\" style=\"fill:none;stroke:#1f77b4;stroke-linecap:square;stroke-width:1.5;\"/>\r\n   </g>\r\n   <g id=\"line2d_101\">\r\n    <path clip-path=\"url(#p72b5b8e2a2)\" d=\"M 54.606838 21.734435 \r\nL 72.723722 68.053524 \r\nL 90.840605 120.952157 \r\nL 108.957488 131.795574 \r\nL 127.074371 90.614388 \r\nL 145.191254 35.270391 \r\nL 163.308137 16.646599 \r\n\" style=\"fill:none;stroke:#ff7f0e;stroke-dasharray:5.55,2.4;stroke-dashoffset:0;stroke-width:1.5;\"/>\r\n   </g>\r\n   <g id=\"line2d_102\">\r\n    <path clip-path=\"url(#p72b5b8e2a2)\" d=\"M 47.360085 72.119537 \r\nL 50.983462 59.912146 \r\nL 54.606838 48.314628 \r\nL 58.230215 37.78934 \r\nL 61.853592 28.755892 \r\nL 65.476968 21.574419 \r\nL 69.100345 16.531223 \r\nL 72.723722 13.827361 \r\nL 76.347098 13.570628 \r\nL 79.970475 15.771258 \r\nL 83.593851 20.341519 \r\nL 87.217228 27.09921 \r\nL 90.840605 35.774922 \r\nL 94.463981 46.022783 \r\nL 98.087358 57.434242 \r\nL 101.710735 69.554361 \r\nL 105.334111 81.899948 \r\nL 108.957488 93.978825 \r\nL 112.580864 105.309443 \r\nL 116.204241 115.440089 \r\nL 119.827618 123.966884 \r\nL 123.450994 130.549892 \r\nL 127.074371 134.926669 \r\nL 130.697748 136.922727 \r\nL 134.321124 136.45849 \r\nL 137.944501 133.552465 \r\nL 141.567877 128.320507 \r\nL 145.191254 120.971196 \r\nL 148.814631 111.797527 \r\nL 152.438007 101.165225 \r\nL 156.061384 89.498166 \r\nL 159.684761 77.26148 \r\nL 163.308137 64.943003 \r\nL 166.931514 53.033836 \r\nL 170.55489 42.008758 \r\nL 174.178267 32.307306 \r\nL 177.801644 24.316244 \r\nL 181.42502 18.354153 \r\nL 185.048397 14.65872 \r\n\" style=\"fill:none;stroke:#1f77b4;stroke-linecap:square;stroke-width:1.5;\"/>\r\n   </g>\r\n   <g id=\"line2d_103\">\r\n    <path clip-path=\"url(#p72b5b8e2a2)\" d=\"M 54.606838 21.734435 \r\nL 72.723722 68.053524 \r\nL 90.840605 120.952157 \r\nL 108.957488 131.795574 \r\nL 127.074371 90.614388 \r\nL 145.191254 35.270391 \r\nL 163.308137 16.646599 \r\n\" style=\"fill:none;stroke:#ff7f0e;stroke-dasharray:5.55,2.4;stroke-dashoffset:0;stroke-width:1.5;\"/>\r\n   </g>\r\n   <g id=\"line2d_104\">\r\n    <path clip-path=\"url(#p72b5b8e2a2)\" d=\"M 47.360085 72.119537 \r\nL 50.983462 59.912146 \r\nL 54.606838 48.314628 \r\nL 58.230215 37.78934 \r\nL 61.853592 28.755892 \r\nL 65.476968 21.574419 \r\nL 69.100345 16.531223 \r\nL 72.723722 13.827361 \r\nL 76.347098 13.570628 \r\nL 79.970475 15.771258 \r\nL 83.593851 20.341519 \r\nL 87.217228 27.09921 \r\nL 90.840605 35.774922 \r\nL 94.463981 46.022783 \r\nL 98.087358 57.434242 \r\nL 101.710735 69.554361 \r\nL 105.334111 81.899948 \r\nL 108.957488 93.978825 \r\nL 112.580864 105.309443 \r\nL 116.204241 115.440089 \r\nL 119.827618 123.966884 \r\nL 123.450994 130.549892 \r\nL 127.074371 134.926669 \r\nL 130.697748 136.922727 \r\nL 134.321124 136.45849 \r\nL 137.944501 133.552465 \r\nL 141.567877 128.320507 \r\nL 145.191254 120.971196 \r\nL 148.814631 111.797527 \r\nL 152.438007 101.165225 \r\nL 156.061384 89.498166 \r\nL 159.684761 77.26148 \r\nL 163.308137 64.943003 \r\nL 166.931514 53.033836 \r\nL 170.55489 42.008758 \r\nL 174.178267 32.307306 \r\nL 177.801644 24.316244 \r\nL 181.42502 18.354153 \r\nL 185.048397 14.65872 \r\nL 188.671774 13.377273 \r\n\" style=\"fill:none;stroke:#1f77b4;stroke-linecap:square;stroke-width:1.5;\"/>\r\n   </g>\r\n   <g id=\"line2d_105\">\r\n    <path clip-path=\"url(#p72b5b8e2a2)\" d=\"M 54.606838 21.734435 \r\nL 72.723722 68.053524 \r\nL 90.840605 120.952157 \r\nL 108.957488 131.795574 \r\nL 127.074371 90.614388 \r\nL 145.191254 35.270391 \r\nL 163.308137 16.646599 \r\n\" style=\"fill:none;stroke:#ff7f0e;stroke-dasharray:5.55,2.4;stroke-dashoffset:0;stroke-width:1.5;\"/>\r\n   </g>\r\n   <g id=\"line2d_106\">\r\n    <path clip-path=\"url(#p72b5b8e2a2)\" d=\"M 47.360085 72.119537 \r\nL 50.983462 59.912146 \r\nL 54.606838 48.314628 \r\nL 58.230215 37.78934 \r\nL 61.853592 28.755892 \r\nL 65.476968 21.574419 \r\nL 69.100345 16.531223 \r\nL 72.723722 13.827361 \r\nL 76.347098 13.570628 \r\nL 79.970475 15.771258 \r\nL 83.593851 20.341519 \r\nL 87.217228 27.09921 \r\nL 90.840605 35.774922 \r\nL 94.463981 46.022783 \r\nL 98.087358 57.434242 \r\nL 101.710735 69.554361 \r\nL 105.334111 81.899948 \r\nL 108.957488 93.978825 \r\nL 112.580864 105.309443 \r\nL 116.204241 115.440089 \r\nL 119.827618 123.966884 \r\nL 123.450994 130.549892 \r\nL 127.074371 134.926669 \r\nL 130.697748 136.922727 \r\nL 134.321124 136.45849 \r\nL 137.944501 133.552465 \r\nL 141.567877 128.320507 \r\nL 145.191254 120.971196 \r\nL 148.814631 111.797527 \r\nL 152.438007 101.165225 \r\nL 156.061384 89.498166 \r\nL 159.684761 77.26148 \r\nL 163.308137 64.943003 \r\nL 166.931514 53.033836 \r\nL 170.55489 42.008758 \r\nL 174.178267 32.307306 \r\nL 177.801644 24.316244 \r\nL 181.42502 18.354153 \r\nL 185.048397 14.65872 \r\nL 188.671774 13.377273 \r\n\" style=\"fill:none;stroke:#1f77b4;stroke-linecap:square;stroke-width:1.5;\"/>\r\n   </g>\r\n   <g id=\"line2d_107\">\r\n    <path clip-path=\"url(#p72b5b8e2a2)\" d=\"M 54.606838 21.734435 \r\nL 72.723722 68.053524 \r\nL 90.840605 120.952157 \r\nL 108.957488 131.795574 \r\nL 127.074371 90.614388 \r\nL 145.191254 35.270391 \r\nL 163.308137 16.646599 \r\nL 181.42502 51.865641 \r\n\" style=\"fill:none;stroke:#ff7f0e;stroke-dasharray:5.55,2.4;stroke-dashoffset:0;stroke-width:1.5;\"/>\r\n   </g>\r\n   <g id=\"line2d_108\">\r\n    <path clip-path=\"url(#p72b5b8e2a2)\" d=\"M 47.360085 72.119537 \r\nL 50.983462 59.912146 \r\nL 54.606838 48.314628 \r\nL 58.230215 37.78934 \r\nL 61.853592 28.755892 \r\nL 65.476968 21.574419 \r\nL 69.100345 16.531223 \r\nL 72.723722 13.827361 \r\nL 76.347098 13.570628 \r\nL 79.970475 15.771258 \r\nL 83.593851 20.341519 \r\nL 87.217228 27.09921 \r\nL 90.840605 35.774922 \r\nL 94.463981 46.022783 \r\nL 98.087358 57.434242 \r\nL 101.710735 69.554361 \r\nL 105.334111 81.899948 \r\nL 108.957488 93.978825 \r\nL 112.580864 105.309443 \r\nL 116.204241 115.440089 \r\nL 119.827618 123.966884 \r\nL 123.450994 130.549892 \r\nL 127.074371 134.926669 \r\nL 130.697748 136.922727 \r\nL 134.321124 136.45849 \r\nL 137.944501 133.552465 \r\nL 141.567877 128.320507 \r\nL 145.191254 120.971196 \r\nL 148.814631 111.797527 \r\nL 152.438007 101.165225 \r\nL 156.061384 89.498166 \r\nL 159.684761 77.26148 \r\nL 163.308137 64.943003 \r\nL 166.931514 53.033836 \r\nL 170.55489 42.008758 \r\nL 174.178267 32.307306 \r\nL 177.801644 24.316244 \r\nL 181.42502 18.354153 \r\nL 185.048397 14.65872 \r\nL 188.671774 13.377273 \r\nL 192.29515 14.560897 \r\n\" style=\"fill:none;stroke:#1f77b4;stroke-linecap:square;stroke-width:1.5;\"/>\r\n   </g>\r\n   <g id=\"line2d_109\">\r\n    <path clip-path=\"url(#p72b5b8e2a2)\" d=\"M 54.606838 21.734435 \r\nL 72.723722 68.053524 \r\nL 90.840605 120.952157 \r\nL 108.957488 131.795574 \r\nL 127.074371 90.614388 \r\nL 145.191254 35.270391 \r\nL 163.308137 16.646599 \r\nL 181.42502 51.865641 \r\n\" style=\"fill:none;stroke:#ff7f0e;stroke-dasharray:5.55,2.4;stroke-dashoffset:0;stroke-width:1.5;\"/>\r\n   </g>\r\n   <g id=\"line2d_110\">\r\n    <path clip-path=\"url(#p72b5b8e2a2)\" d=\"M 47.360085 72.119537 \r\nL 50.983462 59.912146 \r\nL 54.606838 48.314628 \r\nL 58.230215 37.78934 \r\nL 61.853592 28.755892 \r\nL 65.476968 21.574419 \r\nL 69.100345 16.531223 \r\nL 72.723722 13.827361 \r\nL 76.347098 13.570628 \r\nL 79.970475 15.771258 \r\nL 83.593851 20.341519 \r\nL 87.217228 27.09921 \r\nL 90.840605 35.774922 \r\nL 94.463981 46.022783 \r\nL 98.087358 57.434242 \r\nL 101.710735 69.554361 \r\nL 105.334111 81.899948 \r\nL 108.957488 93.978825 \r\nL 112.580864 105.309443 \r\nL 116.204241 115.440089 \r\nL 119.827618 123.966884 \r\nL 123.450994 130.549892 \r\nL 127.074371 134.926669 \r\nL 130.697748 136.922727 \r\nL 134.321124 136.45849 \r\nL 137.944501 133.552465 \r\nL 141.567877 128.320507 \r\nL 145.191254 120.971196 \r\nL 148.814631 111.797527 \r\nL 152.438007 101.165225 \r\nL 156.061384 89.498166 \r\nL 159.684761 77.26148 \r\nL 163.308137 64.943003 \r\nL 166.931514 53.033836 \r\nL 170.55489 42.008758 \r\nL 174.178267 32.307306 \r\nL 177.801644 24.316244 \r\nL 181.42502 18.354153 \r\nL 185.048397 14.65872 \r\nL 188.671774 13.377273 \r\nL 192.29515 14.560897 \r\nL 195.918527 18.162406 \r\n\" style=\"fill:none;stroke:#1f77b4;stroke-linecap:square;stroke-width:1.5;\"/>\r\n   </g>\r\n   <g id=\"line2d_111\">\r\n    <path clip-path=\"url(#p72b5b8e2a2)\" d=\"M 54.606838 21.734435 \r\nL 72.723722 68.053524 \r\nL 90.840605 120.952157 \r\nL 108.957488 131.795574 \r\nL 127.074371 90.614388 \r\nL 145.191254 35.270391 \r\nL 163.308137 16.646599 \r\nL 181.42502 51.865641 \r\n\" style=\"fill:none;stroke:#ff7f0e;stroke-dasharray:5.55,2.4;stroke-dashoffset:0;stroke-width:1.5;\"/>\r\n   </g>\r\n   <g id=\"line2d_112\">\r\n    <path clip-path=\"url(#p72b5b8e2a2)\" d=\"M 47.360085 72.119537 \r\nL 50.983462 59.912146 \r\nL 54.606838 48.314628 \r\nL 58.230215 37.78934 \r\nL 61.853592 28.755892 \r\nL 65.476968 21.574419 \r\nL 69.100345 16.531223 \r\nL 72.723722 13.827361 \r\nL 76.347098 13.570628 \r\nL 79.970475 15.771258 \r\nL 83.593851 20.341519 \r\nL 87.217228 27.09921 \r\nL 90.840605 35.774922 \r\nL 94.463981 46.022783 \r\nL 98.087358 57.434242 \r\nL 101.710735 69.554361 \r\nL 105.334111 81.899948 \r\nL 108.957488 93.978825 \r\nL 112.580864 105.309443 \r\nL 116.204241 115.440089 \r\nL 119.827618 123.966884 \r\nL 123.450994 130.549892 \r\nL 127.074371 134.926669 \r\nL 130.697748 136.922727 \r\nL 134.321124 136.45849 \r\nL 137.944501 133.552465 \r\nL 141.567877 128.320507 \r\nL 145.191254 120.971196 \r\nL 148.814631 111.797527 \r\nL 152.438007 101.165225 \r\nL 156.061384 89.498166 \r\nL 159.684761 77.26148 \r\nL 163.308137 64.943003 \r\nL 166.931514 53.033836 \r\nL 170.55489 42.008758 \r\nL 174.178267 32.307306 \r\nL 177.801644 24.316244 \r\nL 181.42502 18.354153 \r\nL 185.048397 14.65872 \r\nL 188.671774 13.377273 \r\nL 192.29515 14.560897 \r\nL 195.918527 18.162406 \r\nL 199.541903 24.038219 \r\n\" style=\"fill:none;stroke:#1f77b4;stroke-linecap:square;stroke-width:1.5;\"/>\r\n   </g>\r\n   <g id=\"line2d_113\">\r\n    <path clip-path=\"url(#p72b5b8e2a2)\" d=\"M 54.606838 21.734435 \r\nL 72.723722 68.053524 \r\nL 90.840605 120.952157 \r\nL 108.957488 131.795574 \r\nL 127.074371 90.614388 \r\nL 145.191254 35.270391 \r\nL 163.308137 16.646599 \r\nL 181.42502 51.865641 \r\n\" style=\"fill:none;stroke:#ff7f0e;stroke-dasharray:5.55,2.4;stroke-dashoffset:0;stroke-width:1.5;\"/>\r\n   </g>\r\n   <g id=\"line2d_114\">\r\n    <path clip-path=\"url(#p72b5b8e2a2)\" d=\"M 47.360085 72.119537 \r\nL 50.983462 59.912146 \r\nL 54.606838 48.314628 \r\nL 58.230215 37.78934 \r\nL 61.853592 28.755892 \r\nL 65.476968 21.574419 \r\nL 69.100345 16.531223 \r\nL 72.723722 13.827361 \r\nL 76.347098 13.570628 \r\nL 79.970475 15.771258 \r\nL 83.593851 20.341519 \r\nL 87.217228 27.09921 \r\nL 90.840605 35.774922 \r\nL 94.463981 46.022783 \r\nL 98.087358 57.434242 \r\nL 101.710735 69.554361 \r\nL 105.334111 81.899948 \r\nL 108.957488 93.978825 \r\nL 112.580864 105.309443 \r\nL 116.204241 115.440089 \r\nL 119.827618 123.966884 \r\nL 123.450994 130.549892 \r\nL 127.074371 134.926669 \r\nL 130.697748 136.922727 \r\nL 134.321124 136.45849 \r\nL 137.944501 133.552465 \r\nL 141.567877 128.320507 \r\nL 145.191254 120.971196 \r\nL 148.814631 111.797527 \r\nL 152.438007 101.165225 \r\nL 156.061384 89.498166 \r\nL 159.684761 77.26148 \r\nL 163.308137 64.943003 \r\nL 166.931514 53.033836 \r\nL 170.55489 42.008758 \r\nL 174.178267 32.307306 \r\nL 177.801644 24.316244 \r\nL 181.42502 18.354153 \r\nL 185.048397 14.65872 \r\nL 188.671774 13.377273 \r\nL 192.29515 14.560897 \r\nL 195.918527 18.162406 \r\nL 199.541903 24.038219 \r\nL 203.16528 31.954085 \r\n\" style=\"fill:none;stroke:#1f77b4;stroke-linecap:square;stroke-width:1.5;\"/>\r\n   </g>\r\n   <g id=\"line2d_115\">\r\n    <path clip-path=\"url(#p72b5b8e2a2)\" d=\"M 54.606838 21.734435 \r\nL 72.723722 68.053524 \r\nL 90.840605 120.952157 \r\nL 108.957488 131.795574 \r\nL 127.074371 90.614388 \r\nL 145.191254 35.270391 \r\nL 163.308137 16.646599 \r\nL 181.42502 51.865641 \r\n\" style=\"fill:none;stroke:#ff7f0e;stroke-dasharray:5.55,2.4;stroke-dashoffset:0;stroke-width:1.5;\"/>\r\n   </g>\r\n   <g id=\"line2d_116\">\r\n    <path clip-path=\"url(#p72b5b8e2a2)\" d=\"M 47.360085 72.119537 \r\nL 50.983462 59.912146 \r\nL 54.606838 48.314628 \r\nL 58.230215 37.78934 \r\nL 61.853592 28.755892 \r\nL 65.476968 21.574419 \r\nL 69.100345 16.531223 \r\nL 72.723722 13.827361 \r\nL 76.347098 13.570628 \r\nL 79.970475 15.771258 \r\nL 83.593851 20.341519 \r\nL 87.217228 27.09921 \r\nL 90.840605 35.774922 \r\nL 94.463981 46.022783 \r\nL 98.087358 57.434242 \r\nL 101.710735 69.554361 \r\nL 105.334111 81.899948 \r\nL 108.957488 93.978825 \r\nL 112.580864 105.309443 \r\nL 116.204241 115.440089 \r\nL 119.827618 123.966884 \r\nL 123.450994 130.549892 \r\nL 127.074371 134.926669 \r\nL 130.697748 136.922727 \r\nL 134.321124 136.45849 \r\nL 137.944501 133.552465 \r\nL 141.567877 128.320507 \r\nL 145.191254 120.971196 \r\nL 148.814631 111.797527 \r\nL 152.438007 101.165225 \r\nL 156.061384 89.498166 \r\nL 159.684761 77.26148 \r\nL 163.308137 64.943003 \r\nL 166.931514 53.033836 \r\nL 170.55489 42.008758 \r\nL 174.178267 32.307306 \r\nL 177.801644 24.316244 \r\nL 181.42502 18.354153 \r\nL 185.048397 14.65872 \r\nL 188.671774 13.377273 \r\nL 192.29515 14.560897 \r\nL 195.918527 18.162406 \r\nL 199.541903 24.038219 \r\nL 203.16528 31.954085 \r\nL 206.788657 41.594424 \r\n\" style=\"fill:none;stroke:#1f77b4;stroke-linecap:square;stroke-width:1.5;\"/>\r\n   </g>\r\n   <g id=\"line2d_117\">\r\n    <path clip-path=\"url(#p72b5b8e2a2)\" d=\"M 54.606838 21.734435 \r\nL 72.723722 68.053524 \r\nL 90.840605 120.952157 \r\nL 108.957488 131.795574 \r\nL 127.074371 90.614388 \r\nL 145.191254 35.270391 \r\nL 163.308137 16.646599 \r\nL 181.42502 51.865641 \r\n\" style=\"fill:none;stroke:#ff7f0e;stroke-dasharray:5.55,2.4;stroke-dashoffset:0;stroke-width:1.5;\"/>\r\n   </g>\r\n   <g id=\"line2d_118\">\r\n    <path clip-path=\"url(#p72b5b8e2a2)\" d=\"M 47.360085 72.119537 \r\nL 50.983462 59.912146 \r\nL 54.606838 48.314628 \r\nL 58.230215 37.78934 \r\nL 61.853592 28.755892 \r\nL 65.476968 21.574419 \r\nL 69.100345 16.531223 \r\nL 72.723722 13.827361 \r\nL 76.347098 13.570628 \r\nL 79.970475 15.771258 \r\nL 83.593851 20.341519 \r\nL 87.217228 27.09921 \r\nL 90.840605 35.774922 \r\nL 94.463981 46.022783 \r\nL 98.087358 57.434242 \r\nL 101.710735 69.554361 \r\nL 105.334111 81.899948 \r\nL 108.957488 93.978825 \r\nL 112.580864 105.309443 \r\nL 116.204241 115.440089 \r\nL 119.827618 123.966884 \r\nL 123.450994 130.549892 \r\nL 127.074371 134.926669 \r\nL 130.697748 136.922727 \r\nL 134.321124 136.45849 \r\nL 137.944501 133.552465 \r\nL 141.567877 128.320507 \r\nL 145.191254 120.971196 \r\nL 148.814631 111.797527 \r\nL 152.438007 101.165225 \r\nL 156.061384 89.498166 \r\nL 159.684761 77.26148 \r\nL 163.308137 64.943003 \r\nL 166.931514 53.033836 \r\nL 170.55489 42.008758 \r\nL 174.178267 32.307306 \r\nL 177.801644 24.316244 \r\nL 181.42502 18.354153 \r\nL 185.048397 14.65872 \r\nL 188.671774 13.377273 \r\nL 192.29515 14.560897 \r\nL 195.918527 18.162406 \r\nL 199.541903 24.038219 \r\nL 203.16528 31.954085 \r\nL 206.788657 41.594424 \r\n\" style=\"fill:none;stroke:#1f77b4;stroke-linecap:square;stroke-width:1.5;\"/>\r\n   </g>\r\n   <g id=\"line2d_119\">\r\n    <path clip-path=\"url(#p72b5b8e2a2)\" d=\"M 54.606838 21.734435 \r\nL 72.723722 68.053524 \r\nL 90.840605 120.952157 \r\nL 108.957488 131.795574 \r\nL 127.074371 90.614388 \r\nL 145.191254 35.270391 \r\nL 163.308137 16.646599 \r\nL 181.42502 51.865641 \r\nL 199.541903 108.547291 \r\n\" style=\"fill:none;stroke:#ff7f0e;stroke-dasharray:5.55,2.4;stroke-dashoffset:0;stroke-width:1.5;\"/>\r\n   </g>\r\n   <g id=\"line2d_120\">\r\n    <path clip-path=\"url(#p72b5b8e2a2)\" d=\"M 47.360085 72.119537 \r\nL 50.983462 59.912146 \r\nL 54.606838 48.314628 \r\nL 58.230215 37.78934 \r\nL 61.853592 28.755892 \r\nL 65.476968 21.574419 \r\nL 69.100345 16.531223 \r\nL 72.723722 13.827361 \r\nL 76.347098 13.570628 \r\nL 79.970475 15.771258 \r\nL 83.593851 20.341519 \r\nL 87.217228 27.09921 \r\nL 90.840605 35.774922 \r\nL 94.463981 46.022783 \r\nL 98.087358 57.434242 \r\nL 101.710735 69.554361 \r\nL 105.334111 81.899948 \r\nL 108.957488 93.978825 \r\nL 112.580864 105.309443 \r\nL 116.204241 115.440089 \r\nL 119.827618 123.966884 \r\nL 123.450994 130.549892 \r\nL 127.074371 134.926669 \r\nL 130.697748 136.922727 \r\nL 134.321124 136.45849 \r\nL 137.944501 133.552465 \r\nL 141.567877 128.320507 \r\nL 145.191254 120.971196 \r\nL 148.814631 111.797527 \r\nL 152.438007 101.165225 \r\nL 156.061384 89.498166 \r\nL 159.684761 77.26148 \r\nL 163.308137 64.943003 \r\nL 166.931514 53.033836 \r\nL 170.55489 42.008758 \r\nL 174.178267 32.307306 \r\nL 177.801644 24.316244 \r\nL 181.42502 18.354153 \r\nL 185.048397 14.65872 \r\nL 188.671774 13.377273 \r\nL 192.29515 14.560897 \r\nL 195.918527 18.162406 \r\nL 199.541903 24.038219 \r\nL 203.16528 31.954085 \r\nL 206.788657 41.594424 \r\nL 210.412033 52.574907 \r\n\" style=\"fill:none;stroke:#1f77b4;stroke-linecap:square;stroke-width:1.5;\"/>\r\n   </g>\r\n   <g id=\"line2d_121\">\r\n    <path clip-path=\"url(#p72b5b8e2a2)\" d=\"M 54.606838 21.734435 \r\nL 72.723722 68.053524 \r\nL 90.840605 120.952157 \r\nL 108.957488 131.795574 \r\nL 127.074371 90.614388 \r\nL 145.191254 35.270391 \r\nL 163.308137 16.646599 \r\nL 181.42502 51.865641 \r\nL 199.541903 108.547291 \r\n\" style=\"fill:none;stroke:#ff7f0e;stroke-dasharray:5.55,2.4;stroke-dashoffset:0;stroke-width:1.5;\"/>\r\n   </g>\r\n   <g id=\"line2d_122\">\r\n    <path clip-path=\"url(#p72b5b8e2a2)\" d=\"M 47.360085 72.119537 \r\nL 50.983462 59.912146 \r\nL 54.606838 48.314628 \r\nL 58.230215 37.78934 \r\nL 61.853592 28.755892 \r\nL 65.476968 21.574419 \r\nL 69.100345 16.531223 \r\nL 72.723722 13.827361 \r\nL 76.347098 13.570628 \r\nL 79.970475 15.771258 \r\nL 83.593851 20.341519 \r\nL 87.217228 27.09921 \r\nL 90.840605 35.774922 \r\nL 94.463981 46.022783 \r\nL 98.087358 57.434242 \r\nL 101.710735 69.554361 \r\nL 105.334111 81.899948 \r\nL 108.957488 93.978825 \r\nL 112.580864 105.309443 \r\nL 116.204241 115.440089 \r\nL 119.827618 123.966884 \r\nL 123.450994 130.549892 \r\nL 127.074371 134.926669 \r\nL 130.697748 136.922727 \r\nL 134.321124 136.45849 \r\nL 137.944501 133.552465 \r\nL 141.567877 128.320507 \r\nL 145.191254 120.971196 \r\nL 148.814631 111.797527 \r\nL 152.438007 101.165225 \r\nL 156.061384 89.498166 \r\nL 159.684761 77.26148 \r\nL 163.308137 64.943003 \r\nL 166.931514 53.033836 \r\nL 170.55489 42.008758 \r\nL 174.178267 32.307306 \r\nL 177.801644 24.316244 \r\nL 181.42502 18.354153 \r\nL 185.048397 14.65872 \r\nL 188.671774 13.377273 \r\nL 192.29515 14.560897 \r\nL 195.918527 18.162406 \r\nL 199.541903 24.038219 \r\nL 203.16528 31.954085 \r\nL 206.788657 41.594424 \r\nL 210.412033 52.574907 \r\nL 214.03541 64.457775 \r\n\" style=\"fill:none;stroke:#1f77b4;stroke-linecap:square;stroke-width:1.5;\"/>\r\n   </g>\r\n   <g id=\"line2d_123\">\r\n    <path clip-path=\"url(#p72b5b8e2a2)\" d=\"M 54.606838 21.734435 \r\nL 72.723722 68.053524 \r\nL 90.840605 120.952157 \r\nL 108.957488 131.795574 \r\nL 127.074371 90.614388 \r\nL 145.191254 35.270391 \r\nL 163.308137 16.646599 \r\nL 181.42502 51.865641 \r\nL 199.541903 108.547291 \r\n\" style=\"fill:none;stroke:#ff7f0e;stroke-dasharray:5.55,2.4;stroke-dashoffset:0;stroke-width:1.5;\"/>\r\n   </g>\r\n   <g id=\"line2d_124\">\r\n    <path clip-path=\"url(#p72b5b8e2a2)\" d=\"M 47.360085 72.119537 \r\nL 50.983462 59.912146 \r\nL 54.606838 48.314628 \r\nL 58.230215 37.78934 \r\nL 61.853592 28.755892 \r\nL 65.476968 21.574419 \r\nL 69.100345 16.531223 \r\nL 72.723722 13.827361 \r\nL 76.347098 13.570628 \r\nL 79.970475 15.771258 \r\nL 83.593851 20.341519 \r\nL 87.217228 27.09921 \r\nL 90.840605 35.774922 \r\nL 94.463981 46.022783 \r\nL 98.087358 57.434242 \r\nL 101.710735 69.554361 \r\nL 105.334111 81.899948 \r\nL 108.957488 93.978825 \r\nL 112.580864 105.309443 \r\nL 116.204241 115.440089 \r\nL 119.827618 123.966884 \r\nL 123.450994 130.549892 \r\nL 127.074371 134.926669 \r\nL 130.697748 136.922727 \r\nL 134.321124 136.45849 \r\nL 137.944501 133.552465 \r\nL 141.567877 128.320507 \r\nL 145.191254 120.971196 \r\nL 148.814631 111.797527 \r\nL 152.438007 101.165225 \r\nL 156.061384 89.498166 \r\nL 159.684761 77.26148 \r\nL 163.308137 64.943003 \r\nL 166.931514 53.033836 \r\nL 170.55489 42.008758 \r\nL 174.178267 32.307306 \r\nL 177.801644 24.316244 \r\nL 181.42502 18.354153 \r\nL 185.048397 14.65872 \r\nL 188.671774 13.377273 \r\nL 192.29515 14.560897 \r\nL 195.918527 18.162406 \r\nL 199.541903 24.038219 \r\nL 203.16528 31.954085 \r\nL 206.788657 41.594424 \r\nL 210.412033 52.574907 \r\nL 214.03541 64.457775 \r\nL 217.658787 76.769297 \r\n\" style=\"fill:none;stroke:#1f77b4;stroke-linecap:square;stroke-width:1.5;\"/>\r\n   </g>\r\n   <g id=\"line2d_125\">\r\n    <path clip-path=\"url(#p72b5b8e2a2)\" d=\"M 54.606838 21.734435 \r\nL 72.723722 68.053524 \r\nL 90.840605 120.952157 \r\nL 108.957488 131.795574 \r\nL 127.074371 90.614388 \r\nL 145.191254 35.270391 \r\nL 163.308137 16.646599 \r\nL 181.42502 51.865641 \r\nL 199.541903 108.547291 \r\n\" style=\"fill:none;stroke:#ff7f0e;stroke-dasharray:5.55,2.4;stroke-dashoffset:0;stroke-width:1.5;\"/>\r\n   </g>\r\n   <g id=\"line2d_126\">\r\n    <path clip-path=\"url(#p72b5b8e2a2)\" d=\"M 47.360085 72.119537 \r\nL 50.983462 59.912146 \r\nL 54.606838 48.314628 \r\nL 58.230215 37.78934 \r\nL 61.853592 28.755892 \r\nL 65.476968 21.574419 \r\nL 69.100345 16.531223 \r\nL 72.723722 13.827361 \r\nL 76.347098 13.570628 \r\nL 79.970475 15.771258 \r\nL 83.593851 20.341519 \r\nL 87.217228 27.09921 \r\nL 90.840605 35.774922 \r\nL 94.463981 46.022783 \r\nL 98.087358 57.434242 \r\nL 101.710735 69.554361 \r\nL 105.334111 81.899948 \r\nL 108.957488 93.978825 \r\nL 112.580864 105.309443 \r\nL 116.204241 115.440089 \r\nL 119.827618 123.966884 \r\nL 123.450994 130.549892 \r\nL 127.074371 134.926669 \r\nL 130.697748 136.922727 \r\nL 134.321124 136.45849 \r\nL 137.944501 133.552465 \r\nL 141.567877 128.320507 \r\nL 145.191254 120.971196 \r\nL 148.814631 111.797527 \r\nL 152.438007 101.165225 \r\nL 156.061384 89.498166 \r\nL 159.684761 77.26148 \r\nL 163.308137 64.943003 \r\nL 166.931514 53.033836 \r\nL 170.55489 42.008758 \r\nL 174.178267 32.307306 \r\nL 177.801644 24.316244 \r\nL 181.42502 18.354153 \r\nL 185.048397 14.65872 \r\nL 188.671774 13.377273 \r\nL 192.29515 14.560897 \r\nL 195.918527 18.162406 \r\nL 199.541903 24.038219 \r\nL 203.16528 31.954085 \r\nL 206.788657 41.594424 \r\nL 210.412033 52.574907 \r\nL 214.03541 64.457775 \r\nL 217.658787 76.769297 \r\nL 221.282163 89.018651 \r\n\" style=\"fill:none;stroke:#1f77b4;stroke-linecap:square;stroke-width:1.5;\"/>\r\n   </g>\r\n   <g id=\"line2d_127\">\r\n    <path clip-path=\"url(#p72b5b8e2a2)\" d=\"M 54.606838 21.734435 \r\nL 72.723722 68.053524 \r\nL 90.840605 120.952157 \r\nL 108.957488 131.795574 \r\nL 127.074371 90.614388 \r\nL 145.191254 35.270391 \r\nL 163.308137 16.646599 \r\nL 181.42502 51.865641 \r\nL 199.541903 108.547291 \r\n\" style=\"fill:none;stroke:#ff7f0e;stroke-dasharray:5.55,2.4;stroke-dashoffset:0;stroke-width:1.5;\"/>\r\n   </g>\r\n   <g id=\"line2d_128\">\r\n    <path clip-path=\"url(#p72b5b8e2a2)\" d=\"M 47.360085 72.119537 \r\nL 50.983462 59.912146 \r\nL 54.606838 48.314628 \r\nL 58.230215 37.78934 \r\nL 61.853592 28.755892 \r\nL 65.476968 21.574419 \r\nL 69.100345 16.531223 \r\nL 72.723722 13.827361 \r\nL 76.347098 13.570628 \r\nL 79.970475 15.771258 \r\nL 83.593851 20.341519 \r\nL 87.217228 27.09921 \r\nL 90.840605 35.774922 \r\nL 94.463981 46.022783 \r\nL 98.087358 57.434242 \r\nL 101.710735 69.554361 \r\nL 105.334111 81.899948 \r\nL 108.957488 93.978825 \r\nL 112.580864 105.309443 \r\nL 116.204241 115.440089 \r\nL 119.827618 123.966884 \r\nL 123.450994 130.549892 \r\nL 127.074371 134.926669 \r\nL 130.697748 136.922727 \r\nL 134.321124 136.45849 \r\nL 137.944501 133.552465 \r\nL 141.567877 128.320507 \r\nL 145.191254 120.971196 \r\nL 148.814631 111.797527 \r\nL 152.438007 101.165225 \r\nL 156.061384 89.498166 \r\nL 159.684761 77.26148 \r\nL 163.308137 64.943003 \r\nL 166.931514 53.033836 \r\nL 170.55489 42.008758 \r\nL 174.178267 32.307306 \r\nL 177.801644 24.316244 \r\nL 181.42502 18.354153 \r\nL 185.048397 14.65872 \r\nL 188.671774 13.377273 \r\nL 192.29515 14.560897 \r\nL 195.918527 18.162406 \r\nL 199.541903 24.038219 \r\nL 203.16528 31.954085 \r\nL 206.788657 41.594424 \r\nL 210.412033 52.574907 \r\nL 214.03541 64.457775 \r\nL 217.658787 76.769297 \r\nL 221.282163 89.018651 \r\nL 224.90554 100.717494 \r\n\" style=\"fill:none;stroke:#1f77b4;stroke-linecap:square;stroke-width:1.5;\"/>\r\n   </g>\r\n   <g id=\"line2d_129\">\r\n    <path clip-path=\"url(#p72b5b8e2a2)\" d=\"M 54.606838 21.734435 \r\nL 72.723722 68.053524 \r\nL 90.840605 120.952157 \r\nL 108.957488 131.795574 \r\nL 127.074371 90.614388 \r\nL 145.191254 35.270391 \r\nL 163.308137 16.646599 \r\nL 181.42502 51.865641 \r\nL 199.541903 108.547291 \r\n\" style=\"fill:none;stroke:#ff7f0e;stroke-dasharray:5.55,2.4;stroke-dashoffset:0;stroke-width:1.5;\"/>\r\n   </g>\r\n   <g id=\"line2d_130\">\r\n    <path clip-path=\"url(#p72b5b8e2a2)\" d=\"M 47.360085 72.119537 \r\nL 50.983462 59.912146 \r\nL 54.606838 48.314628 \r\nL 58.230215 37.78934 \r\nL 61.853592 28.755892 \r\nL 65.476968 21.574419 \r\nL 69.100345 16.531223 \r\nL 72.723722 13.827361 \r\nL 76.347098 13.570628 \r\nL 79.970475 15.771258 \r\nL 83.593851 20.341519 \r\nL 87.217228 27.09921 \r\nL 90.840605 35.774922 \r\nL 94.463981 46.022783 \r\nL 98.087358 57.434242 \r\nL 101.710735 69.554361 \r\nL 105.334111 81.899948 \r\nL 108.957488 93.978825 \r\nL 112.580864 105.309443 \r\nL 116.204241 115.440089 \r\nL 119.827618 123.966884 \r\nL 123.450994 130.549892 \r\nL 127.074371 134.926669 \r\nL 130.697748 136.922727 \r\nL 134.321124 136.45849 \r\nL 137.944501 133.552465 \r\nL 141.567877 128.320507 \r\nL 145.191254 120.971196 \r\nL 148.814631 111.797527 \r\nL 152.438007 101.165225 \r\nL 156.061384 89.498166 \r\nL 159.684761 77.26148 \r\nL 163.308137 64.943003 \r\nL 166.931514 53.033836 \r\nL 170.55489 42.008758 \r\nL 174.178267 32.307306 \r\nL 177.801644 24.316244 \r\nL 181.42502 18.354153 \r\nL 185.048397 14.65872 \r\nL 188.671774 13.377273 \r\nL 192.29515 14.560897 \r\nL 195.918527 18.162406 \r\nL 199.541903 24.038219 \r\nL 203.16528 31.954085 \r\nL 206.788657 41.594424 \r\nL 210.412033 52.574907 \r\nL 214.03541 64.457775 \r\nL 217.658787 76.769297 \r\nL 221.282163 89.018651 \r\nL 224.90554 100.717494 \r\n\" style=\"fill:none;stroke:#1f77b4;stroke-linecap:square;stroke-width:1.5;\"/>\r\n   </g>\r\n   <g id=\"line2d_131\">\r\n    <path clip-path=\"url(#p72b5b8e2a2)\" d=\"M 54.606838 21.734435 \r\nL 72.723722 68.053524 \r\nL 90.840605 120.952157 \r\nL 108.957488 131.795574 \r\nL 127.074371 90.614388 \r\nL 145.191254 35.270391 \r\nL 163.308137 16.646599 \r\nL 181.42502 51.865641 \r\nL 199.541903 108.547291 \r\nL 217.658787 134.578702 \r\n\" style=\"fill:none;stroke:#ff7f0e;stroke-dasharray:5.55,2.4;stroke-dashoffset:0;stroke-width:1.5;\"/>\r\n   </g>\r\n   <g id=\"patch_3\">\r\n    <path d=\"M 38.482813 143.1 \r\nL 38.482813 7.2 \r\n\" style=\"fill:none;stroke:#000000;stroke-linecap:square;stroke-linejoin:miter;stroke-width:0.8;\"/>\r\n   </g>\r\n   <g id=\"patch_4\">\r\n    <path d=\"M 233.782813 143.1 \r\nL 233.782813 7.2 \r\n\" style=\"fill:none;stroke:#000000;stroke-linecap:square;stroke-linejoin:miter;stroke-width:0.8;\"/>\r\n   </g>\r\n   <g id=\"patch_5\">\r\n    <path d=\"M 38.482813 143.1 \r\nL 233.782813 143.1 \r\n\" style=\"fill:none;stroke:#000000;stroke-linecap:square;stroke-linejoin:miter;stroke-width:0.8;\"/>\r\n   </g>\r\n   <g id=\"patch_6\">\r\n    <path d=\"M 38.482813 7.2 \r\nL 233.782813 7.2 \r\n\" style=\"fill:none;stroke:#000000;stroke-linecap:square;stroke-linejoin:miter;stroke-width:0.8;\"/>\r\n   </g>\r\n   <g id=\"legend_1\">\r\n    <g id=\"patch_7\">\r\n     <path d=\"M 177.95625 138.1 \r\nL 226.782813 138.1 \r\nQ 228.782813 138.1 228.782813 136.1 \r\nL 228.782813 107.74375 \r\nQ 228.782813 105.74375 226.782813 105.74375 \r\nL 177.95625 105.74375 \r\nQ 175.95625 105.74375 175.95625 107.74375 \r\nL 175.95625 136.1 \r\nQ 175.95625 138.1 177.95625 138.1 \r\nz\r\n\" style=\"fill:#ffffff;opacity:0.8;stroke:#cccccc;stroke-linejoin:miter;\"/>\r\n    </g>\r\n    <g id=\"line2d_132\">\r\n     <path d=\"M 179.95625 113.842187 \r\nL 199.95625 113.842187 \r\n\" style=\"fill:none;stroke:#1f77b4;stroke-linecap:square;stroke-width:1.5;\"/>\r\n    </g>\r\n    <g id=\"line2d_133\"/>\r\n    <g id=\"text_13\">\r\n     <!-- sin -->\r\n     <g transform=\"translate(207.95625 117.342187)scale(0.1 -0.1)\">\r\n      <defs>\r\n       <path d=\"M 2834 3397 \r\nL 2834 2853 \r\nQ 2591 2978 2328 3040 \r\nQ 2066 3103 1784 3103 \r\nQ 1356 3103 1142 2972 \r\nQ 928 2841 928 2578 \r\nQ 928 2378 1081 2264 \r\nQ 1234 2150 1697 2047 \r\nL 1894 2003 \r\nQ 2506 1872 2764 1633 \r\nQ 3022 1394 3022 966 \r\nQ 3022 478 2636 193 \r\nQ 2250 -91 1575 -91 \r\nQ 1294 -91 989 -36 \r\nQ 684 19 347 128 \r\nL 347 722 \r\nQ 666 556 975 473 \r\nQ 1284 391 1588 391 \r\nQ 1994 391 2212 530 \r\nQ 2431 669 2431 922 \r\nQ 2431 1156 2273 1281 \r\nQ 2116 1406 1581 1522 \r\nL 1381 1569 \r\nQ 847 1681 609 1914 \r\nQ 372 2147 372 2553 \r\nQ 372 3047 722 3315 \r\nQ 1072 3584 1716 3584 \r\nQ 2034 3584 2315 3537 \r\nQ 2597 3491 2834 3397 \r\nz\r\n\" id=\"DejaVuSans-73\" transform=\"scale(0.015625)\"/>\r\n       <path d=\"M 603 3500 \r\nL 1178 3500 \r\nL 1178 0 \r\nL 603 0 \r\nL 603 3500 \r\nz\r\nM 603 4863 \r\nL 1178 4863 \r\nL 1178 4134 \r\nL 603 4134 \r\nL 603 4863 \r\nz\r\n\" id=\"DejaVuSans-69\" transform=\"scale(0.015625)\"/>\r\n       <path d=\"M 3513 2113 \r\nL 3513 0 \r\nL 2938 0 \r\nL 2938 2094 \r\nQ 2938 2591 2744 2837 \r\nQ 2550 3084 2163 3084 \r\nQ 1697 3084 1428 2787 \r\nQ 1159 2491 1159 1978 \r\nL 1159 0 \r\nL 581 0 \r\nL 581 3500 \r\nL 1159 3500 \r\nL 1159 2956 \r\nQ 1366 3272 1645 3428 \r\nQ 1925 3584 2291 3584 \r\nQ 2894 3584 3203 3211 \r\nQ 3513 2838 3513 2113 \r\nz\r\n\" id=\"DejaVuSans-6e\" transform=\"scale(0.015625)\"/>\r\n      </defs>\r\n      <use xlink:href=\"#DejaVuSans-73\"/>\r\n      <use x=\"52.099609\" xlink:href=\"#DejaVuSans-69\"/>\r\n      <use x=\"79.882812\" xlink:href=\"#DejaVuSans-6e\"/>\r\n     </g>\r\n    </g>\r\n    <g id=\"line2d_134\">\r\n     <path d=\"M 179.95625 128.520312 \r\nL 199.95625 128.520312 \r\n\" style=\"fill:none;stroke:#ff7f0e;stroke-dasharray:5.55,2.4;stroke-dashoffset:0;stroke-width:1.5;\"/>\r\n    </g>\r\n    <g id=\"line2d_135\"/>\r\n    <g id=\"text_14\">\r\n     <!-- cos -->\r\n     <g transform=\"translate(207.95625 132.020312)scale(0.1 -0.1)\">\r\n      <defs>\r\n       <path d=\"M 3122 3366 \r\nL 3122 2828 \r\nQ 2878 2963 2633 3030 \r\nQ 2388 3097 2138 3097 \r\nQ 1578 3097 1268 2742 \r\nQ 959 2388 959 1747 \r\nQ 959 1106 1268 751 \r\nQ 1578 397 2138 397 \r\nQ 2388 397 2633 464 \r\nQ 2878 531 3122 666 \r\nL 3122 134 \r\nQ 2881 22 2623 -34 \r\nQ 2366 -91 2075 -91 \r\nQ 1284 -91 818 406 \r\nQ 353 903 353 1747 \r\nQ 353 2603 823 3093 \r\nQ 1294 3584 2113 3584 \r\nQ 2378 3584 2631 3529 \r\nQ 2884 3475 3122 3366 \r\nz\r\n\" id=\"DejaVuSans-63\" transform=\"scale(0.015625)\"/>\r\n       <path d=\"M 1959 3097 \r\nQ 1497 3097 1228 2736 \r\nQ 959 2375 959 1747 \r\nQ 959 1119 1226 758 \r\nQ 1494 397 1959 397 \r\nQ 2419 397 2687 759 \r\nQ 2956 1122 2956 1747 \r\nQ 2956 2369 2687 2733 \r\nQ 2419 3097 1959 3097 \r\nz\r\nM 1959 3584 \r\nQ 2709 3584 3137 3096 \r\nQ 3566 2609 3566 1747 \r\nQ 3566 888 3137 398 \r\nQ 2709 -91 1959 -91 \r\nQ 1206 -91 779 398 \r\nQ 353 888 353 1747 \r\nQ 353 2609 779 3096 \r\nQ 1206 3584 1959 3584 \r\nz\r\n\" id=\"DejaVuSans-6f\" transform=\"scale(0.015625)\"/>\r\n      </defs>\r\n      <use xlink:href=\"#DejaVuSans-63\"/>\r\n      <use x=\"54.980469\" xlink:href=\"#DejaVuSans-6f\"/>\r\n      <use x=\"116.162109\" xlink:href=\"#DejaVuSans-73\"/>\r\n     </g>\r\n    </g>\r\n   </g>\r\n  </g>\r\n </g>\r\n <defs>\r\n  <clipPath id=\"p72b5b8e2a2\">\r\n   <rect height=\"135.9\" width=\"195.3\" x=\"38.482813\" y=\"7.2\"/>\r\n  </clipPath>\r\n </defs>\r\n</svg>\r\n",
      "text/plain": [
       "<Figure size 252x180 with 1 Axes>"
      ]
     },
     "metadata": {
      "needs_background": "light"
     },
     "output_type": "display_data"
    }
   ],
   "source": [
    "board = d2l.ProgressBoard('x')\n",
    "for x in np.arange(0, 10, 0.1):\n",
    "    board.draw(x, np.sin(x), 'sin', every_n=2)\n",
    "    board.draw(x, np.cos(x), 'cos', every_n=10)"
   ]
  },
  {
   "cell_type": "code",
   "execution_count": 45,
   "metadata": {},
   "outputs": [],
   "source": [
    "class Module(tf.keras.Model, d2l.HyperParameters):  #@save\n",
    "    \"\"\"The base class of models.\"\"\"\n",
    "    def __init__(self, plot_train_per_epoch=2, plot_valid_per_epoch=1):\n",
    "        super().__init__()\n",
    "        self.save_hyperparameters()\n",
    "        self.board = ProgressBoard()\n",
    "        self.training = None\n",
    "\n",
    "    def loss(self, y_hat, y):\n",
    "        raise NotImplementedError\n",
    "\n",
    "    def forward(self, X):\n",
    "        assert hasattr(self, 'net'), 'Neural network is defined'\n",
    "        return self.net(X)\n",
    "\n",
    "    def call(self, X, *args, **kwargs):\n",
    "        if kwargs and \"training\" in kwargs:\n",
    "            self.training = kwargs['training']\n",
    "        return self.forward(X, *args)\n",
    "\n",
    "    def plot(self, key, value, train):\n",
    "        \"\"\"Plot a point in animation.\"\"\"\n",
    "        assert hasattr(self, 'trainer'), 'Trainer is not inited'\n",
    "        self.board.xlabel = 'epoch'\n",
    "        if train:\n",
    "            x = self.trainer.train_batch_idx / \\\n",
    "                self.trainer.num_train_batches\n",
    "            n = self.trainer.num_train_batches / \\\n",
    "                self.plot_train_per_epoch\n",
    "        else:\n",
    "            x = self.trainer.epoch + 1\n",
    "            n = self.trainer.num_val_batches / \\\n",
    "                self.plot_valid_per_epoch\n",
    "        self.board.draw(x, value.numpy(), (\n",
    "            'train_' if train else 'val_') + key, every_n=int(n))\n",
    "    def training_step(self, batch):\n",
    "        l = self.loss(self(*batch[:-1]), batch[-1])\n",
    "        self.plot('loss', l, train=True)\n",
    "        return l\n",
    "\n",
    "    def validation_step(self, batch):\n",
    "        l = self.loss(self(*batch[:-1]), batch[-1])\n",
    "        self.plot('loss', l, train=False)\n",
    "\n",
    "    def configure_optimizers(self):\n",
    "        raise NotImplementedError"
   ]
  },
  {
   "cell_type": "code",
   "execution_count": 46,
   "metadata": {},
   "outputs": [],
   "source": [
    "class DataModule(d2l.HyperParameters):  #@save\n",
    "    \"\"\"The base class of data.\"\"\"\n",
    "    def __init__(self, root='../data'):\n",
    "        self.save_hyperparameters()\n",
    "\n",
    "    def get_dataloader(self, train):\n",
    "        raise NotImplementedError\n",
    "\n",
    "    def train_dataloader(self):\n",
    "        return self.get_dataloader(train=True)\n",
    "\n",
    "    def val_dataloader(self):\n",
    "        return self.get_dataloader(train=False)"
   ]
  },
  {
   "cell_type": "code",
   "execution_count": 47,
   "metadata": {},
   "outputs": [],
   "source": [
    "class Trainer(d2l.HyperParameters):  #@save\n",
    "    \"\"\"The base class for training models with data.\"\"\"\n",
    "    def __init__(self, max_epochs, num_gpus=0, gradient_clip_val=0):\n",
    "        self.save_hyperparameters()\n",
    "        assert num_gpus == 0, 'No GPU support yet'\n",
    "\n",
    "    def prepare_data(self, data):\n",
    "        self.train_dataloader = data.train_dataloader()\n",
    "        self.val_dataloader = data.val_dataloader()\n",
    "        self.num_train_batches = len(self.train_dataloader)\n",
    "        self.num_val_batches = (len(self.val_dataloader)\n",
    "                                if self.val_dataloader is not None else 0)\n",
    "\n",
    "    def prepare_model(self, model):\n",
    "        model.trainer = self\n",
    "        model.board.xlim = [0, self.max_epochs]\n",
    "        self.model = model\n",
    "\n",
    "    def fit(self, model, data):\n",
    "        self.prepare_data(data)\n",
    "        self.prepare_model(model)\n",
    "        self.optim = model.configure_optimizers()\n",
    "        self.epoch = 0\n",
    "        self.train_batch_idx = 0\n",
    "        self.val_batch_idx = 0\n",
    "        for self.epoch in range(self.max_epochs):\n",
    "            self.fit_epoch()\n",
    "\n",
    "    def fit_epoch(self):\n",
    "        raise NotImplementedError"
   ]
  },
  {
   "cell_type": "code",
   "execution_count": 48,
   "metadata": {},
   "outputs": [],
   "source": [
    "%matplotlib inline\n",
    "import random\n",
    "import tensorflow as tf\n",
    "from d2l import tensorflow as d2l"
   ]
  },
  {
   "cell_type": "code",
   "execution_count": 49,
   "metadata": {},
   "outputs": [],
   "source": [
    "class SyntheticRegressionData(d2l.DataModule):  #@save\n",
    "    \"\"\"Synthetic data for linear regression.\"\"\"\n",
    "    def __init__(self, w, b, noise=0.01, num_train=1000, num_val=1000,\n",
    "                 batch_size=32):\n",
    "        super().__init__()\n",
    "        self.save_hyperparameters()\n",
    "        n = num_train + num_val\n",
    "        self.X = tf.random.normal((n, w.shape[0]))\n",
    "        noise = tf.random.normal((n, 1)) * noise\n",
    "        self.y = tf.matmul(self.X, tf.reshape(w, (-1, 1))) + b + noise"
   ]
  },
  {
   "cell_type": "code",
   "execution_count": 50,
   "metadata": {},
   "outputs": [],
   "source": [
    "data = SyntheticRegressionData(w=tf.constant([2, -3.4]), b=4.2)"
   ]
  },
  {
   "cell_type": "code",
   "execution_count": 51,
   "metadata": {},
   "outputs": [
    {
     "name": "stdout",
     "output_type": "stream",
     "text": [
      "features: tf.Tensor([0.30591744 0.03140694], shape=(2,), dtype=float32) \n",
      "label: tf.Tensor([4.719573], shape=(1,), dtype=float32)\n"
     ]
    }
   ],
   "source": [
    "print('features:', data.X[0],'\\nlabel:', data.y[0])"
   ]
  },
  {
   "cell_type": "code",
   "execution_count": 52,
   "metadata": {},
   "outputs": [],
   "source": [
    "@d2l.add_to_class(SyntheticRegressionData)\n",
    "def get_dataloader(self, train):\n",
    "    if train:\n",
    "        indices = list(range(0, self.num_train))\n",
    "        # The examples are read in random order\n",
    "        random.shuffle(indices)\n",
    "    else:\n",
    "        indices = list(range(self.num_train, self.num_train+self.num_val))\n",
    "    for i in range(0, len(indices), self.batch_size):\n",
    "        j = tf.constant(indices[i : i+self.batch_size])\n",
    "        yield tf.gather(self.X, j), tf.gather(self.y, j)"
   ]
  },
  {
   "cell_type": "code",
   "execution_count": 53,
   "metadata": {},
   "outputs": [
    {
     "name": "stdout",
     "output_type": "stream",
     "text": [
      "X shape: (32, 2) \n",
      "y shape: (32, 1)\n"
     ]
    }
   ],
   "source": [
    "X, y = next(iter(data.train_dataloader()))\n",
    "print('X shape:', X.shape, '\\ny shape:', y.shape)"
   ]
  },
  {
   "cell_type": "code",
   "execution_count": 54,
   "metadata": {},
   "outputs": [],
   "source": [
    "@d2l.add_to_class(d2l.DataModule)  #@save\n",
    "def get_tensorloader(self, tensors, train, indices=slice(0, None)):\n",
    "    tensors = tuple(a[indices] for a in tensors)\n",
    "    shuffle_buffer = tensors[0].shape[0] if train else 1\n",
    "    return tf.data.Dataset.from_tensor_slices(tensors).shuffle(\n",
    "        buffer_size=shuffle_buffer).batch(self.batch_size)\n",
    "\n",
    "@d2l.add_to_class(SyntheticRegressionData)  #@save\n",
    "def get_dataloader(self, train):\n",
    "    i = slice(0, self.num_train) if train else slice(self.num_train, None)\n",
    "    return self.get_tensorloader((self.X, self.y), train, i)"
   ]
  },
  {
   "cell_type": "code",
   "execution_count": 55,
   "metadata": {},
   "outputs": [
    {
     "name": "stdout",
     "output_type": "stream",
     "text": [
      "X shape (32, 2) \n",
      "y shape: (32, 1)\n"
     ]
    }
   ],
   "source": [
    "X, y = next(iter(data.train_dataloader()))\n",
    "print('X shape', X.shape, '\\ny shape:', y.shape)"
   ]
  },
  {
   "cell_type": "code",
   "execution_count": 56,
   "metadata": {},
   "outputs": [
    {
     "data": {
      "text/plain": [
       "32"
      ]
     },
     "execution_count": 56,
     "metadata": {},
     "output_type": "execute_result"
    }
   ],
   "source": [
    "len(data.train_dataloader())"
   ]
  },
  {
   "cell_type": "code",
   "execution_count": 57,
   "metadata": {},
   "outputs": [],
   "source": [
    "%matplotlib inline\n",
    "import tensorflow as tf\n",
    "from d2l import tensorflow as d2l"
   ]
  },
  {
   "cell_type": "code",
   "execution_count": 58,
   "metadata": {},
   "outputs": [],
   "source": [
    "class LinearRegressionScratch(d2l.Module):  #@save\n",
    "    \"\"\"The linear regression model implemented from scratch.\"\"\"\n",
    "    def __init__(self, num_inputs, lr, sigma=0.01):\n",
    "        super().__init__()\n",
    "        self.save_hyperparameters()\n",
    "        w = tf.random.normal((num_inputs, 1), mean=0, stddev=0.01)\n",
    "        b = tf.zeros(1)\n",
    "        self.w = tf.Variable(w, trainable=True)\n",
    "        self.b = tf.Variable(b, trainable=True)"
   ]
  },
  {
   "cell_type": "code",
   "execution_count": 59,
   "metadata": {},
   "outputs": [],
   "source": [
    "@d2l.add_to_class(LinearRegressionScratch)  #@save\n",
    "def foward(self, X):\n",
    "    return tf.matmul(X, self.w) + self.b"
   ]
  },
  {
   "cell_type": "code",
   "execution_count": 60,
   "metadata": {},
   "outputs": [],
   "source": [
    "@d2l.add_to_class(LinearRegressionScratch)  #@save\n",
    "def loss(self, y_hat, y):\n",
    "    return tf.reduce_mean()"
   ]
  },
  {
   "cell_type": "code",
   "execution_count": 61,
   "metadata": {},
   "outputs": [],
   "source": [
    "class SGD(d2l.HyperParameters):  #@save\n",
    "    \"\"\"Minibatch stochastic gradient descent.\"\"\"\n",
    "    def __init__(self, lr):\n",
    "        self.save_hyperparameters()\n",
    "\n",
    "    def apply_gradients(self, grads_and_vars):\n",
    "        for grad, param in grads_and_vars:\n",
    "            param.assign_sub(self.lr * grad)"
   ]
  },
  {
   "cell_type": "code",
   "execution_count": 62,
   "metadata": {},
   "outputs": [],
   "source": [
    "@d2l.add_to_class(LinearRegressionScratch)  #@save\n",
    "def configure_optimizers(self):\n",
    "    return SGD(self.lr)"
   ]
  },
  {
   "cell_type": "code",
   "execution_count": 63,
   "metadata": {},
   "outputs": [],
   "source": [
    "@d2l.add_to_class(d2l.Trainer)  #@save\n",
    "def prepare_batch(self, batch):\n",
    "    return batch\n",
    "\n",
    "@d2l.add_to_class(d2l.Trainer)  #@save\n",
    "def fit_epoch(self):\n",
    "    self.model.training = True\n",
    "    for batch in self.train_dataloader:\n",
    "        with tf.GradientTape() as tape:\n",
    "            loss = self.model.training_step(self.prepare_batch(batch))\n",
    "        grads = tape.gradient(loss, self.model.trainable_variables)\n",
    "        if self.gradient_clip_val > 0:\n",
    "            grads = self.clip_gradients(self.gradient_clip_val, grads)\n",
    "        self.optim.apply_gradients(zip(grads, self.model.trainable_variables))\n",
    "        self.train_batch_idx += 1\n",
    "    if self.val_dataloader is None:\n",
    "        return\n",
    "    self.model.training = False\n",
    "    for batch in self.val_dataloader:\n",
    "        self.model.validation_step(self.prepare_batch(batch))\n",
    "        self.val_batch_idx += 1"
   ]
  },
  {
   "cell_type": "code",
   "execution_count": 64,
   "metadata": {},
   "outputs": [
    {
     "name": "stderr",
     "output_type": "stream",
     "text": [
      "UsageError: Line magic function `%tab` not found.\n"
     ]
    }
   ],
   "source": [
    "%tab all\n",
    "model = LinearRegressionScratch(2, lr=0.03)\n",
    "data = d2l.SyntheticRegressionData(w=tf.constant([2, -3.4]), b=4.2)\n",
    "trainer = d2l.Trainer(max_epochs=3)\n",
    "trainer.fit(model, data)"
   ]
  },
  {
   "cell_type": "code",
   "execution_count": 65,
   "metadata": {},
   "outputs": [
    {
     "name": "stdout",
     "output_type": "stream",
     "text": [
      "error in estimating w: [ 2.000777 -3.394001]\n",
      "error in estimating b: [4.2]\n"
     ]
    }
   ],
   "source": [
    "model = LinearRegressionScratch(2, lr=0.03)\n",
    "print(f'error in estimating w: {data.w - tf.reshape(model.w, data.w.shape)}')\n",
    "print(f'error in estimating b: {data.b - model.b}')"
   ]
  },
  {
   "cell_type": "code",
   "execution_count": 66,
   "metadata": {},
   "outputs": [],
   "source": [
    "class LinearRegression(d2l.Module):  #@save\n",
    "    \"\"\"The linear regression model implemented with high-level APIs.\"\"\"\n",
    "    def __init__(self, lr):\n",
    "        super().__init__()\n",
    "        self.save_hyperparameters()\n",
    "        initializer = tf.initializers.RandomNormal(stddev=0.01)\n",
    "        self.net = tf.keras.layers.Dense(1, kernel_initializer=initializer)"
   ]
  },
  {
   "cell_type": "code",
   "execution_count": 67,
   "metadata": {},
   "outputs": [],
   "source": [
    "@d2l.add_to_class(LinearRegression)  #@save\n",
    "def forward(self, X):\n",
    "    return self.net(X)"
   ]
  },
  {
   "cell_type": "code",
   "execution_count": 68,
   "metadata": {},
   "outputs": [],
   "source": [
    "@d2l.add_to_class(LinearRegression) #@save\n",
    "def loss(self, y_hat, y):\n",
    "    fn = tf.kears.losses.MeanSquaredError()\n",
    "    return fn(y, y_hat)"
   ]
  },
  {
   "cell_type": "code",
   "execution_count": 69,
   "metadata": {},
   "outputs": [],
   "source": [
    "@d2l.add_to_class(LinearRegression) #@save\n",
    "def configure_ptimizers(self):\n",
    "    return tf.keras.optimizers.SGD(self.lr)"
   ]
  },
  {
   "cell_type": "code",
   "execution_count": 70,
   "metadata": {},
   "outputs": [],
   "source": [
    "from tensorflow import keras"
   ]
  },
  {
   "cell_type": "code",
   "execution_count": 71,
   "metadata": {},
   "outputs": [
    {
     "ename": "AttributeError",
     "evalue": "module 'tensorflow' has no attribute 'kears'",
     "output_type": "error",
     "traceback": [
      "\u001b[1;31m---------------------------------------------------------------------------\u001b[0m",
      "\u001b[1;31mAttributeError\u001b[0m                            Traceback (most recent call last)",
      "\u001b[1;32m~\\AppData\\Local\\Temp/ipykernel_4364/3012446374.py\u001b[0m in \u001b[0;36m<module>\u001b[1;34m\u001b[0m\n\u001b[0;32m      2\u001b[0m \u001b[0mdata\u001b[0m \u001b[1;33m=\u001b[0m \u001b[0md2l\u001b[0m\u001b[1;33m.\u001b[0m\u001b[0mSyntheticRegressionData\u001b[0m\u001b[1;33m(\u001b[0m\u001b[0mw\u001b[0m\u001b[1;33m=\u001b[0m\u001b[0mtf\u001b[0m\u001b[1;33m.\u001b[0m\u001b[0mconstant\u001b[0m\u001b[1;33m(\u001b[0m\u001b[1;33m[\u001b[0m\u001b[1;36m2\u001b[0m\u001b[1;33m,\u001b[0m \u001b[1;33m-\u001b[0m\u001b[1;36m3.4\u001b[0m\u001b[1;33m]\u001b[0m\u001b[1;33m)\u001b[0m\u001b[1;33m,\u001b[0m \u001b[0mb\u001b[0m\u001b[1;33m=\u001b[0m\u001b[1;36m4.2\u001b[0m\u001b[1;33m)\u001b[0m\u001b[1;33m\u001b[0m\u001b[1;33m\u001b[0m\u001b[0m\n\u001b[0;32m      3\u001b[0m \u001b[0mtrainer\u001b[0m \u001b[1;33m=\u001b[0m \u001b[0md2l\u001b[0m\u001b[1;33m.\u001b[0m\u001b[0mTrainer\u001b[0m\u001b[1;33m(\u001b[0m\u001b[0mmax_epochs\u001b[0m\u001b[1;33m=\u001b[0m\u001b[1;36m3\u001b[0m\u001b[1;33m)\u001b[0m\u001b[1;33m\u001b[0m\u001b[1;33m\u001b[0m\u001b[0m\n\u001b[1;32m----> 4\u001b[1;33m \u001b[0mtrainer\u001b[0m\u001b[1;33m.\u001b[0m\u001b[0mfit\u001b[0m\u001b[1;33m(\u001b[0m\u001b[0mmodel\u001b[0m\u001b[1;33m,\u001b[0m \u001b[0mdata\u001b[0m\u001b[1;33m)\u001b[0m\u001b[1;33m\u001b[0m\u001b[1;33m\u001b[0m\u001b[0m\n\u001b[0m",
      "\u001b[1;32mc:\\Users\\silen\\anaconda3\\lib\\site-packages\\d2l\\tensorflow.py\u001b[0m in \u001b[0;36mfit\u001b[1;34m(self, model, data)\u001b[0m\n\u001b[0;32m    262\u001b[0m         \u001b[0mself\u001b[0m\u001b[1;33m.\u001b[0m\u001b[0mval_batch_idx\u001b[0m \u001b[1;33m=\u001b[0m \u001b[1;36m0\u001b[0m\u001b[1;33m\u001b[0m\u001b[1;33m\u001b[0m\u001b[0m\n\u001b[0;32m    263\u001b[0m         \u001b[1;32mfor\u001b[0m \u001b[0mself\u001b[0m\u001b[1;33m.\u001b[0m\u001b[0mepoch\u001b[0m \u001b[1;32min\u001b[0m \u001b[0mrange\u001b[0m\u001b[1;33m(\u001b[0m\u001b[0mself\u001b[0m\u001b[1;33m.\u001b[0m\u001b[0mmax_epochs\u001b[0m\u001b[1;33m)\u001b[0m\u001b[1;33m:\u001b[0m\u001b[1;33m\u001b[0m\u001b[1;33m\u001b[0m\u001b[0m\n\u001b[1;32m--> 264\u001b[1;33m             \u001b[0mself\u001b[0m\u001b[1;33m.\u001b[0m\u001b[0mfit_epoch\u001b[0m\u001b[1;33m(\u001b[0m\u001b[1;33m)\u001b[0m\u001b[1;33m\u001b[0m\u001b[1;33m\u001b[0m\u001b[0m\n\u001b[0m\u001b[0;32m    265\u001b[0m \u001b[1;33m\u001b[0m\u001b[0m\n\u001b[0;32m    266\u001b[0m     \u001b[1;32mdef\u001b[0m \u001b[0mfit_epoch\u001b[0m\u001b[1;33m(\u001b[0m\u001b[0mself\u001b[0m\u001b[1;33m)\u001b[0m\u001b[1;33m:\u001b[0m\u001b[1;33m\u001b[0m\u001b[1;33m\u001b[0m\u001b[0m\n",
      "\u001b[1;32m~\\AppData\\Local\\Temp/ipykernel_4364/638115287.py\u001b[0m in \u001b[0;36mfit_epoch\u001b[1;34m(self)\u001b[0m\n\u001b[0;32m      8\u001b[0m     \u001b[1;32mfor\u001b[0m \u001b[0mbatch\u001b[0m \u001b[1;32min\u001b[0m \u001b[0mself\u001b[0m\u001b[1;33m.\u001b[0m\u001b[0mtrain_dataloader\u001b[0m\u001b[1;33m:\u001b[0m\u001b[1;33m\u001b[0m\u001b[1;33m\u001b[0m\u001b[0m\n\u001b[0;32m      9\u001b[0m         \u001b[1;32mwith\u001b[0m \u001b[0mtf\u001b[0m\u001b[1;33m.\u001b[0m\u001b[0mGradientTape\u001b[0m\u001b[1;33m(\u001b[0m\u001b[1;33m)\u001b[0m \u001b[1;32mas\u001b[0m \u001b[0mtape\u001b[0m\u001b[1;33m:\u001b[0m\u001b[1;33m\u001b[0m\u001b[1;33m\u001b[0m\u001b[0m\n\u001b[1;32m---> 10\u001b[1;33m             \u001b[0mloss\u001b[0m \u001b[1;33m=\u001b[0m \u001b[0mself\u001b[0m\u001b[1;33m.\u001b[0m\u001b[0mmodel\u001b[0m\u001b[1;33m.\u001b[0m\u001b[0mtraining_step\u001b[0m\u001b[1;33m(\u001b[0m\u001b[0mself\u001b[0m\u001b[1;33m.\u001b[0m\u001b[0mprepare_batch\u001b[0m\u001b[1;33m(\u001b[0m\u001b[0mbatch\u001b[0m\u001b[1;33m)\u001b[0m\u001b[1;33m)\u001b[0m\u001b[1;33m\u001b[0m\u001b[1;33m\u001b[0m\u001b[0m\n\u001b[0m\u001b[0;32m     11\u001b[0m         \u001b[0mgrads\u001b[0m \u001b[1;33m=\u001b[0m \u001b[0mtape\u001b[0m\u001b[1;33m.\u001b[0m\u001b[0mgradient\u001b[0m\u001b[1;33m(\u001b[0m\u001b[0mloss\u001b[0m\u001b[1;33m,\u001b[0m \u001b[0mself\u001b[0m\u001b[1;33m.\u001b[0m\u001b[0mmodel\u001b[0m\u001b[1;33m.\u001b[0m\u001b[0mtrainable_variables\u001b[0m\u001b[1;33m)\u001b[0m\u001b[1;33m\u001b[0m\u001b[1;33m\u001b[0m\u001b[0m\n\u001b[0;32m     12\u001b[0m         \u001b[1;32mif\u001b[0m \u001b[0mself\u001b[0m\u001b[1;33m.\u001b[0m\u001b[0mgradient_clip_val\u001b[0m \u001b[1;33m>\u001b[0m \u001b[1;36m0\u001b[0m\u001b[1;33m:\u001b[0m\u001b[1;33m\u001b[0m\u001b[1;33m\u001b[0m\u001b[0m\n",
      "\u001b[1;32mc:\\Users\\silen\\anaconda3\\lib\\site-packages\\d2l\\tensorflow.py\u001b[0m in \u001b[0;36mtraining_step\u001b[1;34m(self, batch)\u001b[0m\n\u001b[0;32m    199\u001b[0m             'train_' if train else 'val_') + key, every_n=int(n))\n\u001b[0;32m    200\u001b[0m     \u001b[1;32mdef\u001b[0m \u001b[0mtraining_step\u001b[0m\u001b[1;33m(\u001b[0m\u001b[0mself\u001b[0m\u001b[1;33m,\u001b[0m \u001b[0mbatch\u001b[0m\u001b[1;33m)\u001b[0m\u001b[1;33m:\u001b[0m\u001b[1;33m\u001b[0m\u001b[1;33m\u001b[0m\u001b[0m\n\u001b[1;32m--> 201\u001b[1;33m         \u001b[0ml\u001b[0m \u001b[1;33m=\u001b[0m \u001b[0mself\u001b[0m\u001b[1;33m.\u001b[0m\u001b[0mloss\u001b[0m\u001b[1;33m(\u001b[0m\u001b[0mself\u001b[0m\u001b[1;33m(\u001b[0m\u001b[1;33m*\u001b[0m\u001b[0mbatch\u001b[0m\u001b[1;33m[\u001b[0m\u001b[1;33m:\u001b[0m\u001b[1;33m-\u001b[0m\u001b[1;36m1\u001b[0m\u001b[1;33m]\u001b[0m\u001b[1;33m)\u001b[0m\u001b[1;33m,\u001b[0m \u001b[0mbatch\u001b[0m\u001b[1;33m[\u001b[0m\u001b[1;33m-\u001b[0m\u001b[1;36m1\u001b[0m\u001b[1;33m]\u001b[0m\u001b[1;33m)\u001b[0m\u001b[1;33m\u001b[0m\u001b[1;33m\u001b[0m\u001b[0m\n\u001b[0m\u001b[0;32m    202\u001b[0m         \u001b[0mself\u001b[0m\u001b[1;33m.\u001b[0m\u001b[0mplot\u001b[0m\u001b[1;33m(\u001b[0m\u001b[1;34m'loss'\u001b[0m\u001b[1;33m,\u001b[0m \u001b[0ml\u001b[0m\u001b[1;33m,\u001b[0m \u001b[0mtrain\u001b[0m\u001b[1;33m=\u001b[0m\u001b[1;32mTrue\u001b[0m\u001b[1;33m)\u001b[0m\u001b[1;33m\u001b[0m\u001b[1;33m\u001b[0m\u001b[0m\n\u001b[0;32m    203\u001b[0m         \u001b[1;32mreturn\u001b[0m \u001b[0ml\u001b[0m\u001b[1;33m\u001b[0m\u001b[1;33m\u001b[0m\u001b[0m\n",
      "\u001b[1;32m~\\AppData\\Local\\Temp/ipykernel_4364/3162295762.py\u001b[0m in \u001b[0;36mloss\u001b[1;34m(self, y_hat, y)\u001b[0m\n\u001b[0;32m      1\u001b[0m \u001b[1;33m@\u001b[0m\u001b[0md2l\u001b[0m\u001b[1;33m.\u001b[0m\u001b[0madd_to_class\u001b[0m\u001b[1;33m(\u001b[0m\u001b[0mLinearRegression\u001b[0m\u001b[1;33m)\u001b[0m \u001b[1;31m#@save\u001b[0m\u001b[1;33m\u001b[0m\u001b[1;33m\u001b[0m\u001b[0m\n\u001b[0;32m      2\u001b[0m \u001b[1;32mdef\u001b[0m \u001b[0mloss\u001b[0m\u001b[1;33m(\u001b[0m\u001b[0mself\u001b[0m\u001b[1;33m,\u001b[0m \u001b[0my_hat\u001b[0m\u001b[1;33m,\u001b[0m \u001b[0my\u001b[0m\u001b[1;33m)\u001b[0m\u001b[1;33m:\u001b[0m\u001b[1;33m\u001b[0m\u001b[1;33m\u001b[0m\u001b[0m\n\u001b[1;32m----> 3\u001b[1;33m     \u001b[0mfn\u001b[0m \u001b[1;33m=\u001b[0m \u001b[0mtf\u001b[0m\u001b[1;33m.\u001b[0m\u001b[0mkears\u001b[0m\u001b[1;33m.\u001b[0m\u001b[0mlosses\u001b[0m\u001b[1;33m.\u001b[0m\u001b[0mMeanSquaredError\u001b[0m\u001b[1;33m(\u001b[0m\u001b[1;33m)\u001b[0m\u001b[1;33m\u001b[0m\u001b[1;33m\u001b[0m\u001b[0m\n\u001b[0m\u001b[0;32m      4\u001b[0m     \u001b[1;32mreturn\u001b[0m \u001b[0mfn\u001b[0m\u001b[1;33m(\u001b[0m\u001b[0my\u001b[0m\u001b[1;33m,\u001b[0m \u001b[0my_hat\u001b[0m\u001b[1;33m)\u001b[0m\u001b[1;33m\u001b[0m\u001b[1;33m\u001b[0m\u001b[0m\n",
      "\u001b[1;31mAttributeError\u001b[0m: module 'tensorflow' has no attribute 'kears'"
     ]
    }
   ],
   "source": [
    "model = LinearRegression(lr=0.03)\n",
    "data = d2l.SyntheticRegressionData(w=tf.constant([2, -3.4]), b=4.2)\n",
    "trainer = d2l.Trainer(max_epochs=3)\n",
    "trainer.fit(model, data)"
   ]
  }
 ],
 "metadata": {
  "kernelspec": {
   "display_name": "base",
   "language": "python",
   "name": "python3"
  },
  "language_info": {
   "codemirror_mode": {
    "name": "ipython",
    "version": 3
   },
   "file_extension": ".py",
   "mimetype": "text/x-python",
   "name": "python",
   "nbconvert_exporter": "python",
   "pygments_lexer": "ipython3",
   "version": "3.9.7"
  },
  "orig_nbformat": 4,
  "vscode": {
   "interpreter": {
    "hash": "cf63d685a344ee671db6039bdaa37e5510348e6b7a82849105807da2b319f756"
   }
  }
 },
 "nbformat": 4,
 "nbformat_minor": 2
}
